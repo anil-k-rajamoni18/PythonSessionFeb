{
 "cells": [
  {
   "cell_type": "markdown",
   "id": "0aacef8a",
   "metadata": {},
   "source": [
    "### Python 2 Vs Python 3\n",
    "\n",
    "<img src = \"https://media.geeksforgeeks.org/wp-content/uploads/20190503154837/Python2_python3.jpg\"  width=\"500\" height=\"600\">"
   ]
  },
  {
   "cell_type": "code",
   "execution_count": null,
   "id": "fd02f9b1",
   "metadata": {
    "scrolled": true
   },
   "outputs": [],
   "source": [
    "name = \"Kumar Rajamoni\"\n",
    "fname = \"రామ్\"\n",
    "lname = \"కృష్ణుడు\"\n",
    "greet = \"नमस्ते\"\n",
    "\n",
    "print(name)\n",
    "\n",
    "print(fname +\" \"+lname)\n",
    "\n",
    "print(greet)"
   ]
  },
  {
   "cell_type": "code",
   "execution_count": null,
   "id": "be64265a",
   "metadata": {},
   "outputs": [],
   "source": [
    "print(ord(\"a\"),ord(\"z\"))"
   ]
  },
  {
   "cell_type": "code",
   "execution_count": null,
   "id": "805c4302",
   "metadata": {},
   "outputs": [],
   "source": [
    "print(ord(\"A\"),ord(\"Z\"))"
   ]
  },
  {
   "cell_type": "code",
   "execution_count": null,
   "id": "fb7bd58e",
   "metadata": {},
   "outputs": [],
   "source": [
    "# chr(number)\n",
    "# ord(character)\n",
    "\n",
    "print(ord(\"a\")) \n",
    "print(ord(\"न\"))\n",
    "print(ord(\"&\"))"
   ]
  },
  {
   "cell_type": "code",
   "execution_count": null,
   "id": "05ae2024",
   "metadata": {
    "scrolled": true
   },
   "outputs": [],
   "source": [
    "print(chr(97))\n",
    "print(chr(67))"
   ]
  },
  {
   "cell_type": "code",
   "execution_count": null,
   "id": "92c68570",
   "metadata": {},
   "outputs": [],
   "source": [
    "# bin() hex() oct()\n",
    "\n",
    "print(bin(15897978999))"
   ]
  },
  {
   "cell_type": "code",
   "execution_count": null,
   "id": "a07ff7a7",
   "metadata": {},
   "outputs": [],
   "source": [
    "print(hex(16))"
   ]
  },
  {
   "cell_type": "code",
   "execution_count": null,
   "id": "31ee78c5",
   "metadata": {},
   "outputs": [],
   "source": [
    "print(oct(16))"
   ]
  },
  {
   "cell_type": "code",
   "execution_count": null,
   "id": "24242c1f",
   "metadata": {},
   "outputs": [],
   "source": [
    "a = 0b101\n",
    "b = 0b1000\n",
    "print(a+b)\n",
    "print(bin(a+b))"
   ]
  },
  {
   "cell_type": "code",
   "execution_count": null,
   "id": "9721d1c4",
   "metadata": {},
   "outputs": [],
   "source": []
  },
  {
   "cell_type": "markdown",
   "id": "1dd311ec",
   "metadata": {},
   "source": [
    "#### Python Syntax\n",
    "\n",
    " - A Python script can be written in Python interactive shell or in the code editor. A Python file has an extension .py.\n",
    " \n",
    "##### Python Indentation\n",
    "\n",
    "- An indentation is a white space in a text. \n",
    "- Indentation in many languages is used to increase code readability, however Python uses indentation to create block of codes. - In other programming languages curly brackets are used to create blocks of codes instead of indentation.\n",
    "- One of the common bugs when writing python code is wrong indentation."
   ]
  },
  {
   "cell_type": "code",
   "execution_count": null,
   "id": "9ac55d6c",
   "metadata": {
    "scrolled": true
   },
   "outputs": [],
   "source": [
    "print('good morning')\n",
    "\n",
    "# syntax window : SHIFT+TAB"
   ]
  },
  {
   "cell_type": "code",
   "execution_count": null,
   "id": "6a1013cb",
   "metadata": {
    "scrolled": true
   },
   "outputs": [],
   "source": [
    "if condition{//start\n",
    "    \n",
    "    //block code\n",
    "}//end\n",
    "\n",
    "\n",
    "if condition:\n",
    "    #block of code.\n",
    "    #block of code2\n",
    "else:\n",
    "    #block of else code\n",
    "    "
   ]
  },
  {
   "cell_type": "code",
   "execution_count": null,
   "id": "6649e262",
   "metadata": {
    "scrolled": true
   },
   "outputs": [],
   "source": [
    "# java\n",
    "int time = 20;\n",
    "if (time < 18) {\n",
    "  System.out.println(\"Good day.\");\n",
    "} else {\n",
    "  System.out.println(\"Good evening.\");\n",
    "}"
   ]
  },
  {
   "cell_type": "code",
   "execution_count": null,
   "id": "faa7c0c1",
   "metadata": {
    "scrolled": true
   },
   "outputs": [],
   "source": [
    "# python \n",
    "\n",
    "time = 20;\n",
    "if (time < 18):\n",
    "    print(\"Good day.\");\n",
    "    print(\"Hello\")\n",
    "    #block of scope\n",
    "else:\n",
    "    print(\"Good evening.\");\n",
    "    #block of else\n"
   ]
  },
  {
   "cell_type": "code",
   "execution_count": null,
   "id": "637edebf",
   "metadata": {},
   "outputs": [],
   "source": [
    "if 21<20:\n",
    "    print(\"lesser\")\n",
    "    print(\"if block\")\n",
    "#end of if \n",
    "else:\n",
    "    print(\"greater\")\n",
    "#end of else"
   ]
  },
  {
   "cell_type": "code",
   "execution_count": null,
   "id": "791e0763",
   "metadata": {
    "scrolled": true
   },
   "outputs": [],
   "source": [
    "salary = 1909\n",
    "\n",
    "if salary>1090893:\n",
    "    print(\"good salary\")\n",
    "else:\n",
    "    print(\"AVG \")\n",
    "    "
   ]
  },
  {
   "cell_type": "code",
   "execution_count": null,
   "id": "d0415da2",
   "metadata": {
    "scrolled": true
   },
   "outputs": [],
   "source": [
    "name = \"Kumar\"\n",
    "if name==\"Kumar\":\n",
    "    print(\"IF ELSE\")\n",
    "    print(\"TRUE\")\n",
    "    if 10>50: #True\n",
    "        print(\"nested true\")\n",
    "    else: #False\n",
    "        print(\"nested else\")\n",
    "else:\n",
    "    print(\"FALSE\")"
   ]
  },
  {
   "cell_type": "code",
   "execution_count": null,
   "id": "4f0ffff3",
   "metadata": {
    "scrolled": true
   },
   "outputs": [],
   "source": []
  },
  {
   "cell_type": "code",
   "execution_count": null,
   "id": "fee6cc64",
   "metadata": {
    "scrolled": true
   },
   "outputs": [],
   "source": []
  },
  {
   "cell_type": "markdown",
   "id": "9313d463",
   "metadata": {},
   "source": [
    "### OUTPUT Function\n",
    "\n",
    "- It is used to print the information or objects data to the console \n",
    "\n",
    ">syntax:\n",
    "\n",
    "\n",
    "> print(value, ..., sep=' ', end='\\n', file=sys.stdout, flush=False)\n",
    "\n",
    "\n",
    "- attributes / args\n",
    "    - value \n",
    "    - sep\n",
    "    - end\n",
    "    - file \n",
    "    - flush"
   ]
  },
  {
   "cell_type": "code",
   "execution_count": null,
   "id": "9a5c1ed0",
   "metadata": {},
   "outputs": [],
   "source": [
    "print()"
   ]
  },
  {
   "cell_type": "code",
   "execution_count": null,
   "id": "6e84e15c",
   "metadata": {
    "scrolled": true
   },
   "outputs": [],
   "source": [
    "print(\"Hello World Python ..\")"
   ]
  },
  {
   "cell_type": "code",
   "execution_count": null,
   "id": "3e806867",
   "metadata": {
    "scrolled": true
   },
   "outputs": [],
   "source": [
    "print('Hii Hey')"
   ]
  },
  {
   "cell_type": "code",
   "execution_count": null,
   "id": "e94fca63",
   "metadata": {},
   "outputs": [],
   "source": [
    "print(\"Jan session\")"
   ]
  },
  {
   "cell_type": "code",
   "execution_count": null,
   "id": "6bb3afac",
   "metadata": {},
   "outputs": [],
   "source": [
    "print(\"\"\"Python Session\n",
    "Jan \n",
    "Discussing \n",
    "Python print() \n",
    "method\"\"\")"
   ]
  },
  {
   "cell_type": "code",
   "execution_count": null,
   "id": "f8110714",
   "metadata": {},
   "outputs": [],
   "source": [
    "print('''\n",
    "        Python Session\n",
    "        Jan \n",
    "        Discussing \n",
    "        Python print() \n",
    "        method\n",
    "        '''\n",
    "     )"
   ]
  },
  {
   "cell_type": "code",
   "execution_count": null,
   "id": "42a8efb1",
   "metadata": {
    "scrolled": true
   },
   "outputs": [],
   "source": [
    "print('''It's \"a\" boook''') #It's a book"
   ]
  },
  {
   "cell_type": "code",
   "execution_count": null,
   "id": "addc207f",
   "metadata": {
    "scrolled": true
   },
   "outputs": [],
   "source": [
    "print('Hey Geeks') #string\n",
    "\n",
    "print(10) #int 0-9\n",
    "\n",
    "print(10.2) #float\n",
    "\n",
    "print(1+2j) #complex\n",
    "\n",
    "print(True) #boolean True False\n",
    "\n",
    "print([10,20,30,40]) #list\n",
    "\n",
    "print((\"IND\",\"NZ\",\"AUS\")) #tuple\n",
    "\n",
    "print({\"blue\",\"yellow\",\"red\",\"blue\"}) #set\n",
    "\n",
    "print({\"name\":\"Kumar\",\"course\":\"Python\",\"fee\":10.23893}) #dictionary"
   ]
  },
  {
   "cell_type": "code",
   "execution_count": null,
   "id": "5a1f98a7",
   "metadata": {
    "scrolled": true
   },
   "outputs": [],
   "source": [
    "# datatype varName = value;\n",
    "\n",
    "int age = 26;\n",
    "float salary = 1282.3793\n",
    "String name = \"Kumar\"\n",
    "\n",
    "#static type , java , c , c++\n",
    "#they are fixed size "
   ]
  },
  {
   "cell_type": "code",
   "execution_count": null,
   "id": "b2e0a2a1",
   "metadata": {
    "scrolled": true
   },
   "outputs": [],
   "source": []
  },
  {
   "cell_type": "code",
   "execution_count": null,
   "id": "31503117",
   "metadata": {
    "scrolled": true
   },
   "outputs": [],
   "source": [
    "#varname = value \n",
    "\n",
    "name = \"Kumar\" #str\n",
    "role = \"SDE\"   #str\n",
    "age = 45       #int\n",
    "\n",
    "print(name)\n",
    "print(role)\n",
    "print(age)\n",
    "print(type(name))\n",
    "print(type(role))\n",
    "print(type(age))\n",
    "\n",
    "age = 37.23\n",
    "\n",
    "print(age,type(age))"
   ]
  },
  {
   "cell_type": "code",
   "execution_count": null,
   "id": "08177213",
   "metadata": {},
   "outputs": [],
   "source": [
    "a = \"Kumar\"\n",
    "print(a,type(a))\n",
    "\n",
    "a = 10\n",
    "print(a,type(a))\n",
    "\n",
    "a = 10.2\n",
    "print(a,type(a))\n",
    "\n",
    "\n",
    "a = True\n",
    "print(a,type(a))\n",
    "\n",
    "\n",
    "a = 1+2j\n",
    "print(a,type(a))"
   ]
  },
  {
   "cell_type": "code",
   "execution_count": null,
   "id": "f94046fa",
   "metadata": {
    "scrolled": true
   },
   "outputs": [],
   "source": [
    "print(name,role,age)"
   ]
  },
  {
   "cell_type": "code",
   "execution_count": null,
   "id": "db3b30ff",
   "metadata": {
    "scrolled": true
   },
   "outputs": [],
   "source": [
    "print(name,age,role,sep=\"-->\")"
   ]
  },
  {
   "cell_type": "code",
   "execution_count": null,
   "id": "cdbf5850",
   "metadata": {
    "scrolled": true
   },
   "outputs": [],
   "source": [
    "print(name,age,role,sep=\" # \")"
   ]
  },
  {
   "cell_type": "code",
   "execution_count": null,
   "id": "a91bc953",
   "metadata": {
    "scrolled": true
   },
   "outputs": [],
   "source": [
    "print(name,age,role,sep=\"\\n\")"
   ]
  },
  {
   "cell_type": "code",
   "execution_count": null,
   "id": "fc744fa2",
   "metadata": {},
   "outputs": [],
   "source": []
  },
  {
   "cell_type": "code",
   "execution_count": null,
   "id": "3bec3846",
   "metadata": {
    "scrolled": true
   },
   "outputs": [],
   "source": [
    "print(age,name,sep = \",\")"
   ]
  },
  {
   "cell_type": "code",
   "execution_count": null,
   "id": "1ef86ade",
   "metadata": {
    "scrolled": true
   },
   "outputs": [],
   "source": [
    "# end = \"\\n\"\n",
    "\n",
    "for i in range(0,5):\n",
    "    print(i) #end=\"\\n\"\n",
    "    "
   ]
  },
  {
   "cell_type": "code",
   "execution_count": null,
   "id": "2028d8cc",
   "metadata": {
    "scrolled": true
   },
   "outputs": [],
   "source": [
    "#end= \"\\n\"\n",
    "for i in range(5):\n",
    "    print(i, end = \" \")"
   ]
  },
  {
   "cell_type": "code",
   "execution_count": null,
   "id": "40e9e57b",
   "metadata": {
    "scrolled": true
   },
   "outputs": [],
   "source": [
    "#file=sys.stdout -->  screen /monitor\n",
    "\n",
    "s = open(\"feb03.txt\",mode=\"a\") #append mode\n",
    "\n",
    "print(\"Hey Hi Introduction to python\",file=s)\n",
    "\n"
   ]
  },
  {
   "cell_type": "code",
   "execution_count": null,
   "id": "0bc09742",
   "metadata": {
    "scrolled": true
   },
   "outputs": [],
   "source": [
    "print() #\"newline\""
   ]
  },
  {
   "cell_type": "code",
   "execution_count": null,
   "id": "50fab813",
   "metadata": {
    "scrolled": true
   },
   "outputs": [],
   "source": [
    "a = 10\n",
    "b = 30\n",
    "\n",
    "print(a)\n",
    "print()\n",
    "print()\n",
    "print()\n",
    "print() #newline because end=\"\\n\"\n",
    "print(b)"
   ]
  },
  {
   "cell_type": "code",
   "execution_count": null,
   "id": "8ffcd401",
   "metadata": {
    "scrolled": true
   },
   "outputs": [],
   "source": [
    "print(value,sep,end,file,flush)"
   ]
  },
  {
   "cell_type": "code",
   "execution_count": null,
   "id": "33e5e1c6",
   "metadata": {
    "scrolled": true
   },
   "outputs": [],
   "source": [
    "print(\"Hello\")\n"
   ]
  },
  {
   "cell_type": "code",
   "execution_count": null,
   "id": "9a24444a",
   "metadata": {
    "scrolled": true
   },
   "outputs": [],
   "source": [
    "a = print(\"Hello\")\n",
    "print(a)"
   ]
  },
  {
   "cell_type": "code",
   "execution_count": null,
   "id": "a8fa0df3",
   "metadata": {},
   "outputs": [],
   "source": [
    "print(print(\"hello python\"))"
   ]
  },
  {
   "cell_type": "code",
   "execution_count": null,
   "id": "d3e7dae9",
   "metadata": {
    "scrolled": true
   },
   "outputs": [],
   "source": [
    "b = print()\n",
    "print(b)"
   ]
  },
  {
   "cell_type": "code",
   "execution_count": null,
   "id": "90d96c78",
   "metadata": {
    "scrolled": true
   },
   "outputs": [],
   "source": [
    "help(print())"
   ]
  },
  {
   "cell_type": "code",
   "execution_count": null,
   "id": "51e20873",
   "metadata": {},
   "outputs": [],
   "source": [
    "dir(print)"
   ]
  },
  {
   "cell_type": "code",
   "execution_count": null,
   "id": "0e0e8f43",
   "metadata": {
    "scrolled": true
   },
   "outputs": [],
   "source": [
    "#  storing print() calling  in variable\n",
    "a = print(\"Hi\") #calling\n",
    "\n",
    "\n",
    "print(a)"
   ]
  },
  {
   "cell_type": "code",
   "execution_count": null,
   "id": "bc9b1abc",
   "metadata": {
    "scrolled": true
   },
   "outputs": [],
   "source": [
    "#Very function in Python by default they have to return some value , \n",
    "\n",
    "#if they don't return any values, interpreter will return None value.\n",
    "\n",
    "\n",
    "\n",
    "# print() method by default it will not return any value , interpreter will return NONE by default"
   ]
  },
  {
   "cell_type": "code",
   "execution_count": null,
   "id": "29236b10",
   "metadata": {},
   "outputs": [],
   "source": [
    "def fun():\n",
    "    print(\"Addition is\",(10+20))\n",
    "    \n",
    "fun()"
   ]
  },
  {
   "cell_type": "code",
   "execution_count": null,
   "id": "9c28d923",
   "metadata": {},
   "outputs": [],
   "source": [
    "r = fun()\n",
    "print(a)"
   ]
  },
  {
   "cell_type": "code",
   "execution_count": null,
   "id": "c606c7c6",
   "metadata": {},
   "outputs": [],
   "source": [
    "def fun1():\n",
    "    print(\"am inside fun1 method\")\n",
    "    return 1002.22\n",
    "\n",
    "r1 = fun1()\n",
    "\n",
    "print(r1)"
   ]
  },
  {
   "cell_type": "code",
   "execution_count": null,
   "id": "9e9b9321",
   "metadata": {},
   "outputs": [],
   "source": [
    "\n",
    "    "
   ]
  },
  {
   "cell_type": "code",
   "execution_count": null,
   "id": "f9d82ed2",
   "metadata": {},
   "outputs": [],
   "source": []
  },
  {
   "cell_type": "code",
   "execution_count": null,
   "id": "c8baadf5",
   "metadata": {
    "scrolled": true
   },
   "outputs": [],
   "source": [
    "print(print(print(\"Hi\")))\n",
    "\n",
    "print(print(print()))\n",
    "\n"
   ]
  },
  {
   "cell_type": "markdown",
   "id": "74162d82",
   "metadata": {},
   "source": [
    "### Comments\n",
    "\n",
    "> Comments are very important to make the code more readable and to leave remarks in our code. Python does not run comment parts of our code. Any text starting with hash(#) in Python is a comment.\n",
    "\n",
    "\n",
    "####  Single Line Comment\n",
    "\n",
    "        # This is the first comment\n",
    "        # This is the second comment\n",
    "        # Python is eating the world\n",
    "        \n",
    "#### Multiline Comment\n",
    "\n",
    "Triple quote can be used for multiline comment if it is not assigned to a variable\n",
    "\n",
    "    \"\"\"This is multiline comment\n",
    "    multiline comment takes multiple lines.\n",
    "    python is eating the world\n",
    "    \"\"\"\n"
   ]
  },
  {
   "cell_type": "code",
   "execution_count": null,
   "id": "ad3ac2ec",
   "metadata": {},
   "outputs": [],
   "source": [
    "#print method \n",
    "\n",
    "print(10)\n",
    "\n",
    "#print method for list\n",
    "#tuple \n",
    "#set dictionary\n",
    "\n",
    "print([10,20])"
   ]
  },
  {
   "cell_type": "code",
   "execution_count": null,
   "id": "4881bf01",
   "metadata": {
    "scrolled": true
   },
   "outputs": [],
   "source": [
    "#single line comment.\n",
    "var = \"kumar\" # var declaration \n",
    "\n",
    "\n",
    "#multi line comment\n",
    "def fun(a,b):\n",
    "    '''\n",
    "     this is a function which \n",
    "     return addition\n",
    "    '''\n",
    "    print(a+b)\n",
    "    \n"
   ]
  },
  {
   "cell_type": "code",
   "execution_count": null,
   "id": "9d804cc4",
   "metadata": {},
   "outputs": [],
   "source": []
  },
  {
   "cell_type": "code",
   "execution_count": null,
   "id": "96e1adf4",
   "metadata": {},
   "outputs": [],
   "source": [
    "fun(10,20)"
   ]
  },
  {
   "cell_type": "code",
   "execution_count": null,
   "id": "f4ccc92d",
   "metadata": {
    "scrolled": true
   },
   "outputs": [],
   "source": [
    "#Take new inputs from keyboard\n",
    "'''\n",
    "we are learning python \n",
    "comments \n",
    "single comments \n",
    "multiline comments\n",
    "'''"
   ]
  },
  {
   "cell_type": "code",
   "execution_count": null,
   "id": "53940e73",
   "metadata": {
    "scrolled": true
   },
   "outputs": [],
   "source": []
  },
  {
   "cell_type": "code",
   "execution_count": null,
   "id": "4a89a601",
   "metadata": {
    "scrolled": true
   },
   "outputs": [],
   "source": [
    "varName = value"
   ]
  },
  {
   "cell_type": "markdown",
   "id": "0369f99a",
   "metadata": {},
   "source": [
    "## Variables "
   ]
  },
  {
   "cell_type": "markdown",
   "id": "a248a0af",
   "metadata": {},
   "source": [
    "- Variables store data in a computer memory.\n",
    ">  Mnemonic variables are recommended to use in many programming languages.\n",
    "- A mnemonic variable is a variable name that can be easily remembered and associated. \n",
    "> A variable refers to a memory address in which data is stored. Number at the beginning, special character, hyphen are not allowed when naming a variable. \n",
    "\n",
    "- *A variable can have a short name (like x, y, z), but a more descriptive name (firstname, lastname, age, country) is highly recommended.*"
   ]
  },
  {
   "cell_type": "markdown",
   "id": "b9b6eb4c",
   "metadata": {},
   "source": [
    "### Rules\n",
    "\n",
    "Python Variable Name Rules\n",
    "\n",
    "    - A variable name must start with a letter or the underscore character\n",
    "    - A variable name cannot start with a number\n",
    "    - A variable name can only contain alpha-numeric characters and underscores (A-z, 0-9, and _ )\n",
    "    - Variable names are case-sensitive (firstname, Firstname, FirstName and FIRSTNAME) are different variables)\n",
    "    - A variable cannot have same name as Reserved word or KEYWORD."
   ]
  },
  {
   "cell_type": "markdown",
   "id": "f7b6d8d5",
   "metadata": {},
   "source": [
    "syntax:\n",
    "    \n",
    "    variableName = value \n",
    "    \n",
    "    value = strings : \"kumar\"\n",
    "    value = integers : 0-9\n",
    "    value = float  : 0.0 - 9.9 \n",
    "    value : boolean : True or False\n",
    "    value : complex : 1+2j  "
   ]
  },
  {
   "cell_type": "code",
   "execution_count": null,
   "id": "a383f957",
   "metadata": {
    "scrolled": true
   },
   "outputs": [],
   "source": []
  },
  {
   "cell_type": "code",
   "execution_count": null,
   "id": "0029c202",
   "metadata": {
    "scrolled": true
   },
   "outputs": [],
   "source": [
    "# firstname\n",
    "# lastname\n",
    "# age\n",
    "# country\n",
    "# city\n",
    "# first_name\n",
    "# last_name\n",
    "# capital_city\n",
    "# _if # if we want to use reserved word as a variable\n",
    "# year_2021\n",
    "# year2021\n",
    "# current_year_2021\n",
    "# birth_year\n",
    "# num1\n",
    "# num2"
   ]
  },
  {
   "cell_type": "code",
   "execution_count": null,
   "id": "d6c584a5",
   "metadata": {
    "scrolled": true
   },
   "outputs": [],
   "source": [
    "# first-name\n",
    "# first@name\n",
    "# first$name\n",
    "# num-1\n",
    "# 1num\n",
    "#if \n",
    "#True\n",
    "\n"
   ]
  },
  {
   "cell_type": "code",
   "execution_count": null,
   "id": "785ec64d",
   "metadata": {},
   "outputs": [],
   "source": []
  },
  {
   "cell_type": "code",
   "execution_count": 3,
   "id": "fe824cf0",
   "metadata": {
    "scrolled": true
   },
   "outputs": [
    {
     "name": "stdout",
     "output_type": "stream",
     "text": [
      "Kumar Rajamoni\n"
     ]
    }
   ],
   "source": [
    "student_name = \"Kumar Rajamoni\"\n",
    "\n",
    "print(student_name)"
   ]
  },
  {
   "cell_type": "code",
   "execution_count": 4,
   "id": "8a9f48f1",
   "metadata": {
    "scrolled": true
   },
   "outputs": [
    {
     "name": "stdout",
     "output_type": "stream",
     "text": [
      "['False', 'None', 'True', 'and', 'as', 'assert', 'async', 'await', 'break', 'class', 'continue', 'def', 'del', 'elif', 'else', 'except', 'finally', 'for', 'from', 'global', 'if', 'import', 'in', 'is', 'lambda', 'nonlocal', 'not', 'or', 'pass', 'raise', 'return', 'try', 'while', 'with', 'yield']\n",
      "35\n"
     ]
    }
   ],
   "source": [
    "#all KEYWORDS..\n",
    "import keyword\n",
    "\n",
    "print(keyword.kwlist)\n",
    "\n",
    "print(len(keyword.kwlist))"
   ]
  },
  {
   "cell_type": "code",
   "execution_count": 5,
   "id": "9ef0101e",
   "metadata": {
    "scrolled": true
   },
   "outputs": [
    {
     "ename": "SyntaxError",
     "evalue": "invalid syntax (<ipython-input-5-69d6eede3e29>, line 1)",
     "output_type": "error",
     "traceback": [
      "\u001b[1;36m  File \u001b[1;32m\"<ipython-input-5-69d6eede3e29>\"\u001b[1;36m, line \u001b[1;32m1\u001b[0m\n\u001b[1;33m    break = 10#invalid\u001b[0m\n\u001b[1;37m          ^\u001b[0m\n\u001b[1;31mSyntaxError\u001b[0m\u001b[1;31m:\u001b[0m invalid syntax\n"
     ]
    }
   ],
   "source": [
    "break = 10#invalid"
   ]
  },
  {
   "cell_type": "code",
   "execution_count": 1,
   "id": "1da927f8",
   "metadata": {
    "scrolled": true
   },
   "outputs": [],
   "source": [
    "print1 = \"Kumar\" #invalid \n"
   ]
  },
  {
   "cell_type": "code",
   "execution_count": 3,
   "id": "398243e1",
   "metadata": {},
   "outputs": [
    {
     "name": "stdout",
     "output_type": "stream",
     "text": [
      "Kumar\n"
     ]
    }
   ],
   "source": [
    "print(print1)"
   ]
  },
  {
   "cell_type": "code",
   "execution_count": null,
   "id": "70a9c816",
   "metadata": {},
   "outputs": [],
   "source": []
  },
  {
   "cell_type": "code",
   "execution_count": null,
   "id": "ae2d477c",
   "metadata": {},
   "outputs": [],
   "source": [
    "print(\"Hello world\")"
   ]
  },
  {
   "cell_type": "code",
   "execution_count": null,
   "id": "b97f0ed2",
   "metadata": {},
   "outputs": [],
   "source": [
    "name =\"kumar\"\n",
    "salary = 10.2793\n",
    "scores = [10,20,30,40]\n"
   ]
  },
  {
   "cell_type": "markdown",
   "id": "ed9f19cc",
   "metadata": {},
   "source": [
    "### Styling cases\n",
    "    - Pascal Case \n",
    "        - Every letter will be capital\n",
    "          used for classes\n",
    "        ex: StudentName\n",
    "        \n",
    "    - Camel case\n",
    "           Every Second Seq letter will be captial\n",
    "           we use for functions\n",
    "        ex: numOfStudents\n",
    "        \n",
    "        \n",
    "    - Snake Case\n",
    "        - join with _ underscore\n",
    "        - used for variables"
   ]
  },
  {
   "cell_type": "code",
   "execution_count": 4,
   "id": "56a8fd54",
   "metadata": {
    "scrolled": true
   },
   "outputs": [],
   "source": [
    "\n",
    "# Variables in Python\n",
    "first_name = 'Kumar'\n",
    "last_name = 'Rajamoni'\n",
    "country = 'India'\n",
    "city = 'Noida'\n",
    "age = 25\n",
    "salary = 60000.09039\n",
    "is_married = False\n",
    "skills = ['HTML', 'CSS', 'JS', 'React', 'Python','JAVA']\n",
    "person_info = {\n",
    "   'firstname':'Kumar',\n",
    "   'lastname':'Rajamoni',\n",
    "   'country':'India',\n",
    "   'city':'Hyd'\n",
    "   }"
   ]
  },
  {
   "cell_type": "code",
   "execution_count": 10,
   "id": "42a8507a",
   "metadata": {
    "scrolled": true
   },
   "outputs": [
    {
     "name": "stdout",
     "output_type": "stream",
     "text": [
      "My name is:  Kumar\n",
      "length is  5\n"
     ]
    }
   ],
   "source": [
    "name = \"Kumar\"\n",
    "\n",
    "print(\"My name is: \",name)\n",
    "print(\"length is \",len(name))"
   ]
  },
  {
   "cell_type": "code",
   "execution_count": 11,
   "id": "8a8a4ce8",
   "metadata": {
    "scrolled": true
   },
   "outputs": [
    {
     "name": "stdout",
     "output_type": "stream",
     "text": [
      "First name: Kumar\n",
      "First name length: 5\n",
      "Last name:  Rajamoni\n",
      "Last name length:  8\n",
      "Country:  India\n",
      "City:  Noida\n",
      "Age:  25\n",
      "Married:  False\n",
      "Skills:  ['HTML', 'CSS', 'JS', 'React', 'Python', 'JAVA']\n",
      "Person information:  {'firstname': 'Kumar', 'lastname': 'Rajamoni', 'country': 'India', 'city': 'Hyd'}\n"
     ]
    }
   ],
   "source": [
    "# Printing the values stored in the variables\n",
    "\n",
    "print('First name:', first_name)\n",
    "print('First name length:', len(first_name))\n",
    "print('Last name: ', last_name)\n",
    "print('Last name length: ', len(last_name))\n",
    "print('Country: ', country)\n",
    "print('City: ', city)\n",
    "print('Age: ', age)\n",
    "print('Married: ', is_married)\n",
    "print('Skills: ', skills)\n",
    "print('Person information: ', person_info)"
   ]
  },
  {
   "cell_type": "code",
   "execution_count": 14,
   "id": "f63fdba3",
   "metadata": {},
   "outputs": [
    {
     "name": "stdout",
     "output_type": "stream",
     "text": [
      "()\n",
      "<class 'tuple'>\n"
     ]
    }
   ],
   "source": [
    "num = ()\n",
    "print(num)\n",
    "print(type(num))"
   ]
  },
  {
   "cell_type": "code",
   "execution_count": 15,
   "id": "0e432d59",
   "metadata": {
    "scrolled": true
   },
   "outputs": [
    {
     "name": "stdout",
     "output_type": "stream",
     "text": [
      "10 <class 'int'>\n",
      "10.2 <class 'float'>\n",
      "python <class 'str'>\n",
      "(1+7j) <class 'complex'>\n"
     ]
    }
   ],
   "source": [
    "a = 10\n",
    "b = 10.2\n",
    "c = \"python\"\n",
    "d = 1+7j\n",
    "\n",
    "print(a , type(a))\n",
    "print(b, type(b))\n",
    "print(c , type(c))\n",
    "print(d, type(d))"
   ]
  },
  {
   "cell_type": "code",
   "execution_count": 16,
   "id": "cb69dabb",
   "metadata": {
    "scrolled": true
   },
   "outputs": [
    {
     "name": "stdout",
     "output_type": "stream",
     "text": [
      "Kumar <class 'str'> 1415627986480\n"
     ]
    }
   ],
   "source": [
    "print(first_name, type(first_name) , id(first_name))"
   ]
  },
  {
   "cell_type": "code",
   "execution_count": 17,
   "id": "eef8f9cf",
   "metadata": {
    "scrolled": true
   },
   "outputs": [
    {
     "name": "stdout",
     "output_type": "stream",
     "text": [
      "<class 'str'>\n",
      "<class 'int'>\n",
      "<class 'list'>\n"
     ]
    }
   ],
   "source": [
    "print(type(first_name))\n",
    "\n",
    "print(type(age))\n",
    "\n",
    "print(type(skills))"
   ]
  },
  {
   "cell_type": "code",
   "execution_count": 18,
   "id": "fa5798c7",
   "metadata": {
    "scrolled": true
   },
   "outputs": [
    {
     "name": "stdout",
     "output_type": "stream",
     "text": [
      "35 <class 'int'>\n"
     ]
    }
   ],
   "source": [
    "age = 35\n",
    "print(age , type(age))"
   ]
  },
  {
   "cell_type": "code",
   "execution_count": 19,
   "id": "3a852772",
   "metadata": {
    "scrolled": true
   },
   "outputs": [
    {
     "name": "stdout",
     "output_type": "stream",
     "text": [
      "67.6 <class 'float'>\n"
     ]
    }
   ],
   "source": [
    "age = 67.6\n",
    "print(age , type(age))"
   ]
  },
  {
   "cell_type": "code",
   "execution_count": 20,
   "id": "14289502",
   "metadata": {
    "scrolled": true
   },
   "outputs": [
    {
     "name": "stdout",
     "output_type": "stream",
     "text": [
      "Kumar <class 'str'>\n"
     ]
    }
   ],
   "source": [
    "age = \"Kumar\"\n",
    "print(age , type(age))"
   ]
  },
  {
   "cell_type": "code",
   "execution_count": 22,
   "id": "74f16325",
   "metadata": {},
   "outputs": [
    {
     "name": "stdout",
     "output_type": "stream",
     "text": [
      "10\n"
     ]
    }
   ],
   "source": [
    "y = 10\n",
    "print(y)"
   ]
  },
  {
   "cell_type": "code",
   "execution_count": 24,
   "id": "7300014a",
   "metadata": {},
   "outputs": [
    {
     "name": "stdout",
     "output_type": "stream",
     "text": [
      "67\n"
     ]
    }
   ],
   "source": [
    "num1 = 11\n",
    "num2 = 56\n",
    "print(num1 + num2)"
   ]
  },
  {
   "cell_type": "code",
   "execution_count": 33,
   "id": "44f38c41",
   "metadata": {},
   "outputs": [
    {
     "name": "stdout",
     "output_type": "stream",
     "text": [
      "kumar\n",
      "10.2\n",
      "10\n",
      "True\n",
      "10+2j\n"
     ]
    }
   ],
   "source": [
    "print(\"kumar\")\n",
    "print(\"10.2\")\n",
    "print(\"10\")\n",
    "print(\"True\")\n",
    "print(\"10+2j\")"
   ]
  },
  {
   "cell_type": "markdown",
   "id": "bdf3065a",
   "metadata": {},
   "source": [
    "### INPUT FUNCTION\n",
    " - input() used to read data from user or any input device.\n",
    " - by default it will read all types of data in STRING format as input.\n",
    " \n",
    "\n",
    "Syntax:\n",
    "    \n",
    "   >variable_name = input(\"Prompt\")\n",
    "    "
   ]
  },
  {
   "cell_type": "code",
   "execution_count": 26,
   "id": "1dac7abb",
   "metadata": {
    "scrolled": true
   },
   "outputs": [
    {
     "name": "stdout",
     "output_type": "stream",
     "text": [
      "10\n"
     ]
    }
   ],
   "source": [
    "age = 10 #static declaration\n",
    "print(age)"
   ]
  },
  {
   "cell_type": "code",
   "execution_count": 32,
   "id": "685623d9",
   "metadata": {
    "scrolled": true
   },
   "outputs": [
    {
     "name": "stdout",
     "output_type": "stream",
     "text": [
      "Enter the age : 43\n",
      "43 <class 'str'>\n"
     ]
    }
   ],
   "source": [
    "# dynamic declaration.\n",
    "age = input(\"Enter the age : \") #read data(int,float,bool,complex) in str format \n",
    "print(age , type(age))"
   ]
  },
  {
   "cell_type": "code",
   "execution_count": 34,
   "id": "a5c54709",
   "metadata": {
    "scrolled": true
   },
   "outputs": [
    {
     "name": "stdout",
     "output_type": "stream",
     "text": [
      "<class 'int'>\n",
      "<class 'str'>\n"
     ]
    }
   ],
   "source": [
    "print(type(45))\n",
    "\n",
    "print(type(\"45\"))"
   ]
  },
  {
   "cell_type": "code",
   "execution_count": 35,
   "id": "7d58b1c1",
   "metadata": {
    "scrolled": true
   },
   "outputs": [
    {
     "name": "stdout",
     "output_type": "stream",
     "text": [
      "Enter num1: 10\n",
      "Enter num2: 20\n",
      "1020\n"
     ]
    }
   ],
   "source": [
    "num1 = input(\"Enter num1: \")\n",
    "num2 = input(\"Enter num2: \")\n",
    "\n",
    "print(num1 + num2)"
   ]
  },
  {
   "cell_type": "code",
   "execution_count": 36,
   "id": "39cce4fa",
   "metadata": {
    "scrolled": true
   },
   "outputs": [
    {
     "name": "stdout",
     "output_type": "stream",
     "text": [
      "1020\n",
      "HiJava\n"
     ]
    }
   ],
   "source": [
    "print(\"10\"+\"20\")\n",
    "\n",
    "print(\"Hi\"+\"Java\")"
   ]
  },
  {
   "cell_type": "code",
   "execution_count": 37,
   "id": "89764a95",
   "metadata": {
    "scrolled": true
   },
   "outputs": [
    {
     "name": "stdout",
     "output_type": "stream",
     "text": [
      "enter a age: 67\n",
      "67 <class 'str'>\n",
      "67 <class 'int'>\n"
     ]
    }
   ],
   "source": [
    "age = input('enter a age: ')\n",
    "\n",
    "print(age , type(age))\n",
    "\n",
    "age = int(age) #string - int\n",
    "\n",
    "print(age , type(age))"
   ]
  },
  {
   "cell_type": "code",
   "execution_count": 40,
   "id": "9793e412",
   "metadata": {
    "scrolled": true
   },
   "outputs": [
    {
     "name": "stdout",
     "output_type": "stream",
     "text": [
      "Enter the age: 10a\n"
     ]
    },
    {
     "ename": "ValueError",
     "evalue": "invalid literal for int() with base 10: '10a'",
     "output_type": "error",
     "traceback": [
      "\u001b[1;31m---------------------------------------------------------------------------\u001b[0m",
      "\u001b[1;31mValueError\u001b[0m                                Traceback (most recent call last)",
      "\u001b[1;32m<ipython-input-40-3be5f0936e76>\u001b[0m in \u001b[0;36m<module>\u001b[1;34m\u001b[0m\n\u001b[1;32m----> 1\u001b[1;33m \u001b[0mage\u001b[0m \u001b[1;33m=\u001b[0m \u001b[0mint\u001b[0m\u001b[1;33m(\u001b[0m\u001b[0minput\u001b[0m\u001b[1;33m(\u001b[0m\u001b[1;34m\"Enter the age: \"\u001b[0m\u001b[1;33m)\u001b[0m\u001b[1;33m)\u001b[0m\u001b[1;33m\u001b[0m\u001b[1;33m\u001b[0m\u001b[0m\n\u001b[0m\u001b[0;32m      2\u001b[0m \u001b[0mprint\u001b[0m\u001b[1;33m(\u001b[0m\u001b[0mage\u001b[0m\u001b[1;33m,\u001b[0m\u001b[0mtype\u001b[0m\u001b[1;33m(\u001b[0m\u001b[0mage\u001b[0m\u001b[1;33m)\u001b[0m\u001b[1;33m)\u001b[0m\u001b[1;33m\u001b[0m\u001b[1;33m\u001b[0m\u001b[0m\n",
      "\u001b[1;31mValueError\u001b[0m: invalid literal for int() with base 10: '10a'"
     ]
    }
   ],
   "source": [
    "age = int(input(\"Enter the age: \"))\n",
    "print(age,type(age))"
   ]
  },
  {
   "cell_type": "code",
   "execution_count": 44,
   "id": "b2c921f9",
   "metadata": {},
   "outputs": [
    {
     "ename": "ValueError",
     "evalue": "invalid literal for int() with base 10: '10a'",
     "output_type": "error",
     "traceback": [
      "\u001b[1;31m---------------------------------------------------------------------------\u001b[0m",
      "\u001b[1;31mValueError\u001b[0m                                Traceback (most recent call last)",
      "\u001b[1;32m<ipython-input-44-5881abc6f566>\u001b[0m in \u001b[0;36m<module>\u001b[1;34m\u001b[0m\n\u001b[1;32m----> 1\u001b[1;33m \u001b[0mprint\u001b[0m\u001b[1;33m(\u001b[0m\u001b[0mint\u001b[0m\u001b[1;33m(\u001b[0m\u001b[1;34m\"10a\"\u001b[0m\u001b[1;33m)\u001b[0m\u001b[1;33m)\u001b[0m\u001b[1;33m\u001b[0m\u001b[1;33m\u001b[0m\u001b[0m\n\u001b[0m",
      "\u001b[1;31mValueError\u001b[0m: invalid literal for int() with base 10: '10a'"
     ]
    }
   ],
   "source": [
    "print(int(\"10a\"))"
   ]
  },
  {
   "cell_type": "code",
   "execution_count": 45,
   "id": "63fea232",
   "metadata": {
    "scrolled": true
   },
   "outputs": [
    {
     "name": "stdout",
     "output_type": "stream",
     "text": [
      "Enter num1: 10\n",
      "Enter num2: 20\n",
      "30\n"
     ]
    }
   ],
   "source": [
    "num1 = int(input(\"Enter num1: \"))\n",
    "num2 = int(input(\"Enter num2: \"))\n",
    "\n",
    "print(num1 + num2)"
   ]
  },
  {
   "cell_type": "code",
   "execution_count": 46,
   "id": "768fb8d3",
   "metadata": {
    "scrolled": true
   },
   "outputs": [
    {
     "name": "stdout",
     "output_type": "stream",
     "text": [
      "enter a value: 1\n",
      "1\n"
     ]
    }
   ],
   "source": [
    "a = int(input(\"enter a value: \"))\n",
    "print(a)"
   ]
  },
  {
   "cell_type": "code",
   "execution_count": 47,
   "id": "867d813a",
   "metadata": {
    "scrolled": true
   },
   "outputs": [
    {
     "name": "stdout",
     "output_type": "stream",
     "text": [
      "Enter the salary10.2783\n",
      "10.2783 <class 'float'>\n"
     ]
    }
   ],
   "source": [
    "salary = input(\"Enter the salary\")\n",
    "\n",
    "salary = float(salary) #casting str---> float\n",
    "print(salary , type(salary))"
   ]
  },
  {
   "cell_type": "code",
   "execution_count": 48,
   "id": "760a7f83",
   "metadata": {
    "scrolled": true
   },
   "outputs": [
    {
     "name": "stdout",
     "output_type": "stream",
     "text": [
      "10\n",
      "10 <class 'int'>\n"
     ]
    }
   ],
   "source": [
    "score = input()\n",
    "\n",
    "score = int(score) ##str -- int\n",
    "\n",
    "print(score, type(score))"
   ]
  },
  {
   "cell_type": "code",
   "execution_count": null,
   "id": "2c35f5af",
   "metadata": {
    "scrolled": true
   },
   "outputs": [],
   "source": [
    "age = int(input(\"Enter the age: \"))\n",
    "print(age, type(age))"
   ]
  },
  {
   "cell_type": "code",
   "execution_count": null,
   "id": "2d245a49",
   "metadata": {
    "scrolled": true
   },
   "outputs": [],
   "source": [
    "#prebuild \n",
    "    int()\n",
    "    float()\n",
    "    str()\n",
    "    list() , tuple() , set() , dict() , bool() , complex()"
   ]
  },
  {
   "cell_type": "code",
   "execution_count": 49,
   "id": "d6158e52",
   "metadata": {
    "scrolled": true
   },
   "outputs": [
    {
     "name": "stdout",
     "output_type": "stream",
     "text": [
      "What is your name: kumar\n",
      "How old are you? 45\n",
      "kumar\n",
      "45\n"
     ]
    }
   ],
   "source": [
    "first_name = input('What is your name: ')\n",
    "age = int(input('How old are you? '))\n",
    "\n",
    "print(first_name)\n",
    "print(age)"
   ]
  },
  {
   "cell_type": "code",
   "execution_count": null,
   "id": "e57edc6b",
   "metadata": {
    "scrolled": true
   },
   "outputs": [],
   "source": []
  },
  {
   "cell_type": "code",
   "execution_count": null,
   "id": "9d5a9fde",
   "metadata": {
    "scrolled": true
   },
   "outputs": [],
   "source": [
    "## Declare 5 realtime variables and take input from keyboard\n",
    "# Just print(value , type , memoryID.)"
   ]
  },
  {
   "cell_type": "code",
   "execution_count": null,
   "id": "c9d47245",
   "metadata": {
    "scrolled": true
   },
   "outputs": [],
   "source": [
    "University = input(\"Enter the name of university\")\n",
    "print (University , type (University),id (University))\n",
    "university_courseduration = int(input(\"enter course duration: \"))\n",
    "print(university_courseduration , type(university_courseduration) ,id(university_courseduration))"
   ]
  },
  {
   "cell_type": "code",
   "execution_count": null,
   "id": "b5ec7fe1",
   "metadata": {
    "scrolled": true
   },
   "outputs": [],
   "source": [
    "name = input(\"enter the name\")\n",
    "address = input(\"enter address: \")\n",
    "university_courseduration = int(input(\"enter course duration: \")\n",
    "course_fee = float(input(\"enter the course_fee\"))\n",
    "is_student = bool(input(\"Are you a student?True/False\"))\n",
    "\n",
    "print (name , type(name) ,id(name))\n",
    "print(address , type(address) ,id(address)))\n",
    "print(university_courseduration , type(university_courseduration) ,id(university_courseduration))\n",
    "print (course_fee, type(course_fee), id(course_fee))\n",
    "print(is_student , type(is_student) , id(is_student))"
   ]
  },
  {
   "cell_type": "code",
   "execution_count": null,
   "id": "8660a3fd",
   "metadata": {
    "scrolled": true
   },
   "outputs": [],
   "source": [
    "fifa_winner = input(\"Enter the winner name\")\n",
    "print(fifa_winner , type(fifa_winner) , id(fifa_winner))\n",
    "\n",
    "messi_score = int(input(\"enter messi score: \"))\n",
    "\n",
    "print(messi_score , type(messi_score) , id(messi_score) )\n",
    "\n"
   ]
  },
  {
   "cell_type": "code",
   "execution_count": 2,
   "id": "eb281804",
   "metadata": {},
   "outputs": [
    {
     "name": "stdout",
     "output_type": "stream",
     "text": [
      "Enter the FavorateActor Name : abc\n",
      "Enter the favorate actor age : 156\n",
      "Enter the Height : 267\n",
      "Is_he_Married? True/False : False\n",
      "abc <class 'str'> 2530496656560\n",
      "156 <class 'int'> 140718947318416\n",
      "267.0 <class 'float'> 2530496586096\n",
      "True <class 'bool'> 140718947030864\n"
     ]
    }
   ],
   "source": [
    "FavorateActor = input(\"Enter the FavorateActor Name : \")\n",
    "Age = int(input(\"Enter the favorate actor age : \"))\n",
    "Height = float(input(\"Enter the Height : \"))\n",
    "is_married = bool(input(\"Is_he_Married? True/False : \"))\n",
    "\n",
    "print(FavorateActor, type(FavorateActor), id(FavorateActor))\n",
    "print(Age, type(Age), id(Age))\n",
    "print(Height, type(Height), id(Height))\n",
    "print(is_married, type(is_married), id(is_married))\n"
   ]
  },
  {
   "cell_type": "code",
   "execution_count": 7,
   "id": "f147ee3c",
   "metadata": {},
   "outputs": [
    {
     "name": "stdout",
     "output_type": "stream",
     "text": [
      "140718947313744 140718947314064\n"
     ]
    }
   ],
   "source": [
    "a = 10\n",
    "b = 20\n",
    "print(id(a) , id(b))\n"
   ]
  },
  {
   "cell_type": "code",
   "execution_count": 9,
   "id": "3a6741b3",
   "metadata": {},
   "outputs": [
    {
     "name": "stdout",
     "output_type": "stream",
     "text": [
      "140718947314128 140718947314128\n",
      "140718947314128 140718947314192\n"
     ]
    }
   ],
   "source": [
    "\n",
    "x = 22\n",
    "y = 22\n",
    "\n",
    "print(id(x),id(y))\n",
    "\n",
    "y = y+2\n",
    "\n",
    "print(id(x),id(y))\n"
   ]
  },
  {
   "cell_type": "code",
   "execution_count": 10,
   "id": "181b31b7",
   "metadata": {},
   "outputs": [
    {
     "name": "stdout",
     "output_type": "stream",
     "text": [
      "2530496472128 2530496525952\n"
     ]
    }
   ],
   "source": [
    "lst = [10,20,30]\n",
    "\n",
    "lst2 = [10,20,30]\n",
    "\n",
    "print(id(lst),id(lst2))"
   ]
  },
  {
   "cell_type": "code",
   "execution_count": null,
   "id": "bdb21c56",
   "metadata": {},
   "outputs": [],
   "source": []
  },
  {
   "cell_type": "code",
   "execution_count": null,
   "id": "7a71512e",
   "metadata": {},
   "outputs": [],
   "source": []
  },
  {
   "cell_type": "code",
   "execution_count": null,
   "id": "9f3673b3",
   "metadata": {},
   "outputs": [],
   "source": [
    "#BASIC \n",
    "integer\n",
    "float \n",
    "string\n",
    "boolean\n",
    "complex\n",
    "\n",
    "#SEQUENCE\n",
    "list\n",
    "tuple\n",
    "set\n",
    "dictionary"
   ]
  },
  {
   "cell_type": "markdown",
   "id": "f5e4116d",
   "metadata": {},
   "source": [
    "## Data Types\n",
    "    - Which defines the data and representation of real world data.\n",
    "    - In python we have various types .\n",
    "    \n",
    "    \n",
    "##### Number\n",
    "- Integer: Integer(negative, zero and positive) numbers Example: ... -3, -2, -1, 0, 1, 2, 3 ...\n",
    "- Float: Decimal number Example ... -3.5, -2.25, -1.0, 0.0, 1.1, 2.2, 3.5 ...\n",
    "- Complex Example 1 + j, 2 + 4j\n",
    "\n",
    "\n",
    "##### String\n",
    " - A collection of one or more characters under a single or double quote. If a string is more than one sentence then we use a triple quote.\n",
    "\n",
    "Example:\n",
    "\n",
    "    'Asabeneh'\n",
    "    'Finland'\n",
    "    'Python'\n",
    "    'I love teaching'\n",
    "    'I hope you are enjoying the first day of 30DaysOfPython Challenge'\n",
    "\n",
    "\n",
    "#### Booleans\n",
    "- A boolean data type is either a True or False value. T and F should be always uppercase.\n",
    "\n",
    "Example:\n",
    "\n",
    "    True  #  Is the light on? If it is on, then the value is True\n",
    "    \n",
    "    False # Is the light on? If it is off, then the value is False\n",
    "    \n",
    "#### List\n",
    "Python list is an ordered collection which allows to store different data type items. A list is similar to an array in JavaScript.\n",
    "\n",
    "    Example:\n",
    "\n",
    "    [0, 1, 2, 3, 4, 5]  # all are the same data types - a list of numbers\n",
    "    ['Banana', 'Orange', 'Mango', 'Avocado'] # all the same data types - a list of strings (fruits)\n",
    "    ['Finland','Estonia', 'Sweden','Norway'] # all the same data types - a list of strings (countries)\n",
    "    ['Banana', 10, False, 9.81] # different data types in the list - string, integer, boolean and float\n",
    "    \n",
    "\n",
    "#### Tuple\n",
    " > A tuple is an ordered collection of different data types like list but tuples can not be modified once they are created. They are immutable.\n",
    " \n",
    " \n",
    "     Example:\n",
    "     ('Earth', 'Jupiter', 'Neptune', 'Mars', 'Venus', 'Saturn', 'Uranus', 'Mercury') # planets\n",
    "     \n",
    "     \n",
    "### Set\n",
    "A set is a collection of data types similar to list and tuple. Unlike list and tuple, set is not an ordered collection of items. Like in Mathematics, set in Python stores only unique items.\n",
    "\n",
    "        Example:\n",
    "\n",
    "        {2, 4, 3, 5}\n",
    "        {3.14, 9.81, 2.7} # order is not important in set\n",
    "        \n",
    "        \n",
    "#### Dictionary\n",
    "A Python dictionary object is an unordered collection of data in a key value pair format.\n",
    "\n",
    "    Example:\n",
    "\n",
    "    {\n",
    "    'cricketTeamName':'India',\n",
    "    'Captain':'RS',\n",
    "    'country':'India', \n",
    "    'year':2022, \n",
    "    'is_top20':True,\n",
    "    'Players':['Virat', 'Rohit', 'Bhu', 'Python']\n",
    "    }"
   ]
  },
  {
   "cell_type": "markdown",
   "id": "783a0fab",
   "metadata": {},
   "source": [
    "### Integers \n",
    "    - any postive or negative whole numbers (-0 ,1 ,9 ,11)\n",
    "    \n",
    "  "
   ]
  },
  {
   "cell_type": "code",
   "execution_count": 14,
   "id": "90dfdd8d",
   "metadata": {
    "scrolled": true
   },
   "outputs": [
    {
     "name": "stdout",
     "output_type": "stream",
     "text": [
      "922337203685477580700000000000000000000000000000000000000000000000000000000000000000000000 <class 'int'>\n"
     ]
    }
   ],
   "source": [
    "intVar = 922337203685477580700000000000000000000000000000000000000000000000000000000000000000000000\n",
    "\n",
    "print(intVar, type(intVar))"
   ]
  },
  {
   "cell_type": "code",
   "execution_count": 15,
   "id": "7b4fe362",
   "metadata": {
    "scrolled": true
   },
   "outputs": [
    {
     "name": "stdout",
     "output_type": "stream",
     "text": [
      "1029\n",
      "<class 'int'>\n"
     ]
    }
   ],
   "source": [
    "intVar2 = 1029\n",
    "print(intVar2)\n",
    "print(type(intVar2))"
   ]
  },
  {
   "cell_type": "markdown",
   "id": "a7723b94",
   "metadata": {},
   "source": [
    "    Binary          0b or 0B  - bin()\n",
    "    Octal           0o or 0O - oct()\n",
    "    hexdecimal     0x or 0X  - hex()"
   ]
  },
  {
   "cell_type": "code",
   "execution_count": null,
   "id": "1c1499fd",
   "metadata": {},
   "outputs": [],
   "source": [
    "8BIT REPRESENTATION(0-255)\n",
    "========================\n",
    "\n",
    "locations : 7   6  5  4  3  2 1 0 \n",
    "values:     128 64 32 16 8  4 2 1\n",
    "    "
   ]
  },
  {
   "cell_type": "code",
   "execution_count": 18,
   "id": "02a916e8",
   "metadata": {},
   "outputs": [
    {
     "name": "stdout",
     "output_type": "stream",
     "text": [
      "0b1010\n"
     ]
    }
   ],
   "source": [
    "print(bin(10))"
   ]
  },
  {
   "cell_type": "code",
   "execution_count": 19,
   "id": "8b1ef02c",
   "metadata": {
    "scrolled": true
   },
   "outputs": [
    {
     "name": "stdout",
     "output_type": "stream",
     "text": [
      "15\n"
     ]
    }
   ],
   "source": [
    "a = 0b1010 #10\n",
    "b = 0b101  #5\n",
    "\n",
    "print(a+b)"
   ]
  },
  {
   "cell_type": "code",
   "execution_count": 20,
   "id": "a1f3ef63",
   "metadata": {
    "scrolled": true
   },
   "outputs": [
    {
     "name": "stdout",
     "output_type": "stream",
     "text": [
      "0b1010\n"
     ]
    }
   ],
   "source": [
    "print(bin(10)) #convert any decimal -- binary "
   ]
  },
  {
   "cell_type": "code",
   "execution_count": 21,
   "id": "43408854",
   "metadata": {
    "scrolled": true
   },
   "outputs": [
    {
     "name": "stdout",
     "output_type": "stream",
     "text": [
      "12\n"
     ]
    }
   ],
   "source": [
    "c = 0o10 #8\n",
    "d = 0b100 #4\n",
    "\n",
    "print(c+d)"
   ]
  },
  {
   "cell_type": "code",
   "execution_count": 22,
   "id": "fb74dc83",
   "metadata": {
    "scrolled": true
   },
   "outputs": [
    {
     "name": "stdout",
     "output_type": "stream",
     "text": [
      "0o10\n"
     ]
    }
   ],
   "source": [
    "print(oct(8)) #any decimal - octal "
   ]
  },
  {
   "cell_type": "code",
   "execution_count": 23,
   "id": "f9e14a1e",
   "metadata": {
    "scrolled": true
   },
   "outputs": [
    {
     "name": "stdout",
     "output_type": "stream",
     "text": [
      "21\n"
     ]
    }
   ],
   "source": [
    "e = 0xA #10\n",
    "f = 0xB #11\n",
    "\n",
    "print(e+f)"
   ]
  },
  {
   "cell_type": "code",
   "execution_count": 25,
   "id": "436af06c",
   "metadata": {
    "scrolled": true
   },
   "outputs": [
    {
     "name": "stdout",
     "output_type": "stream",
     "text": [
      "0xb\n"
     ]
    }
   ],
   "source": [
    "print(hex(11))"
   ]
  },
  {
   "cell_type": "code",
   "execution_count": null,
   "id": "6f77198c",
   "metadata": {
    "scrolled": true
   },
   "outputs": [],
   "source": []
  },
  {
   "cell_type": "markdown",
   "id": "9e7579e7",
   "metadata": {},
   "source": [
    "### Float \n",
    "    - any decimal points is considered as float datatypes\n",
    "    \n",
    "    "
   ]
  },
  {
   "cell_type": "code",
   "execution_count": 27,
   "id": "d44fb02a",
   "metadata": {
    "scrolled": true
   },
   "outputs": [
    {
     "name": "stdout",
     "output_type": "stream",
     "text": [
      "1.0920992 <class 'float'>\n"
     ]
    }
   ],
   "source": [
    "floatVar = 1.0920992\n",
    "\n",
    "\n",
    "print(floatVar , type(floatVar))"
   ]
  },
  {
   "cell_type": "code",
   "execution_count": 28,
   "id": "ad9577c2",
   "metadata": {
    "scrolled": true
   },
   "outputs": [
    {
     "name": "stdout",
     "output_type": "stream",
     "text": [
      "1050000.0\n"
     ]
    }
   ],
   "source": [
    "# ex: 10.5*10^5\n",
    "\n",
    "a = 10.5*(10**5)\n",
    "\n",
    "print(a)"
   ]
  },
  {
   "cell_type": "code",
   "execution_count": 31,
   "id": "a31bc393",
   "metadata": {},
   "outputs": [
    {
     "name": "stdout",
     "output_type": "stream",
     "text": [
      "0.001\n"
     ]
    }
   ],
   "source": [
    "# e == 10 power \n",
    "# e3 = 10^3 == 1000\n",
    "\n",
    "print(1e-3)"
   ]
  },
  {
   "cell_type": "code",
   "execution_count": 32,
   "id": "7b8161b2",
   "metadata": {
    "scrolled": true
   },
   "outputs": [
    {
     "name": "stdout",
     "output_type": "stream",
     "text": [
      "1050000.0\n"
     ]
    }
   ],
   "source": [
    "b = 10.5e5 # e 10^n\n",
    "\n",
    "print(b)"
   ]
  },
  {
   "cell_type": "code",
   "execution_count": null,
   "id": "d2d2c153",
   "metadata": {
    "scrolled": true
   },
   "outputs": [],
   "source": []
  },
  {
   "cell_type": "markdown",
   "id": "8c33174a",
   "metadata": {},
   "source": [
    "### Strings \n",
    "    - collectional of charcaters (letters , symbols,numbers)\n",
    "    - we have 3 notations to represent the strings \n",
    "        - single quotes   - 'a' 'hello'\n",
    "        - double quotes   - \"Hello World\" \n",
    "        - triple quotes   - multi line strings"
   ]
  },
  {
   "cell_type": "code",
   "execution_count": 33,
   "id": "12ff3b69",
   "metadata": {
    "scrolled": true
   },
   "outputs": [
    {
     "name": "stdout",
     "output_type": "stream",
     "text": [
      "Hello\n"
     ]
    }
   ],
   "source": [
    "singleQ = 'Hello'\n",
    "print(singleQ)"
   ]
  },
  {
   "cell_type": "code",
   "execution_count": null,
   "id": "55d7c5de",
   "metadata": {},
   "outputs": [],
   "source": [
    "# It's a book"
   ]
  },
  {
   "cell_type": "code",
   "execution_count": 38,
   "id": "d5ecdeef",
   "metadata": {
    "scrolled": true
   },
   "outputs": [
    {
     "name": "stdout",
     "output_type": "stream",
     "text": [
      "It's a book\n"
     ]
    }
   ],
   "source": [
    "a = 'It\\'s a book'\n",
    "\n",
    "print(a)"
   ]
  },
  {
   "cell_type": "code",
   "execution_count": 37,
   "id": "236eebc3",
   "metadata": {
    "scrolled": true
   },
   "outputs": [
    {
     "name": "stdout",
     "output_type": "stream",
     "text": [
      "It's a book\n"
     ]
    }
   ],
   "source": [
    "b = \"It's a book\"\n",
    "\n",
    "print(b)"
   ]
  },
  {
   "cell_type": "code",
   "execution_count": null,
   "id": "ba2c6e88",
   "metadata": {
    "scrolled": true
   },
   "outputs": [],
   "source": []
  },
  {
   "cell_type": "code",
   "execution_count": 45,
   "id": "6ce510c9",
   "metadata": {
    "scrolled": true
   },
   "outputs": [
    {
     "ename": "SyntaxError",
     "evalue": "invalid syntax (<ipython-input-45-9c38c1ca8983>, line 1)",
     "output_type": "error",
     "traceback": [
      "\u001b[1;36m  File \u001b[1;32m\"<ipython-input-45-9c38c1ca8983>\"\u001b[1;36m, line \u001b[1;32m1\u001b[0m\n\u001b[1;33m    c = \"python is \"oops\" language\"\u001b[0m\n\u001b[1;37m                    ^\u001b[0m\n\u001b[1;31mSyntaxError\u001b[0m\u001b[1;31m:\u001b[0m invalid syntax\n"
     ]
    }
   ],
   "source": [
    "c = \"python is \"oops\" language\"\n",
    "\n",
    "print(c)"
   ]
  },
  {
   "cell_type": "code",
   "execution_count": 40,
   "id": "0f04d478",
   "metadata": {
    "scrolled": true
   },
   "outputs": [
    {
     "name": "stdout",
     "output_type": "stream",
     "text": [
      "python is \"oops\" language\n"
     ]
    }
   ],
   "source": [
    "c = \"\"\"python is \"oops\" language\"\"\"\n",
    "\n",
    "print(c)"
   ]
  },
  {
   "cell_type": "code",
   "execution_count": null,
   "id": "82f382ac",
   "metadata": {
    "scrolled": true
   },
   "outputs": [],
   "source": []
  },
  {
   "cell_type": "code",
   "execution_count": 42,
   "id": "2e25b4a0",
   "metadata": {
    "scrolled": true
   },
   "outputs": [
    {
     "name": "stdout",
     "output_type": "stream",
     "text": [
      "python is oops\n",
      "and functional\n",
      "language\n"
     ]
    }
   ],
   "source": [
    "d = \"\"\"python is oops\n",
    "and functional\n",
    "language\"\"\"\n",
    "\n",
    "print(d)"
   ]
  },
  {
   "cell_type": "code",
   "execution_count": 43,
   "id": "0188caad",
   "metadata": {
    "scrolled": true
   },
   "outputs": [
    {
     "name": "stdout",
     "output_type": "stream",
     "text": [
      "python is oops\n",
      "and functional\n",
      "language\n"
     ]
    }
   ],
   "source": [
    "d = '''python is oops\n",
    "and functional\n",
    "language'''\n",
    "\n",
    "print(d)"
   ]
  },
  {
   "cell_type": "code",
   "execution_count": null,
   "id": "ff2a2b03",
   "metadata": {
    "scrolled": true
   },
   "outputs": [],
   "source": []
  },
  {
   "cell_type": "markdown",
   "id": "9f0222e1",
   "metadata": {},
   "source": [
    "### complex numbers \n",
    "    - real+imagj\n",
    "    - real number is optional\n",
    "    - imag number is mandatory"
   ]
  },
  {
   "cell_type": "code",
   "execution_count": 58,
   "id": "569bd4f9",
   "metadata": {
    "scrolled": true
   },
   "outputs": [],
   "source": [
    "comVar = 2+8j"
   ]
  },
  {
   "cell_type": "code",
   "execution_count": 59,
   "id": "fe7e69d5",
   "metadata": {
    "scrolled": true
   },
   "outputs": [
    {
     "name": "stdout",
     "output_type": "stream",
     "text": [
      "(2+8j) <class 'complex'>\n"
     ]
    }
   ],
   "source": [
    "print(comVar , type(comVar))"
   ]
  },
  {
   "cell_type": "code",
   "execution_count": 60,
   "id": "b2ef67af",
   "metadata": {},
   "outputs": [
    {
     "name": "stdout",
     "output_type": "stream",
     "text": [
      "['__abs__', '__add__', '__bool__', '__class__', '__delattr__', '__dir__', '__divmod__', '__doc__', '__eq__', '__float__', '__floordiv__', '__format__', '__ge__', '__getattribute__', '__getnewargs__', '__gt__', '__hash__', '__init__', '__init_subclass__', '__int__', '__le__', '__lt__', '__mod__', '__mul__', '__ne__', '__neg__', '__new__', '__pos__', '__pow__', '__radd__', '__rdivmod__', '__reduce__', '__reduce_ex__', '__repr__', '__rfloordiv__', '__rmod__', '__rmul__', '__rpow__', '__rsub__', '__rtruediv__', '__setattr__', '__sizeof__', '__str__', '__sub__', '__subclasshook__', '__truediv__', 'conjugate', 'imag', 'real']\n"
     ]
    }
   ],
   "source": [
    "# dir()\n",
    "\n",
    "print(dir(comVar))"
   ]
  },
  {
   "cell_type": "code",
   "execution_count": 61,
   "id": "72fa34f0",
   "metadata": {},
   "outputs": [
    {
     "name": "stdout",
     "output_type": "stream",
     "text": [
      "['__add__', '__class__', '__contains__', '__delattr__', '__dir__', '__doc__', '__eq__', '__format__', '__ge__', '__getattribute__', '__getitem__', '__getnewargs__', '__gt__', '__hash__', '__init__', '__init_subclass__', '__iter__', '__le__', '__len__', '__lt__', '__mod__', '__mul__', '__ne__', '__new__', '__reduce__', '__reduce_ex__', '__repr__', '__rmod__', '__rmul__', '__setattr__', '__sizeof__', '__str__', '__subclasshook__', 'capitalize', 'casefold', 'center', 'count', 'encode', 'endswith', 'expandtabs', 'find', 'format', 'format_map', 'index', 'isalnum', 'isalpha', 'isascii', 'isdecimal', 'isdigit', 'isidentifier', 'islower', 'isnumeric', 'isprintable', 'isspace', 'istitle', 'isupper', 'join', 'ljust', 'lower', 'lstrip', 'maketrans', 'partition', 'replace', 'rfind', 'rindex', 'rjust', 'rpartition', 'rsplit', 'rstrip', 'split', 'splitlines', 'startswith', 'strip', 'swapcase', 'title', 'translate', 'upper', 'zfill']\n"
     ]
    }
   ],
   "source": [
    "print(dir(\"\"))"
   ]
  },
  {
   "cell_type": "code",
   "execution_count": 62,
   "id": "2103ab92",
   "metadata": {
    "scrolled": true
   },
   "outputs": [
    {
     "name": "stdout",
     "output_type": "stream",
     "text": [
      "['__abs__', '__add__', '__bool__', '__class__', '__delattr__', '__dir__', '__divmod__', '__doc__', '__eq__', '__float__', '__floordiv__', '__format__', '__ge__', '__getattribute__', '__getnewargs__', '__gt__', '__hash__', '__init__', '__init_subclass__', '__int__', '__le__', '__lt__', '__mod__', '__mul__', '__ne__', '__neg__', '__new__', '__pos__', '__pow__', '__radd__', '__rdivmod__', '__reduce__', '__reduce_ex__', '__repr__', '__rfloordiv__', '__rmod__', '__rmul__', '__rpow__', '__rsub__', '__rtruediv__', '__setattr__', '__sizeof__', '__str__', '__sub__', '__subclasshook__', '__truediv__', 'conjugate', 'imag', 'real']\n"
     ]
    }
   ],
   "source": [
    "print(dir(comVar))"
   ]
  },
  {
   "cell_type": "code",
   "execution_count": 63,
   "id": "fcb6229e",
   "metadata": {
    "scrolled": true
   },
   "outputs": [
    {
     "name": "stdout",
     "output_type": "stream",
     "text": [
      "8.0\n"
     ]
    }
   ],
   "source": [
    "print(comVar.imag) #attributes"
   ]
  },
  {
   "cell_type": "code",
   "execution_count": 64,
   "id": "7a46875e",
   "metadata": {
    "scrolled": true
   },
   "outputs": [
    {
     "name": "stdout",
     "output_type": "stream",
     "text": [
      "2.0\n"
     ]
    }
   ],
   "source": [
    "print(comVar.real)"
   ]
  },
  {
   "cell_type": "code",
   "execution_count": 65,
   "id": "d29cff08",
   "metadata": {
    "scrolled": true
   },
   "outputs": [
    {
     "name": "stdout",
     "output_type": "stream",
     "text": [
      "(2-8j)\n"
     ]
    }
   ],
   "source": [
    "print(comVar.conjugate())\n",
    "#inverse of sign"
   ]
  },
  {
   "cell_type": "code",
   "execution_count": 66,
   "id": "0cde3499",
   "metadata": {
    "scrolled": true
   },
   "outputs": [
    {
     "data": {
      "text/plain": [
       "(2-8j)"
      ]
     },
     "execution_count": 66,
     "metadata": {},
     "output_type": "execute_result"
    }
   ],
   "source": [
    "comVar.conjugate().conjugate().conjugate()"
   ]
  },
  {
   "cell_type": "code",
   "execution_count": 67,
   "id": "788f0dd6",
   "metadata": {
    "scrolled": true
   },
   "outputs": [
    {
     "data": {
      "text/plain": [
       "-10"
      ]
     },
     "execution_count": 67,
     "metadata": {},
     "output_type": "execute_result"
    }
   ],
   "source": [
    "a=10\n",
    "b=20\n",
    "a+b\n",
    "a-b"
   ]
  },
  {
   "cell_type": "markdown",
   "id": "0656dfa2",
   "metadata": {},
   "source": [
    "### Boolean\n",
    "    - True or False values consider as boolean "
   ]
  },
  {
   "cell_type": "code",
   "execution_count": 69,
   "id": "0941b72a",
   "metadata": {
    "scrolled": true
   },
   "outputs": [
    {
     "name": "stdout",
     "output_type": "stream",
     "text": [
      "1\n",
      "0\n",
      "1.0\n"
     ]
    }
   ],
   "source": [
    "bol_var = True #1\n",
    "bol_var2 = False #0\n",
    "\n",
    "print(bol_var + bol_var2)\n",
    "\n",
    "print(bol_var * bol_var2)\n",
    "\n",
    "print(bol_var / bol_var)"
   ]
  },
  {
   "cell_type": "code",
   "execution_count": 70,
   "id": "280f4183",
   "metadata": {},
   "outputs": [
    {
     "name": "stdout",
     "output_type": "stream",
     "text": [
      "['__abs__', '__add__', '__and__', '__bool__', '__ceil__', '__class__', '__delattr__', '__dir__', '__divmod__', '__doc__', '__eq__', '__float__', '__floor__', '__floordiv__', '__format__', '__ge__', '__getattribute__', '__getnewargs__', '__gt__', '__hash__', '__index__', '__init__', '__init_subclass__', '__int__', '__invert__', '__le__', '__lshift__', '__lt__', '__mod__', '__mul__', '__ne__', '__neg__', '__new__', '__or__', '__pos__', '__pow__', '__radd__', '__rand__', '__rdivmod__', '__reduce__', '__reduce_ex__', '__repr__', '__rfloordiv__', '__rlshift__', '__rmod__', '__rmul__', '__ror__', '__round__', '__rpow__', '__rrshift__', '__rshift__', '__rsub__', '__rtruediv__', '__rxor__', '__setattr__', '__sizeof__', '__str__', '__sub__', '__subclasshook__', '__truediv__', '__trunc__', '__xor__', 'as_integer_ratio', 'bit_length', 'conjugate', 'denominator', 'from_bytes', 'imag', 'numerator', 'real', 'to_bytes']\n"
     ]
    }
   ],
   "source": [
    "a=10\n",
    "a = a+13\n",
    "print(dir(a))"
   ]
  },
  {
   "cell_type": "code",
   "execution_count": 72,
   "id": "fdcbccb1",
   "metadata": {},
   "outputs": [
    {
     "name": "stdout",
     "output_type": "stream",
     "text": [
      "['__abs__', '__add__', '__and__', '__bool__', '__ceil__', '__class__', '__delattr__', '__dir__', '__divmod__', '__doc__', '__eq__', '__float__', '__floor__', '__floordiv__', '__format__', '__ge__', '__getattribute__', '__getnewargs__', '__gt__', '__hash__', '__index__', '__init__', '__init_subclass__', '__int__', '__invert__', '__le__', '__lshift__', '__lt__', '__mod__', '__mul__', '__ne__', '__neg__', '__new__', '__or__', '__pos__', '__pow__', '__radd__', '__rand__', '__rdivmod__', '__reduce__', '__reduce_ex__', '__repr__', '__rfloordiv__', '__rlshift__', '__rmod__', '__rmul__', '__ror__', '__round__', '__rpow__', '__rrshift__', '__rshift__', '__rsub__', '__rtruediv__', '__rxor__', '__setattr__', '__sizeof__', '__str__', '__sub__', '__subclasshook__', '__truediv__', '__trunc__', '__xor__', 'as_integer_ratio', 'bit_length', 'conjugate', 'denominator', 'from_bytes', 'imag', 'numerator', 'real', 'to_bytes']\n"
     ]
    }
   ],
   "source": [
    "a = 10\n",
    "\n",
    "print(dir(a))"
   ]
  },
  {
   "cell_type": "code",
   "execution_count": 76,
   "id": "d532eb35",
   "metadata": {},
   "outputs": [
    {
     "name": "stdout",
     "output_type": "stream",
     "text": [
      "['__add__', '__class__', '__contains__', '__delattr__', '__dir__', '__doc__', '__eq__', '__format__', '__ge__', '__getattribute__', '__getitem__', '__getnewargs__', '__gt__', '__hash__', '__init__', '__init_subclass__', '__iter__', '__le__', '__len__', '__lt__', '__mod__', '__mul__', '__ne__', '__new__', '__reduce__', '__reduce_ex__', '__repr__', '__rmod__', '__rmul__', '__setattr__', '__sizeof__', '__str__', '__subclasshook__', 'capitalize', 'casefold', 'center', 'count', 'encode', 'endswith', 'expandtabs', 'find', 'format', 'format_map', 'index', 'isalnum', 'isalpha', 'isascii', 'isdecimal', 'isdigit', 'isidentifier', 'islower', 'isnumeric', 'isprintable', 'isspace', 'istitle', 'isupper', 'join', 'ljust', 'lower', 'lstrip', 'maketrans', 'partition', 'replace', 'rfind', 'rindex', 'rjust', 'rpartition', 'rsplit', 'rstrip', 'split', 'splitlines', 'startswith', 'strip', 'swapcase', 'title', 'translate', 'upper', 'zfill']\n"
     ]
    }
   ],
   "source": [
    "name = \"kumaaaar\"\n",
    "\n",
    "print(dir(name))"
   ]
  },
  {
   "cell_type": "code",
   "execution_count": 77,
   "id": "99ae51a1",
   "metadata": {},
   "outputs": [
    {
     "name": "stdout",
     "output_type": "stream",
     "text": [
      "KUMAAAAR\n",
      "4\n"
     ]
    }
   ],
   "source": [
    "print(name.upper())\n",
    "print(name.count(\"a\"))"
   ]
  },
  {
   "cell_type": "code",
   "execution_count": null,
   "id": "3698206b",
   "metadata": {},
   "outputs": [],
   "source": []
  },
  {
   "cell_type": "code",
   "execution_count": 71,
   "id": "833d3ee6",
   "metadata": {},
   "outputs": [
    {
     "name": "stdout",
     "output_type": "stream",
     "text": [
      "10101000101 <class 'int'>\n"
     ]
    }
   ],
   "source": [
    "num = 10101000101\n",
    "print(num,type(num))\n",
    "\n",
    "# count the number of zeros\n"
   ]
  },
  {
   "cell_type": "code",
   "execution_count": null,
   "id": "0af1aa7b",
   "metadata": {},
   "outputs": [],
   "source": [
    "marks = [10,20,30,30,303,20]\n",
    "salary = [10.2,20.2,20.2]"
   ]
  },
  {
   "cell_type": "code",
   "execution_count": 11,
   "id": "76536678",
   "metadata": {},
   "outputs": [
    {
     "name": "stdout",
     "output_type": "stream",
     "text": [
      "hellohello\n"
     ]
    }
   ],
   "source": [
    "# a = 01\n",
    "# print(type(a))\n",
    "\n",
    "# print(print(\"hi\"))\n",
    "\n",
    "# numbers = input()\n",
    "\n",
    "# print(numbers,type(numbers))\n",
    "\n",
    "# a = 10+2.6\n",
    "# print(type(a))\n",
    "\n",
    "name = \"kumar\"\n",
    "#print(name+ 26)# str+str , not int+str or str+int \n",
    "print(2*\"hello\") #str*int  or int*str"
   ]
  },
  {
   "cell_type": "code",
   "execution_count": null,
   "id": "4825c137",
   "metadata": {},
   "outputs": [],
   "source": []
  },
  {
   "cell_type": "code",
   "execution_count": null,
   "id": "1402282a",
   "metadata": {},
   "outputs": [],
   "source": []
  },
  {
   "cell_type": "code",
   "execution_count": null,
   "id": "a6f26dc6",
   "metadata": {},
   "outputs": [],
   "source": []
  },
  {
   "cell_type": "code",
   "execution_count": null,
   "id": "5e93371a",
   "metadata": {},
   "outputs": [],
   "source": []
  },
  {
   "cell_type": "markdown",
   "id": "ef5bd718",
   "metadata": {},
   "source": [
    "### List \n",
    "    - It's a collection & ordered & indexed data type\n",
    "    - It's stores mutliple items in one variable\n",
    "    - Indexing \n",
    "            postive  0 ---> N-1\n",
    "            negative -1 ---> -N\n",
    "    - It's Mutable ---> Changes are allowed\n",
    "    - declared with []\n",
    "    - stores hemogeneuous & hetrogenous data types\n",
    "    \n",
    "    \n",
    "    syntax:\n",
    "    \n",
    "    varName = [data1,data2,....]\n",
    "    "
   ]
  },
  {
   "cell_type": "code",
   "execution_count": 12,
   "id": "17141eda",
   "metadata": {
    "scrolled": true
   },
   "outputs": [
    {
     "name": "stdout",
     "output_type": "stream",
     "text": [
      "[0, 1, 2, 3, 4, 5] <class 'list'>\n"
     ]
    }
   ],
   "source": [
    "lstNumbers = [0, 1, 2, 3, 4, 5]  # all are the same data types - a list of numbers\n",
    "\n",
    "print(lstNumbers , type(lstNumbers))\n",
    "\n",
    "\n",
    "fruits = ['Banana', 'Orange', 'Mango', 'Avocado'] # all the same data types - a list of strings (fruits)\n",
    "\n",
    "\n",
    "countries = ['Finland','Estonia', 'Sweden','Norway'] # all the same data types - a list of strings (countries)\n",
    "\n",
    "\n",
    "mixedList = ['Banana', 10, False, 9.81] # different data types in the list - string, integer, boolean and float\n",
    "\n",
    "\n"
   ]
  },
  {
   "cell_type": "code",
   "execution_count": 13,
   "id": "bfcbef50",
   "metadata": {
    "scrolled": true
   },
   "outputs": [
    {
     "name": "stdout",
     "output_type": "stream",
     "text": [
      "4\n"
     ]
    }
   ],
   "source": [
    "print(len(fruits))"
   ]
  },
  {
   "cell_type": "code",
   "execution_count": 14,
   "id": "46256781",
   "metadata": {
    "scrolled": true
   },
   "outputs": [
    {
     "name": "stdout",
     "output_type": "stream",
     "text": [
      "['Banana', 'Orange', 'Mango', 'Avocado']\n",
      "Mango\n"
     ]
    }
   ],
   "source": [
    "# accessing VarName[loc]  \n",
    "print(fruits)\n",
    "\n",
    "print(fruits[2])"
   ]
  },
  {
   "cell_type": "code",
   "execution_count": 15,
   "id": "4df3144f",
   "metadata": {
    "scrolled": true
   },
   "outputs": [
    {
     "name": "stdout",
     "output_type": "stream",
     "text": [
      "Avocado\n"
     ]
    }
   ],
   "source": [
    "print(fruits[4-1])\n",
    "\n",
    "#POSTIVE INDEXING ::: 0 ---> LEN-1\n",
    "\n",
    "#NEGATIVE  INDEXING : -1 ---> -LEN"
   ]
  },
  {
   "cell_type": "code",
   "execution_count": 19,
   "id": "72a7f41b",
   "metadata": {},
   "outputs": [
    {
     "ename": "IndexError",
     "evalue": "list index out of range",
     "output_type": "error",
     "traceback": [
      "\u001b[1;31m---------------------------------------------------------------------------\u001b[0m",
      "\u001b[1;31mIndexError\u001b[0m                                Traceback (most recent call last)",
      "\u001b[1;32m<ipython-input-19-6b0e1fd066c5>\u001b[0m in \u001b[0;36m<module>\u001b[1;34m\u001b[0m\n\u001b[1;32m----> 1\u001b[1;33m \u001b[0mprint\u001b[0m\u001b[1;33m(\u001b[0m\u001b[0mfruits\u001b[0m\u001b[1;33m[\u001b[0m\u001b[1;33m-\u001b[0m\u001b[1;36m6\u001b[0m\u001b[1;33m]\u001b[0m\u001b[1;33m)\u001b[0m\u001b[1;33m\u001b[0m\u001b[1;33m\u001b[0m\u001b[0m\n\u001b[0m",
      "\u001b[1;31mIndexError\u001b[0m: list index out of range"
     ]
    }
   ],
   "source": [
    "print(fruits[-6])"
   ]
  },
  {
   "cell_type": "code",
   "execution_count": 21,
   "id": "e65ce903",
   "metadata": {},
   "outputs": [
    {
     "name": "stdout",
     "output_type": "stream",
     "text": [
      "['A', 'n', 'i', 'l', 'k', 'u', 'm', 'a', 'r', 'R', 'a', 'j', 'a', 'm', 'o', 'n', 'i']\n"
     ]
    }
   ],
   "source": [
    "name = \"A n i l k u m a r R a j a m o n i\".split()\n",
    "print(name)"
   ]
  },
  {
   "cell_type": "code",
   "execution_count": null,
   "id": "83b809a9",
   "metadata": {},
   "outputs": [],
   "source": []
  },
  {
   "cell_type": "code",
   "execution_count": 23,
   "id": "f6b02bf0",
   "metadata": {},
   "outputs": [
    {
     "name": "stdout",
     "output_type": "stream",
     "text": [
      "['A', 'n', 'i', 'l', 'k', 'u', 'm', 'a', 'r', 'R', 'a', 'j', 'a', 'm', 'o', 'n', 'i']\n",
      "A\n",
      "9\n",
      "17\n",
      "i\n",
      "i\n",
      "n\n",
      "A\n"
     ]
    }
   ],
   "source": [
    "name = \"A n i l k u m a r R a j a m o n i\".split()\n",
    "print(name)\n",
    "print(name[0])\n",
    "print(name.index(\"R\"))\n",
    "n = len(name)\n",
    "print(n)\n",
    "print(name[n-1])\n",
    "print(name[-1])\n",
    "print(name[-2])\n",
    "print(name[-17])"
   ]
  },
  {
   "cell_type": "code",
   "execution_count": 24,
   "id": "f31fa19e",
   "metadata": {
    "scrolled": true
   },
   "outputs": [
    {
     "name": "stdout",
     "output_type": "stream",
     "text": [
      "Avocado\n"
     ]
    }
   ],
   "source": [
    "print(fruits[3])"
   ]
  },
  {
   "cell_type": "code",
   "execution_count": 25,
   "id": "58935ea3",
   "metadata": {
    "scrolled": true
   },
   "outputs": [
    {
     "name": "stdout",
     "output_type": "stream",
     "text": [
      "Avocado\n"
     ]
    }
   ],
   "source": [
    "n = len(fruits)\n",
    "\n",
    "print(fruits[n-1])  #n-1 is the last location"
   ]
  },
  {
   "cell_type": "code",
   "execution_count": 26,
   "id": "cc760a4f",
   "metadata": {
    "scrolled": true
   },
   "outputs": [
    {
     "name": "stdout",
     "output_type": "stream",
     "text": [
      "Avocado\n"
     ]
    }
   ],
   "source": [
    "print(fruits[-1])"
   ]
  },
  {
   "cell_type": "code",
   "execution_count": 27,
   "id": "db030fe4",
   "metadata": {
    "scrolled": true
   },
   "outputs": [
    {
     "ename": "IndexError",
     "evalue": "list index out of range",
     "output_type": "error",
     "traceback": [
      "\u001b[1;31m---------------------------------------------------------------------------\u001b[0m",
      "\u001b[1;31mIndexError\u001b[0m                                Traceback (most recent call last)",
      "\u001b[1;32m<ipython-input-27-3cc8d65039db>\u001b[0m in \u001b[0;36m<module>\u001b[1;34m\u001b[0m\n\u001b[1;32m----> 1\u001b[1;33m \u001b[0mprint\u001b[0m\u001b[1;33m(\u001b[0m\u001b[0mfruits\u001b[0m\u001b[1;33m[\u001b[0m\u001b[1;33m-\u001b[0m\u001b[1;36m10\u001b[0m\u001b[1;33m]\u001b[0m\u001b[1;33m)\u001b[0m\u001b[1;33m\u001b[0m\u001b[1;33m\u001b[0m\u001b[0m\n\u001b[0m",
      "\u001b[1;31mIndexError\u001b[0m: list index out of range"
     ]
    }
   ],
   "source": [
    "print(fruits[-10])"
   ]
  },
  {
   "cell_type": "code",
   "execution_count": 28,
   "id": "ee301639",
   "metadata": {
    "scrolled": true
   },
   "outputs": [
    {
     "name": "stdout",
     "output_type": "stream",
     "text": [
      "Banana\n"
     ]
    }
   ],
   "source": [
    "print(fruits[-4])\n",
    "\n"
   ]
  },
  {
   "cell_type": "code",
   "execution_count": 29,
   "id": "5aed4057",
   "metadata": {
    "scrolled": true
   },
   "outputs": [
    {
     "name": "stdout",
     "output_type": "stream",
     "text": [
      "['Banana', 'Orange', 'Mango', 'Avocado']\n"
     ]
    }
   ],
   "source": [
    "print(fruits)"
   ]
  },
  {
   "cell_type": "code",
   "execution_count": 30,
   "id": "2674b890",
   "metadata": {
    "scrolled": true
   },
   "outputs": [
    {
     "name": "stdout",
     "output_type": "stream",
     "text": [
      "['Banana', 'Orange', 'Mango', 'pineapple']\n"
     ]
    }
   ],
   "source": [
    "fruits[3] = \"pineapple\" #mutablity \n",
    "print(fruits)"
   ]
  },
  {
   "cell_type": "code",
   "execution_count": 32,
   "id": "035c1306",
   "metadata": {
    "scrolled": true
   },
   "outputs": [
    {
     "ename": "IndexError",
     "evalue": "list assignment index out of range",
     "output_type": "error",
     "traceback": [
      "\u001b[1;31m---------------------------------------------------------------------------\u001b[0m",
      "\u001b[1;31mIndexError\u001b[0m                                Traceback (most recent call last)",
      "\u001b[1;32m<ipython-input-32-5c1ad0ca210f>\u001b[0m in \u001b[0;36m<module>\u001b[1;34m\u001b[0m\n\u001b[1;32m----> 1\u001b[1;33m \u001b[0mfruits\u001b[0m\u001b[1;33m[\u001b[0m\u001b[1;36m4\u001b[0m\u001b[1;33m]\u001b[0m \u001b[1;33m=\u001b[0m \u001b[1;34m\"cherry\"\u001b[0m\u001b[1;33m\u001b[0m\u001b[1;33m\u001b[0m\u001b[0m\n\u001b[0m",
      "\u001b[1;31mIndexError\u001b[0m: list assignment index out of range"
     ]
    }
   ],
   "source": [
    "fruits[4] = \"cherry\""
   ]
  },
  {
   "cell_type": "code",
   "execution_count": 33,
   "id": "af2601d9",
   "metadata": {
    "scrolled": true
   },
   "outputs": [
    {
     "name": "stdout",
     "output_type": "stream",
     "text": [
      "['Banana', 10, False, 9.81]\n",
      "False\n",
      "9.81\n",
      "<class 'str'>\n"
     ]
    }
   ],
   "source": [
    "print(mixedList)\n",
    "\n",
    "print(mixedList[2])\n",
    "\n",
    "print(mixedList[-1])\n",
    "\n",
    "print(type(mixedList[0]))"
   ]
  },
  {
   "cell_type": "code",
   "execution_count": 34,
   "id": "1541f17e",
   "metadata": {},
   "outputs": [
    {
     "name": "stdout",
     "output_type": "stream",
     "text": [
      "<class 'list'>\n"
     ]
    }
   ],
   "source": [
    "print(type(fruits))"
   ]
  },
  {
   "cell_type": "code",
   "execution_count": 35,
   "id": "db458e0a",
   "metadata": {
    "scrolled": true
   },
   "outputs": [
    {
     "name": "stdout",
     "output_type": "stream",
     "text": [
      "['__add__', '__class__', '__contains__', '__delattr__', '__delitem__', '__dir__', '__doc__', '__eq__', '__format__', '__ge__', '__getattribute__', '__getitem__', '__gt__', '__hash__', '__iadd__', '__imul__', '__init__', '__init_subclass__', '__iter__', '__le__', '__len__', '__lt__', '__mul__', '__ne__', '__new__', '__reduce__', '__reduce_ex__', '__repr__', '__reversed__', '__rmul__', '__setattr__', '__setitem__', '__sizeof__', '__str__', '__subclasshook__', 'append', 'clear', 'copy', 'count', 'extend', 'index', 'insert', 'pop', 'remove', 'reverse', 'sort']\n"
     ]
    }
   ],
   "source": [
    "# attributes and methods \n",
    "print(dir(fruits))"
   ]
  },
  {
   "cell_type": "code",
   "execution_count": null,
   "id": "2784afda",
   "metadata": {
    "scrolled": true
   },
   "outputs": [],
   "source": []
  },
  {
   "cell_type": "markdown",
   "id": "c1f384b9",
   "metadata": {},
   "source": [
    "### List Method \n",
    "\n",
    "    - insertion\n",
    "         append(obj)\n",
    "         insert(ind,obj)\n",
    "         extend([obj1,obj2..])\n",
    "    - deletion\n",
    "        pop()\n",
    "        remove()\n",
    "    - popular \n",
    "        reverse()\n",
    "        copy()\n",
    "        clear()\n",
    "        sort()\n",
    "        count()\n",
    "        index()"
   ]
  },
  {
   "cell_type": "code",
   "execution_count": 36,
   "id": "a194041c",
   "metadata": {
    "scrolled": true
   },
   "outputs": [
    {
     "name": "stdout",
     "output_type": "stream",
     "text": [
      "['__add__', '__class__', '__contains__', '__delattr__', '__delitem__', '__dir__', '__doc__', '__eq__', '__format__', '__ge__', '__getattribute__', '__getitem__', '__gt__', '__hash__', '__iadd__', '__imul__', '__init__', '__init_subclass__', '__iter__', '__le__', '__len__', '__lt__', '__mul__', '__ne__', '__new__', '__reduce__', '__reduce_ex__', '__repr__', '__reversed__', '__rmul__', '__setattr__', '__setitem__', '__sizeof__', '__str__', '__subclasshook__', 'append', 'clear', 'copy', 'count', 'extend', 'index', 'insert', 'pop', 'remove', 'reverse', 'sort']\n"
     ]
    }
   ],
   "source": [
    "print(dir([]))"
   ]
  },
  {
   "cell_type": "code",
   "execution_count": 39,
   "id": "126049e5",
   "metadata": {
    "scrolled": true
   },
   "outputs": [
    {
     "name": "stdout",
     "output_type": "stream",
     "text": [
      "['Finland', 'Estonia', 'Sweden', 'Norway', 'India']\n",
      "['Finland', 'Estonia', 'Sweden', 'Norway', 'India', 'USA']\n"
     ]
    }
   ],
   "source": [
    "countries = ['Finland','Estonia', 'Sweden','Norway']\n",
    "\n",
    "#append() \n",
    "\n",
    "countries.append(\"India\")\n",
    "print(countries)\n",
    "\n",
    "countries.append(\"USA\",\"AUS\") #error\n",
    "print(countries)"
   ]
  },
  {
   "cell_type": "code",
   "execution_count": 40,
   "id": "ccc1947c",
   "metadata": {
    "scrolled": true
   },
   "outputs": [
    {
     "name": "stdout",
     "output_type": "stream",
     "text": [
      "['Indo', 'Finland', 'Estonia', 'Sweden', 'Norway', 'India', 'USA']\n"
     ]
    }
   ],
   "source": [
    "#insert(indNum,obj)\n",
    "\n",
    "countries.insert(0,\"Indo\")\n",
    "print(countries)"
   ]
  },
  {
   "cell_type": "code",
   "execution_count": 41,
   "id": "fd6cc89f",
   "metadata": {
    "scrolled": true
   },
   "outputs": [
    {
     "name": "stdout",
     "output_type": "stream",
     "text": [
      "['Indo', 'Finland', 'Estonia', 'Sweden', 'Norway', 'India', 'Pak', 'USA']\n"
     ]
    }
   ],
   "source": [
    "countries.insert(-1,\"Pak\")\n",
    "print(countries)"
   ]
  },
  {
   "cell_type": "code",
   "execution_count": 42,
   "id": "bf732cee",
   "metadata": {},
   "outputs": [
    {
     "name": "stdout",
     "output_type": "stream",
     "text": [
      "8\n",
      "Finland\n"
     ]
    }
   ],
   "source": [
    "print(len(countries))\n",
    "print(countries[-7])"
   ]
  },
  {
   "cell_type": "code",
   "execution_count": 45,
   "id": "d6d27cca",
   "metadata": {
    "scrolled": true
   },
   "outputs": [
    {
     "name": "stdout",
     "output_type": "stream",
     "text": [
      "['BANG', 'Indo', 'SWIZ', 'Finland', 'Estonia', 'Sweden', 'Norway', 'India', 'Pak', 'USA', 'AUS']\n"
     ]
    }
   ],
   "source": [
    "countries.insert(2,\"SWIZ\")\n",
    "print(countries)"
   ]
  },
  {
   "cell_type": "code",
   "execution_count": 46,
   "id": "490d5e77",
   "metadata": {
    "scrolled": true
   },
   "outputs": [
    {
     "name": "stdout",
     "output_type": "stream",
     "text": [
      "['BANG', 'Indo', 'SWIZ', 'Finland', 'Estonia', 'Sweden', 'Norway', 'India', 'Pak', 'USA', 'AUS', 'Swiz', 'Cuba']\n"
     ]
    }
   ],
   "source": [
    "# extend([obj1,obj2..])\n",
    "\n",
    "countries.extend([\"Swiz\",\"Cuba\"])\n",
    "\n",
    "print(countries)"
   ]
  },
  {
   "cell_type": "code",
   "execution_count": 47,
   "id": "e9c7a2b7",
   "metadata": {
    "scrolled": true
   },
   "outputs": [
    {
     "name": "stdout",
     "output_type": "stream",
     "text": [
      "Hello\n",
      "None\n"
     ]
    }
   ],
   "source": [
    "a = print(\"Hello\")\n",
    "print(a)"
   ]
  },
  {
   "cell_type": "code",
   "execution_count": 48,
   "id": "7f5d6d1a",
   "metadata": {
    "scrolled": true
   },
   "outputs": [
    {
     "name": "stdout",
     "output_type": "stream",
     "text": [
      "['BANG', 'Indo', 'SWIZ', 'Finland', 'Estonia', 'Sweden', 'Norway', 'India', 'Pak', 'USA', 'AUS', 'Swiz', 'Cuba']\n"
     ]
    }
   ],
   "source": [
    "print(countries)"
   ]
  },
  {
   "cell_type": "code",
   "execution_count": 50,
   "id": "bf936493",
   "metadata": {
    "scrolled": true
   },
   "outputs": [
    {
     "name": "stdout",
     "output_type": "stream",
     "text": [
      "Swiz\n"
     ]
    }
   ],
   "source": [
    "# pop()\n",
    "res = countries.pop() #pop() will remove and return the popped element\n",
    "print(res)"
   ]
  },
  {
   "cell_type": "code",
   "execution_count": 51,
   "id": "e5f73fa4",
   "metadata": {},
   "outputs": [
    {
     "name": "stdout",
     "output_type": "stream",
     "text": [
      "['BANG', 'Indo', 'SWIZ', 'Finland', 'Estonia', 'Sweden', 'Norway', 'India', 'Pak', 'USA', 'AUS']\n"
     ]
    }
   ],
   "source": [
    "print(countries)"
   ]
  },
  {
   "cell_type": "code",
   "execution_count": 52,
   "id": "6d316da5",
   "metadata": {
    "scrolled": true
   },
   "outputs": [
    {
     "name": "stdout",
     "output_type": "stream",
     "text": [
      "Finland\n"
     ]
    }
   ],
   "source": [
    "print(countries.pop(3)) # give only valid locations"
   ]
  },
  {
   "cell_type": "code",
   "execution_count": 53,
   "id": "4321b735",
   "metadata": {
    "scrolled": true
   },
   "outputs": [
    {
     "name": "stdout",
     "output_type": "stream",
     "text": [
      "[]\n"
     ]
    },
    {
     "ename": "IndexError",
     "evalue": "pop from empty list",
     "output_type": "error",
     "traceback": [
      "\u001b[1;31m---------------------------------------------------------------------------\u001b[0m",
      "\u001b[1;31mIndexError\u001b[0m                                Traceback (most recent call last)",
      "\u001b[1;32m<ipython-input-53-8edd8d120db0>\u001b[0m in \u001b[0;36m<module>\u001b[1;34m\u001b[0m\n\u001b[0;32m      6\u001b[0m \u001b[0mnum\u001b[0m\u001b[1;33m.\u001b[0m\u001b[0mpop\u001b[0m\u001b[1;33m(\u001b[0m\u001b[1;33m)\u001b[0m\u001b[1;33m\u001b[0m\u001b[1;33m\u001b[0m\u001b[0m\n\u001b[0;32m      7\u001b[0m \u001b[0mprint\u001b[0m\u001b[1;33m(\u001b[0m\u001b[0mnum\u001b[0m\u001b[1;33m)\u001b[0m\u001b[1;33m\u001b[0m\u001b[1;33m\u001b[0m\u001b[0m\n\u001b[1;32m----> 8\u001b[1;33m \u001b[0mnum\u001b[0m\u001b[1;33m.\u001b[0m\u001b[0mpop\u001b[0m\u001b[1;33m(\u001b[0m\u001b[1;33m)\u001b[0m\u001b[1;33m\u001b[0m\u001b[1;33m\u001b[0m\u001b[0m\n\u001b[0m",
      "\u001b[1;31mIndexError\u001b[0m: pop from empty list"
     ]
    }
   ],
   "source": [
    "# \n",
    "num = [1,2,3,4]\n",
    "num.pop()\n",
    "num.pop()\n",
    "num.pop()\n",
    "num.pop()\n",
    "print(num)\n",
    "num.pop()"
   ]
  },
  {
   "cell_type": "code",
   "execution_count": 54,
   "id": "b69d6309",
   "metadata": {
    "scrolled": true
   },
   "outputs": [
    {
     "ename": "IndexError",
     "evalue": "pop index out of range",
     "output_type": "error",
     "traceback": [
      "\u001b[1;31m---------------------------------------------------------------------------\u001b[0m",
      "\u001b[1;31mIndexError\u001b[0m                                Traceback (most recent call last)",
      "\u001b[1;32m<ipython-input-54-5db74bcd9245>\u001b[0m in \u001b[0;36m<module>\u001b[1;34m\u001b[0m\n\u001b[0;32m      1\u001b[0m \u001b[0mnum\u001b[0m \u001b[1;33m=\u001b[0m \u001b[1;33m[\u001b[0m\u001b[1;36m1\u001b[0m\u001b[1;33m,\u001b[0m\u001b[1;36m222\u001b[0m\u001b[1;33m,\u001b[0m\u001b[1;36m30\u001b[0m\u001b[1;33m,\u001b[0m\u001b[1;36m420\u001b[0m\u001b[1;33m]\u001b[0m\u001b[1;33m\u001b[0m\u001b[1;33m\u001b[0m\u001b[0m\n\u001b[1;32m----> 2\u001b[1;33m \u001b[0mnum\u001b[0m\u001b[1;33m.\u001b[0m\u001b[0mpop\u001b[0m\u001b[1;33m(\u001b[0m\u001b[1;36m20\u001b[0m\u001b[1;33m)\u001b[0m\u001b[1;33m\u001b[0m\u001b[1;33m\u001b[0m\u001b[0m\n\u001b[0m",
      "\u001b[1;31mIndexError\u001b[0m: pop index out of range"
     ]
    }
   ],
   "source": [
    "num = [1,222,30,420]\n",
    "num.pop(20)"
   ]
  },
  {
   "cell_type": "code",
   "execution_count": 55,
   "id": "94c5d6cb",
   "metadata": {
    "scrolled": true
   },
   "outputs": [
    {
     "name": "stdout",
     "output_type": "stream",
     "text": [
      "['BANG', 'Indo', 'SWIZ', 'Estonia', 'Sweden', 'Norway', 'India', 'Pak', 'USA', 'AUS']\n",
      "['BANG', 'Indo', 'SWIZ', 'Estonia', 'Sweden', 'India', 'Pak', 'USA', 'AUS']\n"
     ]
    }
   ],
   "source": [
    "# remove()\n",
    "print(countries)\n",
    "countries.remove(\"Norway\")\n",
    "print(countries)\n"
   ]
  },
  {
   "cell_type": "code",
   "execution_count": 56,
   "id": "f0ee0ad0",
   "metadata": {
    "scrolled": true
   },
   "outputs": [
    {
     "name": "stdout",
     "output_type": "stream",
     "text": [
      "None\n"
     ]
    }
   ],
   "source": [
    "r = countries.remove(\"AUS\")\n",
    "print(r)"
   ]
  },
  {
   "cell_type": "code",
   "execution_count": 57,
   "id": "cdac90a6",
   "metadata": {},
   "outputs": [
    {
     "name": "stdout",
     "output_type": "stream",
     "text": [
      "['BANG', 'Indo', 'SWIZ', 'Estonia', 'Sweden', 'India', 'Pak', 'USA']\n"
     ]
    }
   ],
   "source": [
    "print(countries)"
   ]
  },
  {
   "cell_type": "code",
   "execution_count": 58,
   "id": "ce74509d",
   "metadata": {},
   "outputs": [
    {
     "name": "stdout",
     "output_type": "stream",
     "text": [
      "USA\n"
     ]
    }
   ],
   "source": [
    "res1 = countries.pop()\n",
    "print(res1)\n",
    "\n"
   ]
  },
  {
   "cell_type": "code",
   "execution_count": null,
   "id": "6acb64dc",
   "metadata": {},
   "outputs": [],
   "source": []
  },
  {
   "cell_type": "code",
   "execution_count": 59,
   "id": "a2394b11",
   "metadata": {},
   "outputs": [
    {
     "name": "stdout",
     "output_type": "stream",
     "text": [
      "['BANG', 'Indo', 'SWIZ', 'Estonia', 'Sweden', 'India', 'Pak']\n"
     ]
    },
    {
     "ename": "ValueError",
     "evalue": "list.remove(x): x not in list",
     "output_type": "error",
     "traceback": [
      "\u001b[1;31m---------------------------------------------------------------------------\u001b[0m",
      "\u001b[1;31mValueError\u001b[0m                                Traceback (most recent call last)",
      "\u001b[1;32m<ipython-input-59-20e1fc698a53>\u001b[0m in \u001b[0;36m<module>\u001b[1;34m\u001b[0m\n\u001b[0;32m      1\u001b[0m \u001b[0mprint\u001b[0m\u001b[1;33m(\u001b[0m\u001b[0mcountries\u001b[0m\u001b[1;33m)\u001b[0m\u001b[1;33m\u001b[0m\u001b[1;33m\u001b[0m\u001b[0m\n\u001b[0;32m      2\u001b[0m \u001b[1;33m\u001b[0m\u001b[0m\n\u001b[1;32m----> 3\u001b[1;33m \u001b[0mcountries\u001b[0m\u001b[1;33m.\u001b[0m\u001b[0mremove\u001b[0m\u001b[1;33m(\u001b[0m\u001b[1;34m\"USA\"\u001b[0m\u001b[1;33m)\u001b[0m\u001b[1;33m\u001b[0m\u001b[1;33m\u001b[0m\u001b[0m\n\u001b[0m\u001b[0;32m      4\u001b[0m \u001b[1;33m\u001b[0m\u001b[0m\n\u001b[0;32m      5\u001b[0m \u001b[0mprint\u001b[0m\u001b[1;33m(\u001b[0m\u001b[0mcountries\u001b[0m\u001b[1;33m)\u001b[0m\u001b[1;33m\u001b[0m\u001b[1;33m\u001b[0m\u001b[0m\n",
      "\u001b[1;31mValueError\u001b[0m: list.remove(x): x not in list"
     ]
    }
   ],
   "source": [
    "print(countries)\n",
    "\n",
    "countries.remove(\"USA\")\n",
    "\n",
    "print(countries)"
   ]
  },
  {
   "cell_type": "code",
   "execution_count": 60,
   "id": "9a0d3411",
   "metadata": {
    "scrolled": true
   },
   "outputs": [
    {
     "ename": "ValueError",
     "evalue": "list.remove(x): x not in list",
     "output_type": "error",
     "traceback": [
      "\u001b[1;31m---------------------------------------------------------------------------\u001b[0m",
      "\u001b[1;31mValueError\u001b[0m                                Traceback (most recent call last)",
      "\u001b[1;32m<ipython-input-60-a173cbeee981>\u001b[0m in \u001b[0;36m<module>\u001b[1;34m\u001b[0m\n\u001b[0;32m      1\u001b[0m \u001b[0mlst\u001b[0m \u001b[1;33m=\u001b[0m \u001b[1;33m[\u001b[0m\u001b[1;33m]\u001b[0m\u001b[1;33m\u001b[0m\u001b[1;33m\u001b[0m\u001b[0m\n\u001b[0;32m      2\u001b[0m \u001b[1;33m\u001b[0m\u001b[0m\n\u001b[1;32m----> 3\u001b[1;33m \u001b[0mlst\u001b[0m\u001b[1;33m.\u001b[0m\u001b[0mremove\u001b[0m\u001b[1;33m(\u001b[0m\u001b[1;34m\"IND\"\u001b[0m\u001b[1;33m)\u001b[0m\u001b[1;33m\u001b[0m\u001b[1;33m\u001b[0m\u001b[0m\n\u001b[0m",
      "\u001b[1;31mValueError\u001b[0m: list.remove(x): x not in list"
     ]
    }
   ],
   "source": [
    "lst = []\n",
    "\n",
    "lst.remove(\"IND\")"
   ]
  },
  {
   "cell_type": "code",
   "execution_count": null,
   "id": "4d0b63e0",
   "metadata": {},
   "outputs": [],
   "source": []
  },
  {
   "cell_type": "code",
   "execution_count": 61,
   "id": "c191b5b9",
   "metadata": {
    "scrolled": true
   },
   "outputs": [
    {
     "name": "stdout",
     "output_type": "stream",
     "text": [
      "['Pak', 'India', 'Sweden', 'Estonia', 'SWIZ', 'Indo', 'BANG']\n"
     ]
    }
   ],
   "source": [
    "# reverse()\n",
    "countries.reverse()\n",
    "\n",
    "print(countries)"
   ]
  },
  {
   "cell_type": "code",
   "execution_count": 62,
   "id": "4bff59c8",
   "metadata": {
    "scrolled": true
   },
   "outputs": [
    {
     "name": "stdout",
     "output_type": "stream",
     "text": [
      "['BANG', 'Estonia', 'India', 'Indo', 'Pak', 'SWIZ', 'Sweden']\n"
     ]
    }
   ],
   "source": [
    "# sort()\n",
    "countries.sort()\n",
    "print(countries)"
   ]
  },
  {
   "cell_type": "code",
   "execution_count": 63,
   "id": "d905a39c",
   "metadata": {
    "scrolled": true
   },
   "outputs": [
    {
     "name": "stdout",
     "output_type": "stream",
     "text": [
      "['K', 'u', 'm', 'a', 'r', 'R', 'a', 'J', 'A', 'm', 'o', 'n', 'i']\n",
      "['A', 'J', 'K', 'R', 'a', 'a', 'i', 'm', 'm', 'n', 'o', 'r', 'u']\n",
      "97 65\n"
     ]
    }
   ],
   "source": [
    "lst = \"K u m a r R a J A m o n i\".split() #str - list\n",
    "print(lst)\n",
    "\n",
    "\n",
    "lst.sort()\n",
    "\n",
    "print(lst)\n",
    "\n",
    "##ascii\n",
    "\n",
    "print(ord(\"a\") , ord(\"A\"))"
   ]
  },
  {
   "cell_type": "code",
   "execution_count": 64,
   "id": "7d12034d",
   "metadata": {
    "scrolled": true
   },
   "outputs": [
    {
     "name": "stdout",
     "output_type": "stream",
     "text": [
      "[0, 1, 262, 293, 2982, 2983]\n",
      "[2983, 2982, 293, 262, 1, 0]\n"
     ]
    }
   ],
   "source": [
    "nums = [1,0,293,2983,262,2982]\n",
    "nums.sort() #small - big\n",
    "\n",
    "print(nums)\n",
    "\n",
    "nums.sort(reverse=True) #True - Desc | False -- Asec\n",
    "\n",
    "print(nums)"
   ]
  },
  {
   "cell_type": "code",
   "execution_count": 65,
   "id": "e38922e8",
   "metadata": {
    "scrolled": true
   },
   "outputs": [
    {
     "name": "stdout",
     "output_type": "stream",
     "text": [
      "['A', 'J', 'K', 'R', 'a', 'a', 'i', 'm', 'm', 'n', 'o', 'r', 'u']\n"
     ]
    }
   ],
   "source": [
    "print(lst)"
   ]
  },
  {
   "cell_type": "code",
   "execution_count": 66,
   "id": "b8a0910a",
   "metadata": {
    "scrolled": true
   },
   "outputs": [
    {
     "name": "stdout",
     "output_type": "stream",
     "text": [
      "['A', 'J', 'K', 'R', 'a', 'a', 'i', 'm', 'm', 'n', 'o', 'r', 'u']\n",
      "2\n",
      "0\n"
     ]
    }
   ],
   "source": [
    "# count() - display the occurence of a data element.\n",
    "\n",
    "print(lst)\n",
    "\n",
    "print(lst.count(\"a\"))\n",
    "\n",
    "print(lst.count(\"z\"))"
   ]
  },
  {
   "cell_type": "code",
   "execution_count": 67,
   "id": "77648bde",
   "metadata": {
    "scrolled": true
   },
   "outputs": [
    {
     "name": "stdout",
     "output_type": "stream",
     "text": [
      "4\n"
     ]
    }
   ],
   "source": [
    "# index() - return the index number of a data element.\n",
    "\n",
    "print(lst.index(\"a\")) #return the fist index"
   ]
  },
  {
   "cell_type": "code",
   "execution_count": 68,
   "id": "d39cc438",
   "metadata": {
    "scrolled": true
   },
   "outputs": [
    {
     "ename": "ValueError",
     "evalue": "'z' is not in list",
     "output_type": "error",
     "traceback": [
      "\u001b[1;31m---------------------------------------------------------------------------\u001b[0m",
      "\u001b[1;31mValueError\u001b[0m                                Traceback (most recent call last)",
      "\u001b[1;32m<ipython-input-68-a50b7f2d0644>\u001b[0m in \u001b[0;36m<module>\u001b[1;34m\u001b[0m\n\u001b[1;32m----> 1\u001b[1;33m \u001b[0mprint\u001b[0m\u001b[1;33m(\u001b[0m\u001b[0mlst\u001b[0m\u001b[1;33m.\u001b[0m\u001b[0mindex\u001b[0m\u001b[1;33m(\u001b[0m\u001b[1;34m\"z\"\u001b[0m\u001b[1;33m)\u001b[0m\u001b[1;33m)\u001b[0m\u001b[1;33m\u001b[0m\u001b[1;33m\u001b[0m\u001b[0m\n\u001b[0m",
      "\u001b[1;31mValueError\u001b[0m: 'z' is not in list"
     ]
    }
   ],
   "source": [
    "print(lst.index(\"z\"))"
   ]
  },
  {
   "cell_type": "code",
   "execution_count": 69,
   "id": "dcbfbd4b",
   "metadata": {
    "scrolled": true
   },
   "outputs": [
    {
     "name": "stdout",
     "output_type": "stream",
     "text": [
      "[10, 203, 40]\n",
      "[]\n"
     ]
    }
   ],
   "source": [
    "# clear()\n",
    "nums = [10,203,40]\n",
    "print(nums)\n",
    "nums.clear()\n",
    "print(nums)"
   ]
  },
  {
   "cell_type": "code",
   "execution_count": 71,
   "id": "2b90221c",
   "metadata": {},
   "outputs": [
    {
     "name": "stdout",
     "output_type": "stream",
     "text": [
      "\n"
     ]
    }
   ],
   "source": [
    "print()"
   ]
  },
  {
   "cell_type": "code",
   "execution_count": 72,
   "id": "26f80e11",
   "metadata": {
    "scrolled": true
   },
   "outputs": [
    {
     "name": "stdout",
     "output_type": "stream",
     "text": [
      "[10, 203, 40]\n"
     ]
    },
    {
     "ename": "NameError",
     "evalue": "name 'nums' is not defined",
     "output_type": "error",
     "traceback": [
      "\u001b[1;31m---------------------------------------------------------------------------\u001b[0m",
      "\u001b[1;31mNameError\u001b[0m                                 Traceback (most recent call last)",
      "\u001b[1;32m<ipython-input-72-f2283400fca4>\u001b[0m in \u001b[0;36m<module>\u001b[1;34m\u001b[0m\n\u001b[0;32m      2\u001b[0m \u001b[0mprint\u001b[0m\u001b[1;33m(\u001b[0m\u001b[0mnums\u001b[0m\u001b[1;33m)\u001b[0m\u001b[1;33m\u001b[0m\u001b[1;33m\u001b[0m\u001b[0m\n\u001b[0;32m      3\u001b[0m \u001b[1;32mdel\u001b[0m \u001b[0mnums\u001b[0m\u001b[1;33m\u001b[0m\u001b[1;33m\u001b[0m\u001b[0m\n\u001b[1;32m----> 4\u001b[1;33m \u001b[0mprint\u001b[0m\u001b[1;33m(\u001b[0m\u001b[0mnums\u001b[0m\u001b[1;33m)\u001b[0m\u001b[1;33m\u001b[0m\u001b[1;33m\u001b[0m\u001b[0m\n\u001b[0m",
      "\u001b[1;31mNameError\u001b[0m: name 'nums' is not defined"
     ]
    }
   ],
   "source": [
    "nums = [10,203,40]\n",
    "print(nums)\n",
    "del nums #deletion from memory\n",
    "print(nums)"
   ]
  },
  {
   "cell_type": "code",
   "execution_count": 73,
   "id": "cf015602",
   "metadata": {
    "scrolled": true
   },
   "outputs": [
    {
     "name": "stdout",
     "output_type": "stream",
     "text": [
      "['BANG', 'Estonia', 'India', 'Indo', 'Pak', 'SWIZ', 'Sweden']\n",
      "2228798610880 2228799177920\n"
     ]
    }
   ],
   "source": [
    "# copy()\n",
    "\n",
    "copyVar = countries.copy()\n",
    "\n",
    "print(copyVar)\n",
    "\n",
    "print(id(copyVar) , id(countries))"
   ]
  },
  {
   "cell_type": "code",
   "execution_count": 74,
   "id": "3482ffeb",
   "metadata": {
    "scrolled": true
   },
   "outputs": [
    {
     "name": "stdout",
     "output_type": "stream",
     "text": [
      "['SouthAfrica', 'Estonia', 'India', 'Indo', 'Pak', 'SWIZ', 'Sweden']\n",
      "['BANG', 'Estonia', 'India', 'Indo', 'Pak', 'SWIZ', 'Sweden']\n"
     ]
    }
   ],
   "source": [
    "copyVar[0] = \"SouthAfrica\"\n",
    "\n",
    "print(copyVar)\n",
    "print(countries)"
   ]
  },
  {
   "cell_type": "code",
   "execution_count": null,
   "id": "9588b244",
   "metadata": {
    "scrolled": true
   },
   "outputs": [],
   "source": [
    "names = [\"Meena\",\"Avinash\",\"Srikanth\",\"Prakash\"]\n",
    "\n",
    "students = names #alias copying\n",
    "\n",
    "print(id(names) , id(students))\n",
    "\n",
    "students[0] = \"Kumar\"\n",
    "\n",
    "print(names , students)\n"
   ]
  },
  {
   "cell_type": "code",
   "execution_count": 75,
   "id": "4e7772b7",
   "metadata": {
    "scrolled": true
   },
   "outputs": [
    {
     "name": "stdout",
     "output_type": "stream",
     "text": [
      "140734039599184 140734039599184\n"
     ]
    }
   ],
   "source": [
    "a = 10\n",
    "b = a\n",
    "print(id(a), id(b))\n"
   ]
  },
  {
   "cell_type": "code",
   "execution_count": null,
   "id": "de1d3ba0",
   "metadata": {
    "scrolled": true
   },
   "outputs": [],
   "source": []
  },
  {
   "cell_type": "markdown",
   "id": "97e8bf76",
   "metadata": {},
   "source": [
    "### Tuple \n",
    "    - It's also collections and sequence & ordered data types\n",
    "    - stores multiple items in a single variable.\n",
    "    - declared with (ele1,ele2 ,ele3...)\n",
    "    - INDEXING \n",
    "        - +VE : 0 - N-1\n",
    "        - -VE : -1 - -N\n",
    "    - Immutable : changes not allowed at indexing levels "
   ]
  },
  {
   "cell_type": "code",
   "execution_count": 76,
   "id": "67b84685",
   "metadata": {},
   "outputs": [
    {
     "name": "stdout",
     "output_type": "stream",
     "text": [
      "['__add__', '__class__', '__contains__', '__delattr__', '__dir__', '__doc__', '__eq__', '__format__', '__ge__', '__getattribute__', '__getitem__', '__getnewargs__', '__gt__', '__hash__', '__init__', '__init_subclass__', '__iter__', '__le__', '__len__', '__lt__', '__mul__', '__ne__', '__new__', '__reduce__', '__reduce_ex__', '__repr__', '__rmul__', '__setattr__', '__sizeof__', '__str__', '__subclasshook__', 'count', 'index']\n"
     ]
    }
   ],
   "source": [
    "print(dir(()))"
   ]
  },
  {
   "cell_type": "code",
   "execution_count": null,
   "id": "c3a5a4e3",
   "metadata": {
    "scrolled": true
   },
   "outputs": [],
   "source": [
    "planets = ('Earth', 'Jupiter', 'Neptune', 'Mars', 'Venus', 'Saturn', 'Uranus', 'Mercury') # planets"
   ]
  },
  {
   "cell_type": "code",
   "execution_count": null,
   "id": "976c4eb4",
   "metadata": {
    "scrolled": true
   },
   "outputs": [],
   "source": [
    "print(planets , type(planets))"
   ]
  },
  {
   "cell_type": "code",
   "execution_count": null,
   "id": "bfe8ea8b",
   "metadata": {
    "scrolled": true
   },
   "outputs": [],
   "source": [
    "print(planets[2])"
   ]
  },
  {
   "cell_type": "code",
   "execution_count": null,
   "id": "cdd6f09d",
   "metadata": {
    "scrolled": true
   },
   "outputs": [],
   "source": [
    "print(planets[-1])"
   ]
  },
  {
   "cell_type": "code",
   "execution_count": null,
   "id": "376af8f7",
   "metadata": {
    "scrolled": true
   },
   "outputs": [],
   "source": [
    "print(planets[-100])"
   ]
  },
  {
   "cell_type": "code",
   "execution_count": null,
   "id": "1bba67fa",
   "metadata": {
    "scrolled": true
   },
   "outputs": [],
   "source": [
    "planets[1] = \"Pluto\" #error"
   ]
  },
  {
   "cell_type": "markdown",
   "id": "8e6e202b",
   "metadata": {},
   "source": [
    "### tuple methods\n",
    "    - count()\n",
    "    - index()"
   ]
  },
  {
   "cell_type": "code",
   "execution_count": null,
   "id": "fcb04c03",
   "metadata": {},
   "outputs": [],
   "source": [
    "print(dir(()))"
   ]
  },
  {
   "cell_type": "code",
   "execution_count": null,
   "id": "9a336f17",
   "metadata": {
    "scrolled": true
   },
   "outputs": [],
   "source": [
    "planets.count(\"Mars\")"
   ]
  },
  {
   "cell_type": "code",
   "execution_count": null,
   "id": "a7ccf627",
   "metadata": {
    "scrolled": true
   },
   "outputs": [],
   "source": [
    "planets.count(\"Aplha\")"
   ]
  },
  {
   "cell_type": "code",
   "execution_count": null,
   "id": "6e979433",
   "metadata": {
    "scrolled": true
   },
   "outputs": [],
   "source": [
    "planets.index(\"Earth\")"
   ]
  },
  {
   "cell_type": "code",
   "execution_count": null,
   "id": "5e8f5776",
   "metadata": {
    "scrolled": true
   },
   "outputs": [],
   "source": [
    "planets.index(\"Pluto\")"
   ]
  },
  {
   "cell_type": "code",
   "execution_count": null,
   "id": "fcd3b67a",
   "metadata": {
    "scrolled": true
   },
   "outputs": [],
   "source": []
  },
  {
   "cell_type": "code",
   "execution_count": null,
   "id": "e4a52947",
   "metadata": {
    "scrolled": true
   },
   "outputs": [],
   "source": []
  },
  {
   "cell_type": "markdown",
   "id": "ad2e0bab",
   "metadata": {},
   "source": [
    "## Set \n",
    "    - It's Un-Ordered & Un-Indexed.\n",
    "    - Doesn't store the duplicates.\n",
    "    - declared with {}\n",
    "    - No Indexing because of No Ordering.\n",
    "    - Mutable\n",
    "    "
   ]
  },
  {
   "cell_type": "code",
   "execution_count": null,
   "id": "ed8cd51c",
   "metadata": {
    "scrolled": true
   },
   "outputs": [],
   "source": [
    "teams = {\"Ind\",\"Aus\",\"Eng\",\"Bang\",\"Pak\",\"Sa\",\"Sa\",\"Aus\"}\n",
    "print(teams)"
   ]
  },
  {
   "cell_type": "code",
   "execution_count": null,
   "id": "e963bbdb",
   "metadata": {
    "scrolled": true
   },
   "outputs": [],
   "source": [
    "print(teams[0]) #error set' object is not subscriptable"
   ]
  },
  {
   "cell_type": "markdown",
   "id": "6f2c29e5",
   "metadata": {},
   "source": [
    "#### set methods\n",
    "        'add', 'clear', 'copy', 'difference', 'difference_update', \n",
    "        'discard', 'intersection', 'intersection_update', 'isdisjoint', \n",
    "        'issubset', 'issuperset', 'pop', 'remove', 'symmetric_difference',\n",
    "        'symmetric_difference_update', 'union', 'update'"
   ]
  },
  {
   "cell_type": "code",
   "execution_count": null,
   "id": "8daf9c0a",
   "metadata": {
    "scrolled": true
   },
   "outputs": [],
   "source": [
    "print(dir(set()))"
   ]
  },
  {
   "cell_type": "code",
   "execution_count": null,
   "id": "a6b75d39",
   "metadata": {
    "scrolled": true
   },
   "outputs": [],
   "source": [
    "print(teams)"
   ]
  },
  {
   "cell_type": "code",
   "execution_count": null,
   "id": "0be036db",
   "metadata": {
    "scrolled": true
   },
   "outputs": [],
   "source": [
    "teams.add(\"Zimb\") #add data to the set."
   ]
  },
  {
   "cell_type": "code",
   "execution_count": null,
   "id": "41361057",
   "metadata": {
    "scrolled": true
   },
   "outputs": [],
   "source": [
    "print(teams)"
   ]
  },
  {
   "cell_type": "code",
   "execution_count": null,
   "id": "1d2ceba6",
   "metadata": {
    "scrolled": true
   },
   "outputs": [],
   "source": [
    "teams.discard(\"USA\") #no element no  error \n",
    "print(teams)"
   ]
  },
  {
   "cell_type": "code",
   "execution_count": null,
   "id": "32c8e538",
   "metadata": {
    "scrolled": true
   },
   "outputs": [],
   "source": [
    "teams.remove(\"Bang\") #no element will throw error\n",
    "print(teams)"
   ]
  },
  {
   "cell_type": "code",
   "execution_count": null,
   "id": "c7c82b64",
   "metadata": {
    "scrolled": true
   },
   "outputs": [],
   "source": [
    "teams.remove(\"USA\") #raise Error if not a element\n",
    "print(teams)"
   ]
  },
  {
   "cell_type": "code",
   "execution_count": null,
   "id": "5ca28785",
   "metadata": {
    "scrolled": true
   },
   "outputs": [],
   "source": [
    "x = {\"apple\",\"google\",\"amazon\"}\n",
    "y = {\"netflix\",\"google\",\"apple\"}\n",
    "\n",
    "print(x.difference(y))"
   ]
  },
  {
   "cell_type": "code",
   "execution_count": null,
   "id": "8b9d0fea",
   "metadata": {
    "scrolled": true
   },
   "outputs": [],
   "source": [
    "#difference()\n",
    "x = {\"apple\",\"google\",\"amazon\"}\n",
    "y = {\"netflix\",\"google\",\"apple\"}\n",
    "\n",
    "print(y.difference(x))"
   ]
  },
  {
   "cell_type": "code",
   "execution_count": null,
   "id": "1f8a3e26",
   "metadata": {
    "scrolled": true
   },
   "outputs": [],
   "source": [
    "# union()\n",
    "\n",
    "print(x.union(y))\n",
    "\n",
    "print(x | y) #pipe symbol"
   ]
  },
  {
   "cell_type": "code",
   "execution_count": null,
   "id": "2fe1ef16",
   "metadata": {
    "scrolled": true
   },
   "outputs": [],
   "source": [
    "# intersection\n",
    "print(x.intersection(y)) #common elements"
   ]
  },
  {
   "cell_type": "code",
   "execution_count": null,
   "id": "7c58c3f2",
   "metadata": {
    "scrolled": true
   },
   "outputs": [],
   "source": [
    "print(x)"
   ]
  },
  {
   "cell_type": "code",
   "execution_count": null,
   "id": "b8ad7247",
   "metadata": {
    "scrolled": true
   },
   "outputs": [],
   "source": [
    "print(x.pop())"
   ]
  },
  {
   "cell_type": "code",
   "execution_count": null,
   "id": "124fa23b",
   "metadata": {
    "scrolled": true
   },
   "outputs": [],
   "source": [
    "{}.pop()\n",
    "[].pop()\n",
    "{dict}.pop()\n",
    "\n",
    "# raise a KeyError"
   ]
  },
  {
   "cell_type": "code",
   "execution_count": null,
   "id": "b4f26e0e",
   "metadata": {
    "scrolled": true
   },
   "outputs": [],
   "source": [
    "a = {\"iphone12\",\"iphone13\",\"iphone14\"}\n",
    "b = {\"ipad9gen\",\"ipadpro\",\"microsoftSurface\",\"iphone16\"}\n",
    "\n",
    "print(a.isdisjoint(b))\n"
   ]
  },
  {
   "cell_type": "code",
   "execution_count": null,
   "id": "6f678509",
   "metadata": {
    "scrolled": true
   },
   "outputs": [],
   "source": [
    "c = {\"iphone13\",\"iphone14\"}\n",
    "\n",
    "print(c.issubset(a))"
   ]
  },
  {
   "cell_type": "code",
   "execution_count": null,
   "id": "2fa9b6f2",
   "metadata": {
    "scrolled": true
   },
   "outputs": [],
   "source": []
  },
  {
   "cell_type": "code",
   "execution_count": null,
   "id": "dc48c922",
   "metadata": {
    "scrolled": true
   },
   "outputs": [],
   "source": [
    "# remove duplicate elements\n",
    "lst = [10,20,30,20,20,30,20]\n",
    "\n",
    "print(len(lst))"
   ]
  },
  {
   "cell_type": "code",
   "execution_count": null,
   "id": "96110a33",
   "metadata": {
    "scrolled": true
   },
   "outputs": [],
   "source": [
    "NoDupList = set(lst) #list -- set convertion\n",
    "\n",
    "print(NoDupList , len(NoDupList))"
   ]
  },
  {
   "cell_type": "code",
   "execution_count": null,
   "id": "b9cdc0bc",
   "metadata": {
    "scrolled": true
   },
   "outputs": [],
   "source": []
  },
  {
   "cell_type": "code",
   "execution_count": null,
   "id": "3397b7f1",
   "metadata": {
    "scrolled": true
   },
   "outputs": [],
   "source": [
    "seta = {10,20.2,\"kumar\",True,10+2j,None}\n",
    "\n",
    "print(seta)"
   ]
  },
  {
   "cell_type": "code",
   "execution_count": null,
   "id": "ef6bf604",
   "metadata": {
    "scrolled": true
   },
   "outputs": [],
   "source": []
  },
  {
   "cell_type": "code",
   "execution_count": null,
   "id": "793ea82c",
   "metadata": {
    "scrolled": true
   },
   "outputs": [],
   "source": [
    "\n",
    "studentName = []\n",
    "studentName.append(input(\"enter student-name\"))\n",
    "studentName.append(input(\"enter student-name\"))\n",
    "studentName.append(input(\"enter student-name\"))\n",
    "studentName.append(input(\"enter student-name\"))\n",
    "print(studentName)"
   ]
  },
  {
   "cell_type": "code",
   "execution_count": null,
   "id": "f1c1c3c4",
   "metadata": {
    "scrolled": true
   },
   "outputs": [],
   "source": [
    "studentName.insert(0,input(\"enter name\"))"
   ]
  },
  {
   "cell_type": "code",
   "execution_count": null,
   "id": "85f75ef4",
   "metadata": {
    "scrolled": true
   },
   "outputs": [],
   "source": [
    "print(studentName)"
   ]
  },
  {
   "cell_type": "code",
   "execution_count": null,
   "id": "6495424d",
   "metadata": {
    "scrolled": true
   },
   "outputs": [],
   "source": [
    "studentName.extend([\"John\",\"Ganesh\"])\n",
    "print(studentName)"
   ]
  },
  {
   "cell_type": "code",
   "execution_count": null,
   "id": "fd159b19",
   "metadata": {
    "scrolled": true
   },
   "outputs": [],
   "source": []
  },
  {
   "cell_type": "code",
   "execution_count": null,
   "id": "a8f90d50",
   "metadata": {
    "scrolled": true
   },
   "outputs": [],
   "source": []
  },
  {
   "cell_type": "markdown",
   "id": "55bbc8ae",
   "metadata": {},
   "source": [
    "### Dictionary \n",
    "        - Based on key:value\n",
    "\t\t- Keys should be immutable and unique\n",
    "\t\t\t:: Immutable \t\n",
    "\t\t\t\t\t- str\n",
    "\t\t\t\t\t- tuple \n",
    "\t\t\t\t\t- int , float , complex , boolean\n",
    "        - Indexing is based on Keys\n",
    "\t\t##methods \n",
    "\t\t\t- keys()\n",
    "\t\t\t- values()\n",
    "\t\t\t- items()\n",
    "\t\t\t- pop()\n",
    "\t\t\t- popitem()\n",
    "\t\t\t- update()\n",
    "\t\t\t- get()\n",
    "            \n",
    "        syntax:\n",
    "            varName = {\n",
    "                k1:v1,\n",
    "                k2:v2,\n",
    "                ...\n",
    "                ...\n",
    "                \n",
    "                kn:vn\n",
    "                }"
   ]
  },
  {
   "cell_type": "code",
   "execution_count": null,
   "id": "f1a98a16",
   "metadata": {
    "scrolled": true
   },
   "outputs": [],
   "source": [
    "team = {\n",
    "    'cricketTeamName' : 'India',\n",
    "    'Captain' : 'RS',\n",
    "    'country' : 'India', \n",
    "    'year' : 2022, \n",
    "    'is_top20' : True,\n",
    "    'Players' : ['Virat', 'Rohit', 'Bhu', 'Python'],\n",
    "    'Captain' : \"Virat\"\n",
    "    }\n",
    "\n",
    "print(team , type(team))"
   ]
  },
  {
   "cell_type": "code",
   "execution_count": null,
   "id": "ea83c4a7",
   "metadata": {
    "scrolled": true
   },
   "outputs": [],
   "source": [
    "\n",
    "print(type(10))\n",
    "\n",
    "print(type(\"kumar\"))\n",
    "\n",
    "print(type([]))\n",
    "\n",
    "print(type( () ))\n",
    "\n",
    "\n",
    "print(type(set()))\n",
    "\n",
    "print(type({}))\n"
   ]
  },
  {
   "cell_type": "code",
   "execution_count": null,
   "id": "c7e36f1c",
   "metadata": {},
   "outputs": [],
   "source": [
    "team"
   ]
  },
  {
   "cell_type": "code",
   "execution_count": null,
   "id": "9b9ed36c",
   "metadata": {},
   "outputs": [],
   "source": [
    "team[0]"
   ]
  },
  {
   "cell_type": "code",
   "execution_count": null,
   "id": "16207968",
   "metadata": {},
   "outputs": [],
   "source": [
    "team[\"Country\"]"
   ]
  },
  {
   "cell_type": "code",
   "execution_count": null,
   "id": "dc9d0183",
   "metadata": {
    "scrolled": true
   },
   "outputs": [],
   "source": [
    "print(team.keys())"
   ]
  },
  {
   "cell_type": "code",
   "execution_count": null,
   "id": "7d64a248",
   "metadata": {
    "scrolled": true
   },
   "outputs": [],
   "source": [
    "print(team['country'])"
   ]
  },
  {
   "cell_type": "code",
   "execution_count": null,
   "id": "fc0aabc4",
   "metadata": {
    "scrolled": true
   },
   "outputs": [],
   "source": [
    "print(team[\"captain\"])"
   ]
  },
  {
   "cell_type": "code",
   "execution_count": null,
   "id": "64b8294e",
   "metadata": {
    "scrolled": true
   },
   "outputs": [],
   "source": [
    "print(team[\"Players\"])"
   ]
  },
  {
   "cell_type": "code",
   "execution_count": null,
   "id": "00af82e8",
   "metadata": {
    "scrolled": true
   },
   "outputs": [],
   "source": [
    "print(team['year'])"
   ]
  },
  {
   "cell_type": "markdown",
   "id": "16eda400",
   "metadata": {},
   "source": [
    "### methods "
   ]
  },
  {
   "cell_type": "code",
   "execution_count": null,
   "id": "f1167371",
   "metadata": {
    "scrolled": true
   },
   "outputs": [],
   "source": [
    "#get()\n",
    "print(team.get('score'))"
   ]
  },
  {
   "cell_type": "code",
   "execution_count": null,
   "id": "46d3d7d0",
   "metadata": {
    "scrolled": true
   },
   "outputs": [],
   "source": [
    "print(team[\"score\"]) #fastest"
   ]
  },
  {
   "cell_type": "code",
   "execution_count": null,
   "id": "15e1ea46",
   "metadata": {
    "scrolled": true
   },
   "outputs": [],
   "source": [
    "print(team.get(\"year\",\"Key not found\"))"
   ]
  },
  {
   "cell_type": "code",
   "execution_count": null,
   "id": "63616a64",
   "metadata": {},
   "outputs": [],
   "source": [
    "[\"keyname\"] --> always should be valid key otherwise raise keyerror\n",
    ".get(\"keyname\") --> if key is invalid it will print None or some text"
   ]
  },
  {
   "cell_type": "code",
   "execution_count": null,
   "id": "c4cc3a0b",
   "metadata": {},
   "outputs": [],
   "source": []
  },
  {
   "cell_type": "code",
   "execution_count": null,
   "id": "66d5eee9",
   "metadata": {},
   "outputs": [],
   "source": []
  },
  {
   "cell_type": "code",
   "execution_count": null,
   "id": "d940e260",
   "metadata": {
    "scrolled": true
   },
   "outputs": [],
   "source": [
    "#keys()\n",
    "\n",
    "print(team.keys())"
   ]
  },
  {
   "cell_type": "code",
   "execution_count": null,
   "id": "be4acbf2",
   "metadata": {
    "scrolled": true
   },
   "outputs": [],
   "source": [
    "#values()\n",
    "print(team.values())"
   ]
  },
  {
   "cell_type": "code",
   "execution_count": null,
   "id": "0249aabb",
   "metadata": {
    "scrolled": true
   },
   "outputs": [],
   "source": [
    "#items() --[(K1,V1),(K2,V2)....] list of tuples\n",
    "\n",
    "\n",
    "print(team.items())"
   ]
  },
  {
   "cell_type": "code",
   "execution_count": null,
   "id": "8c62a453",
   "metadata": {
    "scrolled": true
   },
   "outputs": [],
   "source": [
    "print(team)"
   ]
  },
  {
   "cell_type": "code",
   "execution_count": null,
   "id": "663b64d0",
   "metadata": {
    "scrolled": true
   },
   "outputs": [],
   "source": [
    "team.update({\"year\":\"2023\"})\n",
    "\n",
    "print(team)"
   ]
  },
  {
   "cell_type": "code",
   "execution_count": null,
   "id": "cfd39a9c",
   "metadata": {
    "scrolled": true
   },
   "outputs": [],
   "source": [
    "team.update({\"score1\":\"100067\"})\n",
    "\n",
    "print(team)"
   ]
  },
  {
   "cell_type": "code",
   "execution_count": null,
   "id": "466bd4c2",
   "metadata": {
    "scrolled": true
   },
   "outputs": [],
   "source": [
    "print(team)"
   ]
  },
  {
   "cell_type": "code",
   "execution_count": null,
   "id": "ec85d884",
   "metadata": {
    "scrolled": true
   },
   "outputs": [],
   "source": [
    "res = team.pop(\"year\")\n",
    "\n",
    "print(res)\n"
   ]
  },
  {
   "cell_type": "code",
   "execution_count": null,
   "id": "094ba291",
   "metadata": {
    "scrolled": true
   },
   "outputs": [],
   "source": [
    "print(team)"
   ]
  },
  {
   "cell_type": "code",
   "execution_count": null,
   "id": "0b6aa177",
   "metadata": {
    "scrolled": true
   },
   "outputs": [],
   "source": [
    "print(team.popitem()) #always remove last (k,v)"
   ]
  },
  {
   "cell_type": "code",
   "execution_count": null,
   "id": "e76517be",
   "metadata": {
    "scrolled": true
   },
   "outputs": [],
   "source": []
  },
  {
   "cell_type": "code",
   "execution_count": null,
   "id": "4167d07a",
   "metadata": {
    "scrolled": true
   },
   "outputs": [],
   "source": [
    "# get()\n",
    "# items()\n",
    "# keys()\n",
    "# values()\n",
    "# pop()\n",
    "# popitem()\n",
    "# update()\n",
    "\n",
    "\n",
    "# NOTE:\n",
    "    - U can't access invalied key --> Key Error.\n",
    "    - U can't pop on invalid key --> Key Error.\n",
    "    - U can't pop on empty dictionary\n",
    "    - When you try to update invalid key --> it will create a new entry"
   ]
  },
  {
   "cell_type": "code",
   "execution_count": null,
   "id": "5567228c",
   "metadata": {
    "scrolled": true
   },
   "outputs": [],
   "source": [
    "# LIST \n",
    "lst = [] \n",
    "\n",
    "# add india team name  and take input from keyboard.\n",
    "\n",
    "lst.append(input(\"Enter the team Name\"))\n",
    "\n",
    "# add aus at 0 location\n",
    "lst.insert(0,\"AUS\")\n",
    "\n",
    "# add ENG , BAN at once at the end of the list\n",
    "lst.extend([\"ENG\",\"BAN\"])\n",
    "\n",
    "\n",
    "# sort the data \n",
    "\n",
    "lst.sort()\n",
    "\n",
    "lst.reverse()\n",
    "\n",
    "print(lst)\n",
    "\n",
    "\n",
    "print(\"index of india is\", lst.index(\"AUS\"))\n"
   ]
  },
  {
   "cell_type": "code",
   "execution_count": null,
   "id": "c0b23103",
   "metadata": {
    "scrolled": true
   },
   "outputs": [],
   "source": [
    "planets = (\"Earth\",\"Mars\",\"Jupiter\")\n",
    "\n",
    "print(planets.count(\"Venues\"))\n",
    "\n",
    "print(planets.index(\"Mars\"))"
   ]
  },
  {
   "cell_type": "code",
   "execution_count": null,
   "id": "de44a866",
   "metadata": {
    "scrolled": true
   },
   "outputs": [],
   "source": [
    "names = {\"monica\",\"srinivas\"} #mutable\n",
    "\n",
    "names.add(\"kumar\")\n",
    "\n",
    "print(names)"
   ]
  },
  {
   "cell_type": "code",
   "execution_count": null,
   "id": "70bad71c",
   "metadata": {
    "scrolled": true
   },
   "outputs": [],
   "source": [
    "studentName = {\n",
    "    \"name\" :\"Alex\",\n",
    "    \"branch\" : \"IT\",\n",
    "    \"college\" : \"ABC College\",\n",
    "    \"fee\" : 19283.3893,\n",
    "    \"isStudent\" : True,\n",
    "    \"skills\" : [\"Web Dev\",\"Java\",\"Python\"]\n",
    "    \n",
    "}\n",
    "\n",
    "print(studentName)"
   ]
  },
  {
   "cell_type": "code",
   "execution_count": null,
   "id": "5e377b03",
   "metadata": {},
   "outputs": [],
   "source": [
    "popped_val = studentName.pop(\"fee\")\n",
    "print(popped_val)"
   ]
  },
  {
   "cell_type": "code",
   "execution_count": null,
   "id": "2d25593f",
   "metadata": {},
   "outputs": [],
   "source": [
    "studentName"
   ]
  },
  {
   "cell_type": "code",
   "execution_count": null,
   "id": "6d061ee4",
   "metadata": {},
   "outputs": [],
   "source": [
    "studentName.popitem()"
   ]
  },
  {
   "cell_type": "code",
   "execution_count": null,
   "id": "69b09060",
   "metadata": {},
   "outputs": [],
   "source": [
    "studentName"
   ]
  },
  {
   "cell_type": "code",
   "execution_count": null,
   "id": "ecabc517",
   "metadata": {
    "scrolled": true
   },
   "outputs": [],
   "source": [
    "print(studentName[\"skills\"])"
   ]
  },
  {
   "cell_type": "code",
   "execution_count": null,
   "id": "1205b8ea",
   "metadata": {
    "scrolled": true
   },
   "outputs": [],
   "source": [
    "print(studentName[\"name\"])"
   ]
  },
  {
   "cell_type": "code",
   "execution_count": null,
   "id": "f854820a",
   "metadata": {
    "scrolled": true
   },
   "outputs": [],
   "source": [
    "print(studentName.get(\"shijkds\",\"key not found\"))"
   ]
  },
  {
   "cell_type": "code",
   "execution_count": null,
   "id": "773ddd36",
   "metadata": {
    "scrolled": true
   },
   "outputs": [],
   "source": [
    "print(studentName[\"country\"])"
   ]
  },
  {
   "cell_type": "code",
   "execution_count": null,
   "id": "244b3689",
   "metadata": {
    "scrolled": true
   },
   "outputs": [],
   "source": []
  },
  {
   "cell_type": "code",
   "execution_count": null,
   "id": "2c6e044a",
   "metadata": {
    "scrolled": true
   },
   "outputs": [],
   "source": []
  },
  {
   "cell_type": "code",
   "execution_count": null,
   "id": "ab07c5bb",
   "metadata": {
    "scrolled": true
   },
   "outputs": [],
   "source": []
  },
  {
   "cell_type": "markdown",
   "id": "19b3f03c",
   "metadata": {},
   "source": [
    "## prebuild-functions\n",
    "\n",
    "- In Python we have lots of built-in functions.\n",
    "- Built-in functions are globally available for your use that mean you can make use of the built-in functions without importing or configuring.\n",
    " > Some of the most commonly used Python built-in functions are the following: \n",
    "    -  print(), len(), type(), int(), float(), str(), input(), list(), dict(), min(), max(), sum(), sorted(), open(), file(), help(), and dir().\n",
    "    \n",
    "  <img src = \"https://s4scoding.com/images/python-built-in-functions.jpg\" width= \"700\" height=\"800\">"
   ]
  },
  {
   "cell_type": "code",
   "execution_count": null,
   "id": "aa5918ad",
   "metadata": {
    "scrolled": true
   },
   "outputs": [],
   "source": [
    "lst = [10,203,20]  \n",
    "\n",
    "# print(dir(lst))\n",
    "\n",
    "print(type(lst))"
   ]
  },
  {
   "cell_type": "code",
   "execution_count": null,
   "id": "776d3bfd",
   "metadata": {},
   "outputs": [],
   "source": [
    "print(sum(lst))\n",
    "print(max(lst))\n",
    "print(min(lst))"
   ]
  },
  {
   "cell_type": "code",
   "execution_count": null,
   "id": "a0ddca4e",
   "metadata": {
    "scrolled": true
   },
   "outputs": [],
   "source": [
    "print(help(lst))"
   ]
  },
  {
   "cell_type": "code",
   "execution_count": null,
   "id": "8b2eba8a",
   "metadata": {
    "scrolled": true
   },
   "outputs": [],
   "source": [
    "##type()  id()\n",
    "\n",
    "name = \"Kumar\"\n",
    "\n",
    "print(type(name))\n",
    "\n",
    "age = 10\n",
    "\n",
    "print(type(age))\n",
    "\n",
    "person = {\"name\":\"Ram\",\"course\":\"Python\",\"collge\":\"ABC\"}\n",
    "\n",
    "print(type(person))\n",
    "\n",
    "\n",
    "print(id(name) , id(age) , id(person))\n"
   ]
  },
  {
   "cell_type": "code",
   "execution_count": null,
   "id": "d5fb2404",
   "metadata": {
    "scrolled": true
   },
   "outputs": [],
   "source": []
  },
  {
   "cell_type": "code",
   "execution_count": null,
   "id": "e9de298d",
   "metadata": {
    "scrolled": true
   },
   "outputs": [],
   "source": [
    "print(type(\"AK\"))\n",
    "\n",
    "print(type(10))\n",
    "\n",
    "print(type(\"10\"))\n",
    "\n",
    "print(type(10.378683))\n",
    "\n",
    "print(type(True))\n",
    "\n",
    "print(type([10,203,30]))\n",
    "\n",
    "print(type((10,203,30)))\n",
    "      \n",
    "print(type({10,203,30,30}))"
   ]
  },
  {
   "cell_type": "code",
   "execution_count": null,
   "id": "03239f2b",
   "metadata": {
    "scrolled": true
   },
   "outputs": [],
   "source": [
    "a = 10,20,304,40\n",
    "print(type(a))"
   ]
  },
  {
   "cell_type": "code",
   "execution_count": null,
   "id": "03139b14",
   "metadata": {
    "scrolled": true
   },
   "outputs": [],
   "source": []
  },
  {
   "cell_type": "code",
   "execution_count": null,
   "id": "f22b8e84",
   "metadata": {
    "scrolled": true
   },
   "outputs": [],
   "source": [
    "#dir()\n",
    "print(dir([]))"
   ]
  },
  {
   "cell_type": "code",
   "execution_count": null,
   "id": "844c9abd",
   "metadata": {
    "scrolled": true
   },
   "outputs": [],
   "source": [
    "print(dir(\"\"))"
   ]
  },
  {
   "cell_type": "code",
   "execution_count": null,
   "id": "765c712b",
   "metadata": {
    "scrolled": true
   },
   "outputs": [],
   "source": [
    "#  sum()\n",
    "\n",
    "marks = [10,20,30]\n",
    "\n",
    "print(sum(marks))"
   ]
  },
  {
   "cell_type": "code",
   "execution_count": null,
   "id": "699478e2",
   "metadata": {
    "scrolled": true
   },
   "outputs": [],
   "source": []
  },
  {
   "cell_type": "code",
   "execution_count": null,
   "id": "d71502c8",
   "metadata": {
    "scrolled": true
   },
   "outputs": [],
   "source": [
    "#max() min()\n",
    "\n",
    "print(max(marks))\n",
    "\n",
    "print(min(marks))"
   ]
  },
  {
   "cell_type": "code",
   "execution_count": null,
   "id": "06a2ae7f",
   "metadata": {
    "scrolled": true
   },
   "outputs": [],
   "source": []
  },
  {
   "cell_type": "code",
   "execution_count": null,
   "id": "1e1bd7db",
   "metadata": {
    "scrolled": true
   },
   "outputs": [],
   "source": [
    "#len() --> list tuple str set dict\n",
    "\n",
    "print(len(marks))\n",
    "\n",
    "print(len(\"Kumar      R\"))\n",
    "\n",
    "\n",
    "print(len(person))\n",
    "\n",
    "print(len(10)) #error."
   ]
  },
  {
   "cell_type": "code",
   "execution_count": null,
   "id": "03815347",
   "metadata": {
    "scrolled": true
   },
   "outputs": [],
   "source": [
    "print(a)"
   ]
  },
  {
   "cell_type": "code",
   "execution_count": null,
   "id": "744220e3",
   "metadata": {
    "scrolled": true
   },
   "outputs": [],
   "source": [
    "print(ord(\"H\"),ord(\"i\"))"
   ]
  },
  {
   "cell_type": "code",
   "execution_count": null,
   "id": "69fd312a",
   "metadata": {
    "scrolled": true
   },
   "outputs": [],
   "source": [
    "print(chr(97) , chr(105))"
   ]
  },
  {
   "cell_type": "code",
   "execution_count": null,
   "id": "eb5d70c6",
   "metadata": {
    "scrolled": true
   },
   "outputs": [],
   "source": []
  },
  {
   "cell_type": "code",
   "execution_count": null,
   "id": "5be7d870",
   "metadata": {
    "scrolled": true
   },
   "outputs": [],
   "source": [
    "a = int(input()) #str --> int\n",
    "b = int(input())\n",
    "print(a+b)"
   ]
  },
  {
   "cell_type": "code",
   "execution_count": null,
   "id": "57921af0",
   "metadata": {
    "scrolled": true
   },
   "outputs": [],
   "source": []
  },
  {
   "cell_type": "code",
   "execution_count": null,
   "id": "98f4b19e",
   "metadata": {
    "scrolled": true
   },
   "outputs": [],
   "source": []
  },
  {
   "cell_type": "markdown",
   "id": "395190c6",
   "metadata": {},
   "source": [
    "## Range\n",
    "    - generate a sequence of integer values \n",
    "    - mainly used in for-loops\n",
    "    - Has 3 params \n",
    "            - Start : 0\n",
    "            - Stop : LEN-1\n",
    "            - Step : 1\n",
    "    - range() method gives a object , cast to list() or tuple() for displaying the output.\n",
    "    - stop param is mandatory & always excluded.\n",
    "    "
   ]
  },
  {
   "cell_type": "code",
   "execution_count": null,
   "id": "221f9e53",
   "metadata": {
    "scrolled": true
   },
   "outputs": [],
   "source": [
    "# range(start,stop,step)"
   ]
  },
  {
   "cell_type": "code",
   "execution_count": null,
   "id": "51dad0ba",
   "metadata": {
    "scrolled": true
   },
   "outputs": [],
   "source": [
    "a = range(1,10,1)\n",
    "print(a)  #1,2 , 3 ...... 9"
   ]
  },
  {
   "cell_type": "code",
   "execution_count": null,
   "id": "8fcc44ac",
   "metadata": {
    "scrolled": true
   },
   "outputs": [],
   "source": [
    "print(list(a))"
   ]
  },
  {
   "cell_type": "code",
   "execution_count": null,
   "id": "1bc23120",
   "metadata": {
    "scrolled": true
   },
   "outputs": [],
   "source": [
    "print(range(1,5,1))\n"
   ]
  },
  {
   "cell_type": "code",
   "execution_count": null,
   "id": "0a69988c",
   "metadata": {
    "scrolled": true
   },
   "outputs": [],
   "source": [
    "a = tuple(range(0,5,1))\n",
    "\n",
    "print(a)"
   ]
  },
  {
   "cell_type": "code",
   "execution_count": null,
   "id": "c69b2f67",
   "metadata": {
    "scrolled": true
   },
   "outputs": [],
   "source": [
    "a = list(range(1,10,2))\n",
    "\n",
    "print(a)"
   ]
  },
  {
   "cell_type": "code",
   "execution_count": null,
   "id": "9274bcc2",
   "metadata": {
    "scrolled": true
   },
   "outputs": [],
   "source": [
    "a = list(range(-1,-5,-1))\n",
    "\n",
    "print(a)"
   ]
  },
  {
   "cell_type": "code",
   "execution_count": null,
   "id": "38115b01",
   "metadata": {
    "scrolled": true
   },
   "outputs": [],
   "source": [
    "\n",
    "\n",
    "a = list(range(5))\n",
    "\n",
    "\n",
    "print(a)"
   ]
  },
  {
   "cell_type": "code",
   "execution_count": null,
   "id": "0efb48c0",
   "metadata": {
    "scrolled": true
   },
   "outputs": [],
   "source": []
  },
  {
   "cell_type": "code",
   "execution_count": null,
   "id": "a7551bfd",
   "metadata": {
    "scrolled": true
   },
   "outputs": [],
   "source": [
    "a = list(range(1,2))\n",
    "\n",
    "print(a)"
   ]
  },
  {
   "cell_type": "code",
   "execution_count": null,
   "id": "63e40eb6",
   "metadata": {
    "scrolled": true
   },
   "outputs": [],
   "source": [
    "a = list(range(0,20,2))\n",
    "\n",
    "print(a)"
   ]
  },
  {
   "cell_type": "code",
   "execution_count": null,
   "id": "46f4f669",
   "metadata": {
    "scrolled": true
   },
   "outputs": [],
   "source": [
    "a = list(range(1,20,2))\n",
    "\n",
    "print(a)"
   ]
  },
  {
   "cell_type": "code",
   "execution_count": null,
   "id": "ec559d62",
   "metadata": {
    "scrolled": true
   },
   "outputs": [],
   "source": [
    "list(range())"
   ]
  },
  {
   "cell_type": "code",
   "execution_count": null,
   "id": "fa8a5b95",
   "metadata": {
    "scrolled": true
   },
   "outputs": [],
   "source": [
    "list(range(1,1))"
   ]
  },
  {
   "cell_type": "code",
   "execution_count": null,
   "id": "eaae8ae3",
   "metadata": {
    "scrolled": true
   },
   "outputs": [],
   "source": [
    "# next value < stop\n"
   ]
  },
  {
   "cell_type": "code",
   "execution_count": null,
   "id": "20904f97",
   "metadata": {
    "scrolled": true
   },
   "outputs": [],
   "source": [
    "list(range(-1,5,1))"
   ]
  },
  {
   "cell_type": "code",
   "execution_count": null,
   "id": "bee30e5d",
   "metadata": {
    "scrolled": true
   },
   "outputs": [],
   "source": [
    "list(range(-1,-5,1))"
   ]
  },
  {
   "cell_type": "code",
   "execution_count": null,
   "id": "e12224af",
   "metadata": {
    "scrolled": true
   },
   "outputs": [],
   "source": []
  },
  {
   "cell_type": "markdown",
   "id": "3a7d9a05",
   "metadata": {},
   "source": [
    "### Casting\n",
    "    - Converting one data type to another data type. \n",
    "    - We use int(), float(), str(), list(), set() \n",
    "    - When we do arithmetic operations string numbers should be first converted to int or float otherwise it will return an error. \n",
    "    - If we concatenate a number with a string, the number should be first converted to a string. "
   ]
  },
  {
   "cell_type": "code",
   "execution_count": null,
   "id": "62a0d61d",
   "metadata": {
    "scrolled": true
   },
   "outputs": [],
   "source": [
    "a = input()#reads a string type\n",
    "b = input()\n",
    "print(a+b) #string concat or merging"
   ]
  },
  {
   "cell_type": "code",
   "execution_count": null,
   "id": "b564f256",
   "metadata": {
    "scrolled": true
   },
   "outputs": [],
   "source": [
    "a = float(input()) #str - float\n",
    "b = int(input()) # str - int\n",
    "print(a+b)\n"
   ]
  },
  {
   "cell_type": "code",
   "execution_count": null,
   "id": "f3466eb5",
   "metadata": {
    "scrolled": true
   },
   "outputs": [],
   "source": [
    "name = \"Srinivas\"\n",
    "print(name)\n",
    "print(\"Iam ,\" , name)\n",
    "print(\"my name is :  \", name)"
   ]
  },
  {
   "cell_type": "code",
   "execution_count": null,
   "id": "2dcfac40",
   "metadata": {
    "scrolled": true
   },
   "outputs": [],
   "source": [
    "# int to float\n",
    "num_int = 10\n",
    "print('num_int',num_int)         # 10\n",
    "num_float = float(num_int)\n",
    "print('num_float:', num_float)   # 10.0\n",
    "\n",
    "# float to int\n",
    "gravity = 9.81\n",
    "print(int(gravity))             # 9\n",
    "\n",
    "# int to str\n",
    "num_int = 10\n",
    "print(num_int)                  # 10\n",
    "num_str = str(num_int)\n",
    "print(num_str)                  # '10'\n",
    "\n",
    "# str to int or float\n",
    "num_str = '10'\n",
    "print('num_int', int(num_str))      # 10\n",
    "print('num_float', float(num_str))  # 10.0\n",
    "\n",
    "# str to list\n",
    "first_name = 'Kumar'\n",
    "print(first_name)               # 'Asabeneh'\n",
    "first_name_to_list = list(first_name)\n",
    "print(first_name_to_list)            # ['A', 's', 'a', 'b', 'e', 'n', 'e', 'h']\n"
   ]
  },
  {
   "cell_type": "code",
   "execution_count": null,
   "id": "2f048b41",
   "metadata": {},
   "outputs": [],
   "source": [
    "firstname = \"A k n k a a d\".split()\n",
    "\n",
    "print(firstname)"
   ]
  },
  {
   "cell_type": "code",
   "execution_count": null,
   "id": "2408f848",
   "metadata": {},
   "outputs": [],
   "source": [
    "name = \"Kumar Python Tutor\"\n",
    "\n",
    "print(name.split())"
   ]
  },
  {
   "cell_type": "code",
   "execution_count": null,
   "id": "0600a3af",
   "metadata": {
    "scrolled": true
   },
   "outputs": [],
   "source": [
    "# str - int\n",
    "stra = \"10\"\n",
    "\n",
    "print(int(stra))"
   ]
  },
  {
   "cell_type": "code",
   "execution_count": null,
   "id": "9ff7cc49",
   "metadata": {
    "scrolled": true
   },
   "outputs": [],
   "source": [
    "strb = \"289892.282\"\n",
    "\n",
    "print(float(strb))"
   ]
  },
  {
   "cell_type": "code",
   "execution_count": null,
   "id": "be054165",
   "metadata": {
    "scrolled": true
   },
   "outputs": [],
   "source": [
    "#str - int \"0-9\"\n",
    "# str - float \"0.0 -9.9\"\n",
    "\n",
    "print(int(float(\"10.6\")))"
   ]
  },
  {
   "cell_type": "code",
   "execution_count": null,
   "id": "2a5ffea5",
   "metadata": {
    "scrolled": true
   },
   "outputs": [],
   "source": [
    "#  int , float , bool , complex - str\n",
    "\n",
    "a = 10\n",
    "aConvert = str(a)\n",
    "print(type(aConvert))\n",
    "b = 10.2367\n",
    "\n",
    "print(type(str(b)))\n",
    "\n",
    "\n",
    "c = True\n",
    "\n",
    "print(str(c))\n",
    "\n",
    "\n",
    "d = 10+2j\n",
    "\n",
    "print(str(d))"
   ]
  },
  {
   "cell_type": "code",
   "execution_count": null,
   "id": "7fb54e44",
   "metadata": {
    "scrolled": true
   },
   "outputs": [],
   "source": [
    "lst = [10,2,3,10,2]\n",
    "print(lst)\n",
    "\n",
    "convertList = set(lst)\n",
    "\n",
    "print(convertList)\n"
   ]
  },
  {
   "cell_type": "code",
   "execution_count": null,
   "id": "b43c04bc",
   "metadata": {
    "scrolled": true
   },
   "outputs": [],
   "source": [
    "num =19200283083083083038030830839876386923093038\n",
    "print(num)"
   ]
  },
  {
   "cell_type": "code",
   "execution_count": null,
   "id": "e58953da",
   "metadata": {
    "scrolled": true
   },
   "outputs": [],
   "source": [
    "#  small task \n",
    "1. read 10 digit integer num from keyboard\n",
    "    hint: int(input()) \n",
    "2. count number of zeros\n",
    "3. if you don't find zero's print -1\n",
    "\n",
    "ex: 10205678905\n",
    "    op: 3 \n",
    "    1234568791\n",
    "    op: -1"
   ]
  },
  {
   "cell_type": "code",
   "execution_count": null,
   "id": "798c8561",
   "metadata": {
    "scrolled": true
   },
   "outputs": [],
   "source": [
    "# answer\n",
    "\n",
    "# reading the input\n",
    "number = int(input('any 10digit  number : '))\n",
    "print(number)\n",
    "\n",
    "# convertion int - str\n",
    "number = str(number)\n",
    "\n",
    "# appling the method\n",
    "if number.count('0')>0:\n",
    "    print(\"number of zeros : \",number.count('0'))\n",
    "else:\n",
    "    print(-1)"
   ]
  },
  {
   "cell_type": "code",
   "execution_count": null,
   "id": "b6f8f6af",
   "metadata": {
    "scrolled": true
   },
   "outputs": [],
   "source": [
    "num = 10209\n",
    "\n",
    "num = str(num)\n",
    "print(dir(num))\n"
   ]
  },
  {
   "cell_type": "code",
   "execution_count": null,
   "id": "01dcd41c",
   "metadata": {
    "scrolled": true
   },
   "outputs": [],
   "source": []
  },
  {
   "cell_type": "code",
   "execution_count": null,
   "id": "cee9e45e",
   "metadata": {
    "scrolled": true
   },
   "outputs": [],
   "source": []
  },
  {
   "cell_type": "markdown",
   "id": "73488909",
   "metadata": {},
   "source": [
    "## Strings \n",
    "- group of individual or collections of characters\n",
    "- strings are immutable in python\n",
    "- Strings have indexing\n",
    "      +ve : 0 - N-1\n",
    "      -ve : -1 --> -N\n",
    "- String supports slicing also.\n",
    "- In Python Strings can be declared in 3 ways:\n",
    "        - single quotes  'k'\n",
    "        - double quotes   \"dyamic programmic\"\n",
    "        - triple quotes (mainly used for multi-line strings)\n",
    "            \n",
    "      >Text is a string data type. Any data type written as text is a string. Any data under single, double or triple quote are strings. There are different string methods and built-in functions to deal with string data types"
   ]
  },
  {
   "cell_type": "code",
   "execution_count": null,
   "id": "0ae52c59",
   "metadata": {
    "scrolled": true
   },
   "outputs": [],
   "source": [
    "print(type(\"Hello\"))\n",
    "\"10\"\n",
    "\"10.22\"\n",
    "\"True\"\n",
    "print(type(\"[10,203,30]\"))\n",
    "\n",
    "# anything inside quotes is a string "
   ]
  },
  {
   "cell_type": "markdown",
   "id": "1a6cc8e9",
   "metadata": {},
   "source": [
    "#### Creating a String\n"
   ]
  },
  {
   "cell_type": "code",
   "execution_count": null,
   "id": "beeac524",
   "metadata": {
    "scrolled": true
   },
   "outputs": [],
   "source": [
    "letter = 'P'               # A string could be a single character or a bunch of texts\n",
    "print(letter)               # P\n",
    "print(len(letter))          # 1\n",
    "\n",
    "greeting = 'Hello, World!'  # String could be made using a single or double quote,\"Hello, World!\"\n",
    "print(greeting)             # Hello, World!\n",
    "print(len(greeting))        # 13\n",
    "\n",
    "sentence = \"I hope you are enjoying  Python Course\"\n",
    "print(sentence)\n",
    "print(len(sentence))"
   ]
  },
  {
   "cell_type": "code",
   "execution_count": null,
   "id": "f942439d",
   "metadata": {
    "scrolled": true
   },
   "outputs": [],
   "source": [
    "print(ord(\" \"))"
   ]
  },
  {
   "cell_type": "code",
   "execution_count": null,
   "id": "c31cd7f5",
   "metadata": {
    "scrolled": true
   },
   "outputs": [],
   "source": [
    "multiline_string = '''I am a teacher and enjoy teaching.\n",
    "I didn't find anything as rewarding as empowering people.\n",
    "That is why I created  python course.'''\n",
    "print(multiline_string)\n",
    "\n",
    "# Another way of doing the same thing\n",
    "multiline_string = \"\"\"I am a teacher and enjoy teaching.\n",
    "I didn't find anything as rewarding as empowering people.\n",
    "That is why I created python course.\"\"\"\n",
    "print(multiline_string)\n",
    "\n"
   ]
  },
  {
   "cell_type": "code",
   "execution_count": null,
   "id": "5da42d82",
   "metadata": {
    "scrolled": true
   },
   "outputs": [],
   "source": []
  },
  {
   "cell_type": "markdown",
   "id": "fb085e2d",
   "metadata": {},
   "source": [
    "#### String Concatenation\n",
    "        - We can connect strings together. Merging or connecting strings is called concatenation. "
   ]
  },
  {
   "cell_type": "code",
   "execution_count": null,
   "id": "40e96399",
   "metadata": {
    "scrolled": true
   },
   "outputs": [],
   "source": [
    "first_name = 'Helsinki'\n",
    "last_name = 'Money Heist'\n",
    "space = ' '\n",
    "full_name = first_name  +  space + last_name\n",
    "print(full_name) \n",
    "# Checking the length of a string using len() built-in function\n",
    "print(len(first_name)) \n",
    "print(len(last_name))  \n",
    "print(len(first_name) > len(last_name))\n",
    "print(len(full_name)) "
   ]
  },
  {
   "cell_type": "code",
   "execution_count": null,
   "id": "32fdf511",
   "metadata": {
    "scrolled": true
   },
   "outputs": [],
   "source": []
  },
  {
   "cell_type": "code",
   "execution_count": null,
   "id": "db0bf965",
   "metadata": {
    "scrolled": true
   },
   "outputs": [],
   "source": [
    "#Try this . \n",
    "\n",
    "print(first_name + \" age  \"+40)\n",
    "# str + int -- Error"
   ]
  },
  {
   "cell_type": "code",
   "execution_count": null,
   "id": "9f9a6b38",
   "metadata": {
    "scrolled": true
   },
   "outputs": [],
   "source": [
    "print(\"Hi \"*10)\n",
    "# str * int "
   ]
  },
  {
   "cell_type": "code",
   "execution_count": null,
   "id": "dae1ec98",
   "metadata": {
    "scrolled": true
   },
   "outputs": [],
   "source": []
  },
  {
   "cell_type": "code",
   "execution_count": null,
   "id": "ac1fdf4c",
   "metadata": {
    "scrolled": true
   },
   "outputs": [],
   "source": [
    "print(\"Hi\"*\"Hello\")"
   ]
  },
  {
   "cell_type": "code",
   "execution_count": null,
   "id": "f7569d0c",
   "metadata": {
    "scrolled": true
   },
   "outputs": [],
   "source": [
    "# + both str's\n",
    "#  * one str and one int"
   ]
  },
  {
   "cell_type": "code",
   "execution_count": null,
   "id": "4f5a165b",
   "metadata": {},
   "outputs": [],
   "source": [
    "a=10\n",
    "b=20\n",
    "c=20\n",
    "print(a,b,c)"
   ]
  },
  {
   "cell_type": "code",
   "execution_count": null,
   "id": "eeff0e70",
   "metadata": {
    "scrolled": true
   },
   "outputs": [],
   "source": [
    "print(\"Kumar\",\"Rajamoni\"*10)"
   ]
  },
  {
   "cell_type": "markdown",
   "id": "384bc759",
   "metadata": {},
   "source": [
    "#### Escape Sequences in Strings\n",
    "            In Python and other programming languages \\ followed by a character is an escape sequence.\n",
    "\n",
    "        \\n: new line\n",
    "        \\t: Tab means(8 spaces)\n",
    "        \\\\: Back slash\n",
    "        \\': Single quote (')\n",
    "        \\\": Double quote (\")"
   ]
  },
  {
   "cell_type": "code",
   "execution_count": null,
   "id": "c8351ff5",
   "metadata": {
    "scrolled": true
   },
   "outputs": [],
   "source": [
    "print(\"Hello \\n Welcome to Srikanth's \\t Home\")"
   ]
  },
  {
   "cell_type": "code",
   "execution_count": null,
   "id": "63ee3406",
   "metadata": {
    "scrolled": true
   },
   "outputs": [],
   "source": []
  },
  {
   "cell_type": "code",
   "execution_count": null,
   "id": "dbd214cb",
   "metadata": {
    "scrolled": true
   },
   "outputs": [],
   "source": [
    "print('I hope everyone is enjoying the Python Challenge.\\nAre you ?') # line break\n",
    "print('Days\\tTopics\\tExercises') # adding tab space or 4 spaces \n",
    "print('Day 1 \\t2 \\t8')\n",
    "print('Day 2\\t3\\t5')\n",
    "print('Day 3\\t3\\t5')\n",
    "print('Day 4\\t6\\t18')\n",
    "print('This is a backslash  symbol (\\\\)') # To write a backslash\n",
    "print('In every programming language it starts with \\\"Hello, World!\\\"') # to write a double quote inside a single quote\n"
   ]
  },
  {
   "cell_type": "code",
   "execution_count": null,
   "id": "8ca341d2",
   "metadata": {
    "scrolled": true
   },
   "outputs": [],
   "source": []
  },
  {
   "cell_type": "markdown",
   "id": "ce54f82f",
   "metadata": {},
   "source": [
    "### String formatting\n",
    "    In Python there are many ways of formatting strings.\n",
    "    \n",
    "    The \"%\" operator is used to format a set of variables enclosed in a \"tuple\" (a fixed size list), together with a format string, which contains normal text together with \"argument specifiers\", special symbols like \"%s\", \"%d\", \"%f\", \"%.number of digitsf\".\n",
    "\n",
    "        %s - String (or any object with a string representation, like numbers)\n",
    "        %d - Integers\n",
    "        %f - Floating point numbers\n",
    "        \"%.number of digitsf\" - Floating point numbers with fixed precision"
   ]
  },
  {
   "cell_type": "code",
   "execution_count": null,
   "id": "22687547",
   "metadata": {
    "scrolled": true
   },
   "outputs": [],
   "source": [
    "# c syntax\n",
    "int age = 29;\n",
    "float salary = 29.28228773793;\n",
    "printf(\"%d %f \",age,salary)"
   ]
  },
  {
   "cell_type": "code",
   "execution_count": null,
   "id": "25b64f40",
   "metadata": {
    "scrolled": true
   },
   "outputs": [],
   "source": [
    "name = input(\"Enter name: \")\n",
    "age = int(input(\"Enter the age: \"))\n",
    "salary = float(input(\"Enter salary: \"))\n",
    "print(\"my name is \",name, \"age is \",age,\"my salary is\",salary) #normal \n",
    "\n",
    "print(\"my name is %s , age is %d , my salary is %.2f\"%(name,age,salary)) #c based formatting\n",
    "\n"
   ]
  },
  {
   "cell_type": "code",
   "execution_count": null,
   "id": "f76d0746",
   "metadata": {
    "scrolled": true
   },
   "outputs": [],
   "source": []
  },
  {
   "cell_type": "code",
   "execution_count": null,
   "id": "5fb081a1",
   "metadata": {
    "scrolled": true
   },
   "outputs": [],
   "source": [
    "# Strings only\n",
    "first_name = 'Kumar'\n",
    "last_name = 'R'\n",
    "language = 'Python'\n",
    "fee = 10.283893\n",
    "formated_string = 'I am %s %s. I teach %s and fee is %f' %(first_name, last_name, language,fee)\n",
    "print(formated_string)\n",
    "\n",
    "# Strings  and numbers\n",
    "radius = 7\n",
    "pi = 3.14\n",
    "area = pi * radius ** 2\n",
    "formated_string = 'The area of circle with a radius %d is %.2f.' %(radius, area) # 2 refers the 2 significant digits after the point\n",
    "\n",
    "print(formated_string)\n",
    "\n",
    "\n",
    "python_libraries = ['Django', 'Flask', 'NumPy', 'Matplotlib','Pandas']\n",
    "formated_string = 'The following are python libraries:%s' % (python_libraries)\n",
    "print(formated_string) # \n"
   ]
  },
  {
   "cell_type": "code",
   "execution_count": null,
   "id": "2ba19f69",
   "metadata": {
    "scrolled": true
   },
   "outputs": [],
   "source": []
  },
  {
   "cell_type": "markdown",
   "id": "137bc9aa",
   "metadata": {},
   "source": [
    "#### New Style String Formatting (str.format)"
   ]
  },
  {
   "cell_type": "code",
   "execution_count": null,
   "id": "8f07e514",
   "metadata": {
    "scrolled": true
   },
   "outputs": [],
   "source": [
    "first_name = 'Kumar'\n",
    "last_name = 'R'\n",
    "language = 'Python'\n",
    "fee = 12000\n",
    "\n",
    "print(\"I am \"+first_name+\" \"+last_name+\". \"+\"I Teach \"+language+\"and fee is \"+str(fee))\n"
   ]
  },
  {
   "cell_type": "code",
   "execution_count": null,
   "id": "d2472176",
   "metadata": {
    "scrolled": true
   },
   "outputs": [],
   "source": [
    "first_name = 'Kumar'\n",
    "last_name = 'R'\n",
    "language = 'Python'\n",
    "fee = 12000\n",
    "formated_string = 'I am {} {}. I teach {} and fee is {}'.format(first_name, last_name, language,fee)\n",
    "print(formated_string)\n",
    "\n",
    "\n",
    "# print(\"I am \"+first_name+\" \"+last_name+\". \"+\"I Teach \"+language+\"and fee is \"+fee)\n",
    "\n",
    "a = 4\n",
    "b = 3\n",
    "\n",
    "print('{0} + {1} = {2}'.format(a, b, a + b))\n",
    "print('{} - {} = {}'.format(a, b, a - b))\n",
    "print('{} * {} = {}'.format(a, b, a * b))\n",
    "print('{} / {} = {:.2f}'.format(a, b, a / b)) # limits it to two digits after decimal\n",
    "print('{} % {} = {}'.format(a, b, a % b))\n",
    "print('{} // {} = {}'.format(a, b, a // b))\n",
    "print('{} ** {} = {}'.format(a, b, a ** b))\n"
   ]
  },
  {
   "cell_type": "markdown",
   "id": "eb63f700",
   "metadata": {},
   "source": [
    "#### f-string"
   ]
  },
  {
   "cell_type": "code",
   "execution_count": null,
   "id": "0ab5afff",
   "metadata": {
    "scrolled": true
   },
   "outputs": [],
   "source": [
    "print(\"Iam %s %s. I Teach %s and fee is %d\"%(first_name, last_name, language,fee))"
   ]
  },
  {
   "cell_type": "code",
   "execution_count": null,
   "id": "6c375aab",
   "metadata": {
    "scrolled": true
   },
   "outputs": [],
   "source": [
    "print('I am {} {}. I teach {} and fee is {}'.format(first_name, last_name, language,fee))"
   ]
  },
  {
   "cell_type": "code",
   "execution_count": null,
   "id": "ae7938e2",
   "metadata": {
    "scrolled": true
   },
   "outputs": [],
   "source": [
    "print(f'I am {first_name} {last_name} I Teach {language} and fee is {fee}')"
   ]
  },
  {
   "cell_type": "code",
   "execution_count": null,
   "id": "f2b3d235",
   "metadata": {},
   "outputs": [],
   "source": [
    "name = \"Kumar\"\n",
    "age =18\n",
    "\n",
    "print(f'my name is {name} age is {age}')"
   ]
  },
  {
   "cell_type": "code",
   "execution_count": null,
   "id": "64cf3062",
   "metadata": {
    "scrolled": true
   },
   "outputs": [],
   "source": [
    "#### Another new string formatting is string interpolation, f-strings. \n",
    "# Strings start with f and we can inject the data in their corresponding positions \n",
    "# supported from 3.6+\n",
    "\n",
    "a = 4\n",
    "b = 3\n",
    "print(f'{a} + {b} = {a +b}')\n",
    "print(f'{a} - {b} = {a - b}')\n",
    "print(f'{a} * {b} = {a * b}')\n",
    "print(f'{a} / {b} = {a / b:.2f}')\n",
    "print(f'{a} % {b} = {a % b}')\n",
    "print(f'{a} // {b} = {a // b}')\n",
    "print(f'{a} ** {b} = {a ** b}')"
   ]
  },
  {
   "cell_type": "code",
   "execution_count": null,
   "id": "836f9ad5",
   "metadata": {
    "scrolled": true
   },
   "outputs": [],
   "source": [
    "age = 19\n",
    "print(f\"my age is {age}\")"
   ]
  },
  {
   "cell_type": "code",
   "execution_count": null,
   "id": "48a8602e",
   "metadata": {
    "scrolled": true
   },
   "outputs": [],
   "source": [
    "name = \"Alex\"\n",
    "print(name)\n",
    "print(len(name))\n",
    "\n",
    "print(name[0])\n",
    "\n",
    "print(name[-1])\n",
    "# print(name[10])\n",
    "\n",
    "name[2] = \"k\"  #immutable\n",
    "\n",
    "print(name)"
   ]
  },
  {
   "cell_type": "code",
   "execution_count": null,
   "id": "0188feca",
   "metadata": {
    "scrolled": true
   },
   "outputs": [],
   "source": []
  },
  {
   "cell_type": "markdown",
   "id": "a2e83f8c",
   "metadata": {},
   "source": [
    "### Accessing Characters in Strings by Index\n",
    "    In programming counting starts from zero. Therefore the first letter of a string is at zero index and the last letter of a string is the length of a string minus one.\n",
    "       strLang = \"Python\"\n",
    "       \n",
    "<img src=\"https://res.cloudinary.com/practicaldev/image/fetch/s--A7oqOWqx--/c_limit%2Cf_auto%2Cfl_progressive%2Cq_auto%2Cw_880/https://thepracticaldev.s3.amazonaws.com/i/1wr90mjnil60r7226bgq.png\" width=\"400\" height=\"400\">"
   ]
  },
  {
   "cell_type": "code",
   "execution_count": null,
   "id": "167147e5",
   "metadata": {
    "scrolled": true
   },
   "outputs": [],
   "source": [
    "language = 'Python'\n",
    "first_letter = language[0]\n",
    "print(first_letter) # P\n",
    "\n",
    "second_letter = language[1]\n",
    "print(second_letter) # y\n",
    "\n",
    "last_index = len(language) - 1\n",
    "\n",
    "last_letter = language[last_index]\n",
    "print(last_letter) # n\n"
   ]
  },
  {
   "cell_type": "code",
   "execution_count": null,
   "id": "474a0f1f",
   "metadata": {
    "scrolled": true
   },
   "outputs": [],
   "source": []
  },
  {
   "cell_type": "code",
   "execution_count": null,
   "id": "6476543b",
   "metadata": {
    "scrolled": true
   },
   "outputs": [],
   "source": [
    "language = 'Python'\n",
    "\n",
    "last_letter = language[-1]\n",
    "print(last_letter) # n\n",
    "\n",
    "second_last = language[-2]\n",
    "print(second_last) # o\n",
    "\n"
   ]
  },
  {
   "cell_type": "code",
   "execution_count": null,
   "id": "a23c4e47",
   "metadata": {
    "scrolled": true
   },
   "outputs": [],
   "source": [
    "print(language[6])"
   ]
  },
  {
   "cell_type": "markdown",
   "id": "cd8b79d0",
   "metadata": {},
   "source": [
    "#### Slicing Python Strings\n",
    "    - Extracting specific data.\n",
    "    syntax:\n",
    "        [start:stop:step]\n",
    "    - start : 0 (default)\n",
    "    - stop : LEN-1\n",
    "    - step : 1 \n",
    "    \n",
    "    negative:\n",
    "         - start : -1 (default)\n",
    "        - stop : -LEN-1\n",
    "        - step : - 1 \n",
    "    \n",
    "    \n",
    "    note: STOP is exculsive not included"
   ]
  },
  {
   "cell_type": "code",
   "execution_count": null,
   "id": "58bdb0c3",
   "metadata": {
    "scrolled": true
   },
   "outputs": [],
   "source": [
    "name = \"kumarRajamoni\"\n",
    "\n",
    "print(len(name))\n",
    "\n",
    "print(name[0])\n",
    "\n",
    "print(name[-1])\n",
    "\n",
    "print(name[0:4:1])\n",
    "\n",
    "print(name[:6])#[0:6:1]\n",
    "\n",
    "print(name[2:]) #[2:len-1:1]\n",
    "\n",
    "print(name[-1:-5:-2])\n",
    "\n",
    "print(name[-1:-len(name)-1:-1])\n",
    "print(name[::-1]) #start : -1 . stop: (-N-1)\n",
    "\n",
    "\n",
    "print(name[::])#[0:LEN-1:1]\n",
    "\n",
    "print(name)"
   ]
  },
  {
   "cell_type": "code",
   "execution_count": null,
   "id": "a80ba597",
   "metadata": {},
   "outputs": [],
   "source": [
    "lang = \"Python\"\n",
    "\n",
    "print(lang[0])\n",
    "print(lang[-1])\n",
    "\n",
    "print(lang[0:4:1])\n",
    "\n",
    "print(lang[-1:-4:-1])\n",
    "\n",
    "print(lang[::2])\n",
    "\n",
    "print(lang[2:])\n",
    "\n",
    "print(lang[:3])\n",
    "\n",
    "print(lang[:100])\n",
    "\n",
    "print(lang[::-1])\n",
    "\n",
    "print(lang[::1])\n",
    "\n",
    "print(lang[::])"
   ]
  },
  {
   "cell_type": "code",
   "execution_count": null,
   "id": "662b203f",
   "metadata": {},
   "outputs": [],
   "source": []
  },
  {
   "cell_type": "code",
   "execution_count": null,
   "id": "125541b4",
   "metadata": {
    "scrolled": true
   },
   "outputs": [],
   "source": [
    "print(name)\n",
    "print(name[0:len(name):1])\n",
    "print(name[::1])\n",
    "print(name[0::])\n",
    "print(name[:len(name)])\n"
   ]
  },
  {
   "cell_type": "code",
   "execution_count": null,
   "id": "8feea650",
   "metadata": {
    "scrolled": true
   },
   "outputs": [],
   "source": [
    "print(name)\n",
    "n = len(name)\n",
    "print(n)\n",
    "print(name[-1:-4:-1])\n",
    "\n",
    "print(name[::-1])  # start -1 , stop : -N-1 step:-1\n",
    "\n",
    "print(name[-1:(-n-1):-1])"
   ]
  },
  {
   "cell_type": "code",
   "execution_count": null,
   "id": "5b7d4723",
   "metadata": {
    "scrolled": true
   },
   "outputs": [],
   "source": [
    "marks = [10,203,30]\n",
    "\n",
    "marks = marks[::-1]\n",
    "\n",
    "print(marks)"
   ]
  },
  {
   "cell_type": "code",
   "execution_count": null,
   "id": "3ab70c87",
   "metadata": {
    "scrolled": true
   },
   "outputs": [],
   "source": [
    "name = \"Kumar\"\n",
    "# for loop /while loop\n",
    "# methods\n",
    "# slicing\n",
    "\n",
    "print(name[::-1]) #reverse\n",
    "\n",
    "\n",
    "teamNames = [\"india\",\"Pak\",\"Aus\"]\n",
    "\n",
    "print(teamNames[::-1])"
   ]
  },
  {
   "cell_type": "code",
   "execution_count": null,
   "id": "3bb58cb4",
   "metadata": {
    "scrolled": true
   },
   "outputs": [],
   "source": [
    "language = 'Python'\n",
    "first_three = language[0:3] # starts at zero index and up to 3 but not include 3\n",
    "print(first_three) #Pyt\n",
    "\n",
    "last_three = language[3:6]\n",
    "print(last_three) # hon\n",
    "# Another way\n",
    "\n",
    "last_three = language[-3:]\n",
    "print(last_three)   # hon\n",
    "\n",
    "last_three = language[3:]\n",
    "print(last_three)   # hon\n",
    "\n"
   ]
  },
  {
   "cell_type": "code",
   "execution_count": null,
   "id": "7a252917",
   "metadata": {
    "scrolled": true
   },
   "outputs": [],
   "source": [
    "# Reversing a String\n",
    "greeting = 'Hello, World!'\n",
    "print(greeting[::-1]) # !dlroW ,olleH\n"
   ]
  },
  {
   "cell_type": "code",
   "execution_count": null,
   "id": "8402a972",
   "metadata": {
    "scrolled": true
   },
   "outputs": [],
   "source": []
  },
  {
   "cell_type": "code",
   "execution_count": null,
   "id": "1a3768fd",
   "metadata": {
    "scrolled": true
   },
   "outputs": [],
   "source": [
    "print(dir({}))"
   ]
  },
  {
   "cell_type": "code",
   "execution_count": null,
   "id": "e579a245",
   "metadata": {
    "scrolled": true
   },
   "outputs": [],
   "source": [
    "print(dir(\"\"))"
   ]
  },
  {
   "cell_type": "code",
   "execution_count": null,
   "id": "a6916c97",
   "metadata": {
    "scrolled": true
   },
   "outputs": [],
   "source": [
    "print(help(\"\"))"
   ]
  },
  {
   "cell_type": "markdown",
   "id": "868bceb5",
   "metadata": {},
   "source": [
    "### String Methods\n",
    "  - **regular methods:**\n",
    "    - capitalize()\n",
    "    - count()\n",
    "    - endswith()\n",
    "    - startswith()\n",
    "    - expandtabs() \n",
    "    - find()\n",
    "    - rfind()\n",
    "    - index()\n",
    "    - rindex()\n",
    "    - title()\n",
    "    - replace()\n",
    "    - upper()\n",
    "    - lower()\n",
    "        \n",
    "- **checking methods:**\n",
    "    - isalnum()\n",
    "    - isalpha() \n",
    "    - isdecimal()\n",
    "    - isdigit()\n",
    "    - isnumeric()\n",
    "    - isidentifier()\n",
    "    - islower()\n",
    "    - isupper()\n",
    "        \n",
    "- **covertion methods**\n",
    "    - split() : str --> list\n",
    "    - join()  : list --> str\n",
    "\n",
    "        \n",
    " "
   ]
  },
  {
   "cell_type": "code",
   "execution_count": null,
   "id": "64690222",
   "metadata": {
    "scrolled": true
   },
   "outputs": [],
   "source": []
  },
  {
   "cell_type": "code",
   "execution_count": null,
   "id": "f9c65eb3",
   "metadata": {
    "scrolled": true
   },
   "outputs": [],
   "source": [
    "# capitalize(): Converts the first character of the string to capital letter\n",
    "\n",
    "challenge = 'thirty days of python'\n",
    "print(challenge.capitalize()) # 'Thirty days of python'\n",
    "print(challenge)"
   ]
  },
  {
   "cell_type": "code",
   "execution_count": null,
   "id": "cb9fd10d",
   "metadata": {
    "scrolled": true
   },
   "outputs": [],
   "source": []
  },
  {
   "cell_type": "code",
   "execution_count": null,
   "id": "fd14a383",
   "metadata": {
    "scrolled": true
   },
   "outputs": [],
   "source": [
    "# count(): returns occurrences of substring in string, count(substring, start=.., end=..). \n",
    "# The start is a starting indexing for counting and end is the last index to count.\n",
    "\n",
    "challenge = 'thirty days of python'\n",
    "\n",
    "print(challenge.count('y')) # 3\n",
    "print(challenge.count('y', 7, 14)) # 1, \n",
    "print(challenge.count('th')) # 2\n"
   ]
  },
  {
   "cell_type": "code",
   "execution_count": null,
   "id": "b8bfc986",
   "metadata": {
    "scrolled": true
   },
   "outputs": [],
   "source": [
    "print(challenge.count(\"z\"))"
   ]
  },
  {
   "cell_type": "code",
   "execution_count": null,
   "id": "5ff10856",
   "metadata": {
    "scrolled": true
   },
   "outputs": [],
   "source": []
  },
  {
   "cell_type": "code",
   "execution_count": null,
   "id": "678c61ec",
   "metadata": {
    "scrolled": true
   },
   "outputs": [],
   "source": [
    "# endswith(): Checks if a string ends with a specified ending\n",
    "challenge = 'thirty days of python'\n",
    "\n",
    "print(challenge.endswith('on'))   # True\n",
    "print(challenge.endswith('tion')) # False\n"
   ]
  },
  {
   "cell_type": "code",
   "execution_count": null,
   "id": "54064f8c",
   "metadata": {
    "scrolled": true
   },
   "outputs": [],
   "source": []
  },
  {
   "cell_type": "code",
   "execution_count": null,
   "id": "042848a6",
   "metadata": {
    "scrolled": true
   },
   "outputs": [],
   "source": [
    "# expandtabs(): Replaces tab character with spaces, default tab size is 8. It takes tab size argument\n",
    "\n",
    "challenge = 'thirty\\tdays\\tof\\tpython'\n",
    "\n",
    "print(challenge.expandtabs())   # 'thirty  days    of      python'\n",
    "print(challenge.expandtabs(10)) # 'thirty    days      of        python'"
   ]
  },
  {
   "cell_type": "code",
   "execution_count": null,
   "id": "487edcaf",
   "metadata": {},
   "outputs": [],
   "source": [
    "challenge= \"thirtydaysofpython\"\n",
    "print(len(challenge))\n",
    "\n",
    "challenge = 'thirty\\tdays\\tof\\tpython'\n",
    "print(len(challenge))\n",
    "\n",
    "print(len(challenge.expandtabs()),challenge.expandtabs())\n",
    "\n",
    "print(len(challenge.expandtabs(10)),challenge.expandtabs(10))\n",
    "\n"
   ]
  },
  {
   "cell_type": "code",
   "execution_count": null,
   "id": "b3e7f51b",
   "metadata": {
    "scrolled": true
   },
   "outputs": [],
   "source": []
  },
  {
   "cell_type": "code",
   "execution_count": null,
   "id": "2578fa40",
   "metadata": {
    "scrolled": true
   },
   "outputs": [],
   "source": [
    "# find(): Returns the index of the first occurrence of a substring, if not found returns -1\n",
    "\n",
    "\n",
    "challenge = 'thirty days of python'\n",
    "print(challenge.find('y'))  # 5\n",
    "print(challenge.find('th')) # 0\n",
    "\n"
   ]
  },
  {
   "cell_type": "code",
   "execution_count": null,
   "id": "3b59db8a",
   "metadata": {
    "scrolled": true
   },
   "outputs": [],
   "source": [
    "print(challenge.find(\"z\"))\n",
    "\n",
    "# task \n",
    "# find lastIndex of a character"
   ]
  },
  {
   "cell_type": "code",
   "execution_count": null,
   "id": "69f9a16d",
   "metadata": {
    "scrolled": true
   },
   "outputs": [],
   "source": [
    "# rfind(): Returns the index of the last occurrence of a substring, if not found returns -1\n",
    "\n",
    "challenge = 'thirty days of python'\n",
    "print(challenge.rfind('y'))  # 16\n",
    "print(challenge.rfind('th')) # 17"
   ]
  },
  {
   "cell_type": "code",
   "execution_count": null,
   "id": "cec4db2a",
   "metadata": {
    "scrolled": true
   },
   "outputs": [],
   "source": [
    "discard() - Nothing\n",
    "remove() - If ele not there , raise Error\n",
    "\n",
    "\n",
    "find() , if ele/char/sub is not there --> -1\n",
    "index()  , if ele/charsub is not there ---->Error."
   ]
  },
  {
   "cell_type": "code",
   "execution_count": null,
   "id": "92a2d7bc",
   "metadata": {
    "scrolled": true
   },
   "outputs": [],
   "source": [
    "# index(): Returns the lowest index of a substring, additional arguments indicate starting and ending index (default 0 and string length - 1). \n",
    "# If the substring is not found it raises a valueError.\n",
    "\n",
    "challenge = 'thirty days of python'\n",
    "sub_string = 'da'\n",
    "print(challenge.find(\"y\"))\n",
    "print(challenge.index('y'))  # 7\n",
    "print(challenge.index(sub_string)) #error"
   ]
  },
  {
   "cell_type": "code",
   "execution_count": null,
   "id": "795889ec",
   "metadata": {
    "scrolled": true
   },
   "outputs": [],
   "source": [
    "print(challenge.index(\"k\"))"
   ]
  },
  {
   "cell_type": "code",
   "execution_count": null,
   "id": "909609d3",
   "metadata": {
    "scrolled": true
   },
   "outputs": [],
   "source": [
    "# rindex(): Returns the highest index of a substring, additional arguments indicate \n",
    "# starting and ending index (default 0 and string length - 1)\n",
    "\n",
    "challenge = 'thirty days of python'\n",
    "sub_string = 'da'\n",
    "\n",
    "print(challenge.rindex(sub_string))  # 8\n",
    "print(challenge.rindex(\"y\")) # error"
   ]
  },
  {
   "cell_type": "code",
   "execution_count": null,
   "id": "a10eaf9f",
   "metadata": {
    "scrolled": true
   },
   "outputs": [],
   "source": [
    "find()\n",
    "rfind() ---> Returns highest index of a sub/charcter\n",
    "\n",
    "index()\n",
    "rindex()  --> Returns highest index of a sub/charcter"
   ]
  },
  {
   "cell_type": "code",
   "execution_count": null,
   "id": "ffeabe7f",
   "metadata": {},
   "outputs": [],
   "source": [
    "challenge = 'thirty days of python'\n",
    "\n",
    "print(challenge.index(\"y\"))\n",
    "\n",
    "print(challenge.rindex(\"y\"))\n",
    "\n",
    "\n",
    "print(challenge.find(\"y\"))\n",
    "\n",
    "print(challenge.rfind(\"y\"))\n",
    "\n",
    "\n",
    "print(challenge.index(\"y\",0,6))\n",
    "\n",
    "print(challenge.rindex(\"y\",0,6))\n",
    "\n",
    "\n",
    "print(challenge.find(\"y\",0,6))\n",
    "\n",
    "print(challenge.rfind(\"y\",0,6))"
   ]
  },
  {
   "cell_type": "code",
   "execution_count": null,
   "id": "7a33a91f",
   "metadata": {},
   "outputs": [],
   "source": []
  },
  {
   "cell_type": "code",
   "execution_count": null,
   "id": "99a2799e",
   "metadata": {},
   "outputs": [],
   "source": []
  },
  {
   "cell_type": "code",
   "execution_count": null,
   "id": "2f908fd2",
   "metadata": {
    "scrolled": true
   },
   "outputs": [],
   "source": [
    "# title(): Returns a title cased string\n",
    "\n",
    "challenge = 'thirty days of python'\n",
    "print(challenge.title()) # Thirty Days Of Python\n",
    "\n"
   ]
  },
  {
   "cell_type": "code",
   "execution_count": null,
   "id": "f7b52a3f",
   "metadata": {
    "scrolled": true
   },
   "outputs": [],
   "source": []
  },
  {
   "cell_type": "code",
   "execution_count": null,
   "id": "2891f38a",
   "metadata": {
    "scrolled": true
   },
   "outputs": [],
   "source": [
    "# swapcase(): Converts all uppercase characters to lowercase and all lowercase characters to uppercase characters\n",
    "\n",
    "challenge = 'thirty days of python'\n",
    "print(challenge.swapcase())   # THIRTY DAYS OF PYTHON\n",
    "\n",
    "challenge = 'Thirty Days Of Python'\n",
    "print(challenge.swapcase())  # tHIRTY dAYS oF pYTHON\n",
    "\n",
    "\n",
    "\n"
   ]
  },
  {
   "cell_type": "code",
   "execution_count": null,
   "id": "110b78a8",
   "metadata": {
    "scrolled": true
   },
   "outputs": [],
   "source": []
  },
  {
   "cell_type": "code",
   "execution_count": null,
   "id": "a497f2ed",
   "metadata": {
    "scrolled": true
   },
   "outputs": [],
   "source": [
    "# startswith(): Checks if String Starts with the Specified String\n",
    "\n",
    "challenge = 'thirty days of python'\n",
    "print(challenge.startswith('thirty')) # True\n",
    "\n",
    "challenge = '30 days of python'\n",
    "print(challenge.startswith('thirty')) # False\n"
   ]
  },
  {
   "cell_type": "code",
   "execution_count": null,
   "id": "a5639bf9",
   "metadata": {
    "scrolled": true
   },
   "outputs": [],
   "source": []
  },
  {
   "cell_type": "code",
   "execution_count": null,
   "id": "ededea04",
   "metadata": {
    "scrolled": true
   },
   "outputs": [],
   "source": [
    "# strip(): Removes all given characters starting from the beginning and end of the string\n",
    "\n",
    "name = \"        Kumar            \"\n",
    "\n",
    "print( len(name) )\n",
    "\n",
    "name = name.strip()\n",
    "print( len(name) )\n",
    "\n",
    "\n",
    "challenge = 'thirty days of pythoonnn'\n",
    "print(challenge.strip('python')) # 'irty days of py'\n",
    "\n"
   ]
  },
  {
   "cell_type": "code",
   "execution_count": null,
   "id": "157d239d",
   "metadata": {
    "scrolled": true
   },
   "outputs": [],
   "source": []
  },
  {
   "cell_type": "code",
   "execution_count": null,
   "id": "5ff5521f",
   "metadata": {
    "scrolled": true
   },
   "outputs": [],
   "source": [
    "# replace(): Replaces substring with a given string\n",
    "\n",
    "challenge = 'I Like to code In Python'\n",
    "print(challenge.replace('Scala', 'Java')) # 'thirty days of coding'"
   ]
  },
  {
   "cell_type": "code",
   "execution_count": null,
   "id": "bbe725d2",
   "metadata": {
    "scrolled": true
   },
   "outputs": [],
   "source": []
  },
  {
   "cell_type": "code",
   "execution_count": null,
   "id": "87273e0f",
   "metadata": {
    "scrolled": true
   },
   "outputs": [],
   "source": [
    "# upper \n",
    "\n",
    "challenge = 'I Like to code In Python' \n",
    "\n",
    "print(challenge.upper())\n",
    "\n",
    "\n",
    "challenge = \"i LIKE to CODE ruby\"\n",
    "\n",
    "print(challenge.lower())\n",
    "\n",
    "\n",
    "print(challenge.title())\n",
    "\n",
    "print(challenge.swapcase())"
   ]
  },
  {
   "cell_type": "code",
   "execution_count": null,
   "id": "184588a3",
   "metadata": {
    "scrolled": true
   },
   "outputs": [],
   "source": []
  },
  {
   "cell_type": "code",
   "execution_count": null,
   "id": "d6fd1c8a",
   "metadata": {
    "scrolled": true
   },
   "outputs": [],
   "source": [
    "# checking methods --> True/False\n",
    "    - validation"
   ]
  },
  {
   "cell_type": "code",
   "execution_count": null,
   "id": "978bff5e",
   "metadata": {},
   "outputs": [],
   "source": [
    "'a'\n",
    "\"10\"\n",
    "\"10.2\"\n",
    "\"Kumar@123\"\n",
    "\n",
    "always starts is keyword ---> True/False\n"
   ]
  },
  {
   "cell_type": "code",
   "execution_count": null,
   "id": "48772185",
   "metadata": {
    "scrolled": true
   },
   "outputs": [],
   "source": [
    "# isalnum(): Checks alphanumeric character(a-zA-Z 0-9)\n",
    "\n",
    "challenge = 'ThirtyDaysPython'\n",
    "print(challenge.isalnum()) # True\n",
    "\n",
    "challenge = '30DaysPython'\n",
    "print(challenge.isalnum()) # True\n",
    "\n",
    "challenge = 'thirty days of python'\n",
    "print(challenge.isalnum()) # False, space is not an alphanumeric character\n",
    "\n",
    "challenge = 'thirty days of python 2019'\n",
    "print(challenge.isalnum()) # False"
   ]
  },
  {
   "cell_type": "code",
   "execution_count": null,
   "id": "d513da79",
   "metadata": {
    "scrolled": true
   },
   "outputs": [],
   "source": []
  },
  {
   "cell_type": "code",
   "execution_count": null,
   "id": "3e5867b5",
   "metadata": {
    "scrolled": true
   },
   "outputs": [],
   "source": [
    "# isalpha(): Checks if all string elements are alphabet characters (a-z and A-Z)\n",
    "\n",
    "challenge = 'thirty days of python'\n",
    "print(challenge.isalpha()) # False, space is once again excluded\n",
    "\n",
    "challenge = 'ThirtyDaysPython'\n",
    "print(challenge.isalpha()) # True\n",
    "\n",
    "num = '123akkak'\n",
    "print(num.isalpha())      # False\n",
    "\n"
   ]
  },
  {
   "cell_type": "code",
   "execution_count": null,
   "id": "1a2516de",
   "metadata": {
    "scrolled": true
   },
   "outputs": [],
   "source": []
  },
  {
   "cell_type": "code",
   "execution_count": null,
   "id": "3907c8a8",
   "metadata": {
    "scrolled": true
   },
   "outputs": [],
   "source": []
  },
  {
   "cell_type": "code",
   "execution_count": null,
   "id": "e41430ca",
   "metadata": {
    "scrolled": true
   },
   "outputs": [],
   "source": [
    "# isdecimal(): Checks if all characters in a string are decimal (0-9)\n",
    "\n",
    "challenge = 'thirty days of python'\n",
    "print(challenge.isdecimal())  # False\n",
    "\n",
    "challenge = '123'\n",
    "print(challenge.isdecimal())  # True\n",
    "\n",
    "challenge = '\\u00B2'\n",
    "print(challenge.isdigit())   # False\n",
    "\n",
    "challenge = '12 3'\n",
    "print(challenge.isdecimal())  # False, space not allowed\n",
    "\n",
    "\n"
   ]
  },
  {
   "cell_type": "code",
   "execution_count": null,
   "id": "b03e5fec",
   "metadata": {
    "scrolled": true
   },
   "outputs": [],
   "source": []
  },
  {
   "cell_type": "code",
   "execution_count": null,
   "id": "e86ba1ff",
   "metadata": {
    "scrolled": true
   },
   "outputs": [],
   "source": [
    "# isdigit(): Checks if all characters in a string are numbers (0-9 and some other unicode characters for numbers)\n",
    "\n",
    "challenge = 'Thirty'\n",
    "print(challenge.isdigit()) # False\n",
    "\n",
    "challenge = '30'\n",
    "print(challenge.isdigit())   # True\n",
    "\n",
    "challenge = '\\u00B2'\n",
    "print(challenge.isdigit())   # True"
   ]
  },
  {
   "cell_type": "code",
   "execution_count": null,
   "id": "28d879f5",
   "metadata": {
    "scrolled": true
   },
   "outputs": [],
   "source": [
    "special_char = \" !@#$%^&*(){}[]\""
   ]
  },
  {
   "cell_type": "code",
   "execution_count": null,
   "id": "78f86c31",
   "metadata": {
    "scrolled": true
   },
   "outputs": [],
   "source": [
    "# isnumeric(): Checks if all characters in a string are numbers or number related (just like isdigit(), just accepts more symbols, like ½)\n",
    "\n",
    "num = '10'\n",
    "print(num.isnumeric()) # True\n",
    "\n",
    "num = '\\u00BD' # ½\n",
    "print(num.isnumeric()) # True\n",
    "\n",
    "num = '10.5'\n",
    "print(num.isnumeric()) # False\n"
   ]
  },
  {
   "cell_type": "code",
   "execution_count": null,
   "id": "67c830c0",
   "metadata": {
    "scrolled": true
   },
   "outputs": [],
   "source": [
    "VARIABLS_RULES\n",
    "=======================\n",
    "1. starts with letters or _ \n",
    "2. can't start with numbers\n",
    "3. No keywords \n",
    "4. we can have combination of alpha+numeric+_\n",
    "5. case sensitive "
   ]
  },
  {
   "cell_type": "code",
   "execution_count": null,
   "id": "a1510ccd",
   "metadata": {
    "scrolled": true
   },
   "outputs": [],
   "source": [
    "# isidentifier(): Checks for a valid identifier - it checks if a string is a valid variable name\n",
    "\n",
    "challenge = '30DaysOfPython'\n",
    "print(challenge.isidentifier()) # False, because it starts with a number\n",
    "\n",
    "challenge = 'thirty_days_of_python'\n",
    "print(challenge.isidentifier()) # True"
   ]
  },
  {
   "cell_type": "code",
   "execution_count": null,
   "id": "8f1d8c53",
   "metadata": {
    "scrolled": true
   },
   "outputs": [],
   "source": [
    "print(\"*3Java_version\".isidentifier())"
   ]
  },
  {
   "cell_type": "code",
   "execution_count": null,
   "id": "078e26a5",
   "metadata": {},
   "outputs": [],
   "source": []
  },
  {
   "cell_type": "code",
   "execution_count": null,
   "id": "731a6b4d",
   "metadata": {},
   "outputs": [],
   "source": []
  },
  {
   "cell_type": "code",
   "execution_count": null,
   "id": "f9bf400a",
   "metadata": {
    "scrolled": true
   },
   "outputs": [],
   "source": [
    "# islower(): Checks if all alphabet characters in the string are lowercase\n",
    "\n",
    "# isupper(): Checks if all alphabet characters in the string are uppercase\n",
    "\n",
    "\n",
    "challenge = 'string methods'\n",
    "print(challenge.islower()) # True\n",
    "\n",
    "challenge = 'MetaVerse'\n",
    "print(challenge.islower()) # False\n",
    "\n",
    "\n",
    "challenge = 'Python Is OOPs Lang'\n",
    "print(challenge.isupper()) #  False\n",
    "\n",
    "challenge = 'PYTHON VERSION'\n",
    "print(challenge.isupper()) # True"
   ]
  },
  {
   "cell_type": "code",
   "execution_count": null,
   "id": "e332d8a2",
   "metadata": {
    "scrolled": true
   },
   "outputs": [],
   "source": []
  },
  {
   "cell_type": "code",
   "execution_count": null,
   "id": "1effd258",
   "metadata": {
    "scrolled": true
   },
   "outputs": [],
   "source": [
    "# split(): Splits the string, using given string or space as a separator\n",
    "\n",
    "challenge = 'python is interprted functional scripting language'\n",
    "print(challenge.split()) #str - list\n",
    "\n",
    "challenge = 'current,version,of,python,3.11'\n",
    "print(challenge.split(',')) #str --list"
   ]
  },
  {
   "cell_type": "code",
   "execution_count": null,
   "id": "64b03782",
   "metadata": {},
   "outputs": [],
   "source": [
    "name = \"Kumar Rajamoni\"\n",
    "\n",
    "print(name.split())\n",
    "\n",
    "name = \"A l e x\"\n",
    "print(name.split())"
   ]
  },
  {
   "cell_type": "code",
   "execution_count": null,
   "id": "b15fe280",
   "metadata": {},
   "outputs": [],
   "source": []
  },
  {
   "cell_type": "code",
   "execution_count": null,
   "id": "9210ac49",
   "metadata": {
    "scrolled": true
   },
   "outputs": [],
   "source": [
    "# read mutliple integers using input method\n",
    "\n",
    "a = int(input())\n",
    "print(a)"
   ]
  },
  {
   "cell_type": "code",
   "execution_count": null,
   "id": "6f207464",
   "metadata": {
    "scrolled": true
   },
   "outputs": [],
   "source": [
    "numbers = input()\n",
    "print(numbers)\n",
    "print(type(numbers))"
   ]
  },
  {
   "cell_type": "code",
   "execution_count": null,
   "id": "0ff91a83",
   "metadata": {
    "scrolled": true
   },
   "outputs": [],
   "source": [
    "print(numbers[0:2])"
   ]
  },
  {
   "cell_type": "code",
   "execution_count": null,
   "id": "00d4effb",
   "metadata": {
    "scrolled": true
   },
   "outputs": [],
   "source": [
    "\"10 203 30\"[0:2]"
   ]
  },
  {
   "cell_type": "code",
   "execution_count": null,
   "id": "016d7115",
   "metadata": {
    "scrolled": true
   },
   "outputs": [],
   "source": [
    "lstNum = numbers.split()\n",
    "print(lstNum)\n",
    "print(lstNum[2])"
   ]
  },
  {
   "cell_type": "code",
   "execution_count": null,
   "id": "aba33163",
   "metadata": {
    "scrolled": true
   },
   "outputs": [],
   "source": [
    "integerNum = input().split()\n",
    "\n",
    "print(integerNum)"
   ]
  },
  {
   "cell_type": "code",
   "execution_count": null,
   "id": "236b65f2",
   "metadata": {},
   "outputs": [],
   "source": [
    "even= [] \n",
    "for i in range(0,10,2):\n",
    "    even.append(i)\n",
    "    \n",
    "print(even)"
   ]
  },
  {
   "cell_type": "code",
   "execution_count": null,
   "id": "98d0b11f",
   "metadata": {},
   "outputs": [],
   "source": [
    "lstNum = input().split()\n",
    "\n",
    "print(lstNum)"
   ]
  },
  {
   "cell_type": "code",
   "execution_count": null,
   "id": "ee4eafd1",
   "metadata": {},
   "outputs": [],
   "source": [
    "integerNum =  map(int,input().split())\n",
    "\n",
    "integerNum = list(integerNum)\n",
    "print(integerNum)"
   ]
  },
  {
   "cell_type": "code",
   "execution_count": null,
   "id": "69410435",
   "metadata": {},
   "outputs": [],
   "source": [
    "syntax:\n",
    "    varName = map(fun,iterable)\n",
    "    fun : int , float , bool\n",
    "    iterable: list or tuple "
   ]
  },
  {
   "cell_type": "code",
   "execution_count": null,
   "id": "ccacc877",
   "metadata": {
    "scrolled": true
   },
   "outputs": [],
   "source": [
    "integerNum =  list(map(float,input().split()))#map(fun,iterable)--- return map object\n",
    "\n",
    "\n",
    "print(integerNum)"
   ]
  },
  {
   "cell_type": "code",
   "execution_count": null,
   "id": "91343076",
   "metadata": {},
   "outputs": [],
   "source": [
    "# basic way\n",
    "lst = []\n",
    "for i in range(3):\n",
    "    lst.append(int(input()))"
   ]
  },
  {
   "cell_type": "code",
   "execution_count": null,
   "id": "47cb27b1",
   "metadata": {},
   "outputs": [],
   "source": [
    "### basic way using lst indexing\n",
    "lst = [0]*3\n",
    "print(lst)\n",
    "for i in range(3):\n",
    "    lst[i] = int(input())\n",
    "print(lst)"
   ]
  },
  {
   "cell_type": "code",
   "execution_count": null,
   "id": "f093ba5e",
   "metadata": {},
   "outputs": [],
   "source": [
    "lst = []\n",
    "lst[0] = 10"
   ]
  },
  {
   "cell_type": "code",
   "execution_count": null,
   "id": "bd2c31e0",
   "metadata": {},
   "outputs": [],
   "source": []
  },
  {
   "cell_type": "code",
   "execution_count": null,
   "id": "bbb3b209",
   "metadata": {},
   "outputs": [],
   "source": []
  },
  {
   "cell_type": "code",
   "execution_count": null,
   "id": "8ce21cec",
   "metadata": {},
   "outputs": [],
   "source": [
    "print(lst)"
   ]
  },
  {
   "cell_type": "code",
   "execution_count": null,
   "id": "d219c216",
   "metadata": {
    "scrolled": true
   },
   "outputs": [],
   "source": [
    "# join(): Returns a concatenated string\n",
    "\n",
    "web_tech = ['HTML', 'CSS', 'JavaScript', 'React']\n",
    " \n",
    "result = ' '.join(web_tech) #list -- str\n",
    "print(result) "
   ]
  },
  {
   "cell_type": "code",
   "execution_count": null,
   "id": "6ace49fa",
   "metadata": {
    "scrolled": true
   },
   "outputs": [],
   "source": [
    "web_tech = ['HTML', 'CSS', 'JavaScript', 'React']\n",
    " \n",
    "result = '-->'.join(web_tech) #list -- str\n",
    "print(result) "
   ]
  },
  {
   "cell_type": "code",
   "execution_count": null,
   "id": "ebc3fc02",
   "metadata": {
    "scrolled": true
   },
   "outputs": [],
   "source": []
  },
  {
   "cell_type": "code",
   "execution_count": null,
   "id": "0c73398e",
   "metadata": {
    "scrolled": true
   },
   "outputs": [],
   "source": [
    "# Try to do revese of a String\n",
    "    note: don't apply slicing\n",
    "        \n"
   ]
  },
  {
   "cell_type": "code",
   "execution_count": null,
   "id": "bb745bef",
   "metadata": {},
   "outputs": [],
   "source": []
  },
  {
   "cell_type": "code",
   "execution_count": null,
   "id": "a66d3858",
   "metadata": {
    "scrolled": true
   },
   "outputs": [],
   "source": []
  },
  {
   "cell_type": "markdown",
   "id": "52e455f0",
   "metadata": {},
   "source": [
    "### Operators \n",
    "    - Python language supports several types of operators\n",
    "    - Operator is symbol which applies on operands \n",
    "        ex: a + b ==> a, b operands , + : operator.\n",
    "        \n",
    "### Assignment Operators.\n",
    "        Assignment operators are used to assign values to variables\n",
    "  \n",
    "  <img src = \"https://www.devopsschool.com/blog/wp-content/uploads/2020/08/assignment-operator-in-python.png\" height=\"600\" width=\"600\">"
   ]
  },
  {
   "cell_type": "code",
   "execution_count": null,
   "id": "ea911ba8",
   "metadata": {
    "scrolled": true
   },
   "outputs": [],
   "source": [
    "price = 12\n",
    "\n",
    "# increase 2rs \n",
    "price = price + 2\n",
    "\n",
    "# decrease 5 rs\n",
    "price = price - 5 \n",
    "\n",
    "\n",
    "print(price)"
   ]
  },
  {
   "cell_type": "code",
   "execution_count": null,
   "id": "3a362163",
   "metadata": {
    "scrolled": true
   },
   "outputs": [],
   "source": [
    "price = 12\n",
    "\n",
    "# increase 2rs \n",
    "price += 2 #price = price+2\n",
    "\n",
    "# decrease 5 \n",
    "price -= 5  #price = price - 5\n",
    "\n",
    "\n",
    "print(price)"
   ]
  },
  {
   "cell_type": "code",
   "execution_count": null,
   "id": "2b9483dd",
   "metadata": {
    "scrolled": true
   },
   "outputs": [],
   "source": []
  },
  {
   "cell_type": "markdown",
   "id": "3c70130a",
   "metadata": {},
   "source": [
    "### Arithmetic Operators:\n",
    "    - Used to perform arthimetic & mathmatical operations.\n",
    "    Addition(+): a + b\n",
    "    Subtraction(-): a - b\n",
    "    Multiplication(*): a * b\n",
    "    Division(/): a / b\n",
    "    Modulus(%): a % b\n",
    "    Floor division(//): a // b\n",
    "    Exponentiation(**): a ** b\n",
    "    \n",
    "<img src = \"https://www.devopsschool.com/blog/wp-content/uploads/2020/08/arithmetic-operation-in-python.png\" height=\"700\" width=\"700\">    "
   ]
  },
  {
   "cell_type": "code",
   "execution_count": null,
   "id": "915eb155",
   "metadata": {
    "scrolled": true
   },
   "outputs": [],
   "source": [
    "# Arithmetic Operations in Python\n",
    "# Integers\n",
    "\n",
    "print('Addition: ', 1 + 2)        # 3\n",
    "print('Subtraction: ', 2 - 1)     # 1\n",
    "print('Multiplication: ', 2 * 3)  # 6\n",
    "print ('Division: ', 4 / 2)       # 2.0  Division in Python gives floating number\n",
    "print('Division: ', 6 / 2)        # 3.0         \n",
    "print('Division: ', 7 / 2)        # 3.5\n",
    "print('Division without the remainder: ', 7 // 2)   # 3,  gives without the floating number or without the remaining\n",
    "print ('Division without the remainder: ',7 // 3)   # 2\n",
    "print('Modulus: ', 3 % 2)         # 1, Gives the remainder\n",
    "print('Exponentiation: ', 2 ** 3) # 8 it means 2 * 2 * 2"
   ]
  },
  {
   "cell_type": "code",
   "execution_count": null,
   "id": "92b0d4b4",
   "metadata": {
    "scrolled": true
   },
   "outputs": [],
   "source": [
    "# TASK \n",
    "How negative modulus \n",
    "How negtaive // integer division.\n",
    "\n",
    "will work?"
   ]
  },
  {
   "cell_type": "code",
   "execution_count": null,
   "id": "28c2b230",
   "metadata": {
    "scrolled": true
   },
   "outputs": [],
   "source": [
    "print(10%3) # 10 = 3*3+1\n",
    "print(5%2) # 5 = 2*2+1"
   ]
  },
  {
   "cell_type": "code",
   "execution_count": null,
   "id": "b13a672f",
   "metadata": {
    "scrolled": true
   },
   "outputs": [],
   "source": [
    "print(-5%2)"
   ]
  },
  {
   "cell_type": "code",
   "execution_count": null,
   "id": "ca0832b6",
   "metadata": {
    "scrolled": true
   },
   "outputs": [],
   "source": [
    "print(-10%3)"
   ]
  },
  {
   "cell_type": "code",
   "execution_count": null,
   "id": "dc8f3174",
   "metadata": {
    "scrolled": true
   },
   "outputs": [],
   "source": [
    "print(10//3)\n",
    "print(5//2)"
   ]
  },
  {
   "cell_type": "code",
   "execution_count": null,
   "id": "53cc951e",
   "metadata": {
    "scrolled": true
   },
   "outputs": [],
   "source": [
    "print(-10//3)\n",
    "print(-5//2)"
   ]
  },
  {
   "cell_type": "code",
   "execution_count": null,
   "id": "8884d607",
   "metadata": {
    "scrolled": true
   },
   "outputs": [],
   "source": []
  },
  {
   "cell_type": "code",
   "execution_count": null,
   "id": "3ed54962",
   "metadata": {
    "scrolled": true
   },
   "outputs": [],
   "source": [
    "# Floating numbers\n",
    "print('Floating Point Number, PI', 3.14)\n",
    "print('Floating Point Number, gravity', 9.81)"
   ]
  },
  {
   "cell_type": "code",
   "execution_count": null,
   "id": "59874dd8",
   "metadata": {
    "scrolled": true
   },
   "outputs": [],
   "source": []
  },
  {
   "cell_type": "code",
   "execution_count": null,
   "id": "7c97ad08",
   "metadata": {
    "scrolled": true
   },
   "outputs": [],
   "source": []
  },
  {
   "cell_type": "code",
   "execution_count": null,
   "id": "115ae783",
   "metadata": {
    "scrolled": true
   },
   "outputs": [],
   "source": [
    "# Complex numbers\n",
    "print('Complex number: ', 1 + 1j)\n",
    "print('Multiplying complex numbers: ',(1 + 1j) * (1 - 1j))"
   ]
  },
  {
   "cell_type": "code",
   "execution_count": null,
   "id": "ea89f173",
   "metadata": {
    "scrolled": true
   },
   "outputs": [],
   "source": []
  },
  {
   "cell_type": "code",
   "execution_count": null,
   "id": "cbc091e9",
   "metadata": {
    "scrolled": true
   },
   "outputs": [],
   "source": [
    "# Declaring the variable at the top first\n",
    "\n",
    "a = 3 # a is a variable name and 3 is an integer data type\n",
    "b = 2 # b is a variable name and 3 is an integer data type\n",
    "\n",
    "# Arithmetic operations and assigning the result to a variable\n",
    "total = a + b\n",
    "diff = a - b\n",
    "product = a * b\n",
    "division = a / b\n",
    "remainder = a % b\n",
    "floor_division = a // b\n",
    "exponential = a ** b\n",
    "\n",
    "# I should have used sum instead of total but sum is a built-in function - try to avoid overriding built-in functions\n",
    "print(total) # if you do not label your print with some string, you never know where the result is coming from\n",
    "print('a + b = ', total)\n",
    "print('a - b = ', diff)\n",
    "print('a * b = ', product)\n",
    "print('a / b = ', division)\n",
    "print('a % b = ', remainder)\n",
    "print('a // b = ', floor_division)\n",
    "print('a ** b = ', exponential)"
   ]
  },
  {
   "cell_type": "code",
   "execution_count": null,
   "id": "e8ed95ba",
   "metadata": {
    "scrolled": true
   },
   "outputs": [],
   "source": [
    "print(0/10)  #0/anything --> 0\n",
    "\n",
    "print(20/0) #anything/0 ---> undefined"
   ]
  },
  {
   "cell_type": "code",
   "execution_count": null,
   "id": "3ac5c215",
   "metadata": {
    "scrolled": true
   },
   "outputs": [],
   "source": [
    "print(10%3)\n",
    "\n",
    "print(25%2)\n",
    "\n",
    "print(4%4)\n",
    "\n",
    "print(50%100)\n",
    "\n",
    "print(10%0)"
   ]
  },
  {
   "cell_type": "code",
   "execution_count": null,
   "id": "e8c60f41",
   "metadata": {
    "scrolled": true
   },
   "outputs": [],
   "source": [
    "# NOTE : \n",
    "1. Numerator<Demo ---> Answer is Numerator\n",
    "2. Numerator == Demo --> 0\n",
    "3. Numerator> Demo (get remainder doing division method)\n",
    "4. Demo == 0 --> Raise Error"
   ]
  },
  {
   "cell_type": "code",
   "execution_count": null,
   "id": "5d6ddc7e",
   "metadata": {
    "scrolled": true
   },
   "outputs": [],
   "source": []
  },
  {
   "cell_type": "code",
   "execution_count": null,
   "id": "3acb823a",
   "metadata": {
    "scrolled": true
   },
   "outputs": [],
   "source": [
    "# Calculating area of a circle\n",
    "radius = 10                                 # radius of a circle\n",
    "area_of_circle = 3.14 * radius ** 2         # two * sign means exponent or power\n",
    "print('Area of a circle:', area_of_circle)\n",
    "\n",
    "# Calculating area of a rectangle\n",
    "length = 10\n",
    "width = 20\n",
    "area_of_rectangle = length * width\n",
    "print('Area of rectangle:', area_of_rectangle)\n",
    "\n",
    "# Calculating a weight of an object\n",
    "mass = 75\n",
    "gravity = 9.81\n",
    "weight = mass * gravity\n",
    "print(weight, 'N')                         # Adding unit to the weight\n",
    "\n",
    "# Calculate the density of a liquid\n",
    "mass = 75 # in Kg\n",
    "volume = 0.075 # in cubic meter\n",
    "density = mass / volume # 1000 Kg/m^3\n",
    "\n",
    "print(density)"
   ]
  },
  {
   "cell_type": "code",
   "execution_count": null,
   "id": "ee31e4b5",
   "metadata": {
    "scrolled": true
   },
   "outputs": [],
   "source": []
  },
  {
   "cell_type": "markdown",
   "id": "038b8fae",
   "metadata": {},
   "source": [
    "### Comparison Operators\n",
    "        - comparison operators to compare two values. We check if a value is greater or less or equal to other value. \n",
    "        - Result is always Either True or False\n",
    "        - Can be used to compare Values & Objects\n",
    "        - can be applied on integers , floats , strings\n",
    "        \n",
    " <img src = \"https://www.devopsschool.com/blog/wp-content/uploads/2020/08/relational-operator-in-python.png\" width=\"700\" height=\"700\">"
   ]
  },
  {
   "cell_type": "code",
   "execution_count": null,
   "id": "ff0ae1e5",
   "metadata": {
    "scrolled": true
   },
   "outputs": [],
   "source": []
  },
  {
   "cell_type": "code",
   "execution_count": null,
   "id": "c5929871",
   "metadata": {
    "scrolled": true
   },
   "outputs": [],
   "source": [
    "print(3 > 2)     # True, because 3 is greater than 2\n",
    "print(3 >= 2)    # True, because 3 is greater than 2\n",
    "print(3 < 2)     # False,  because 3 is greater than 2\n",
    "print(2 < 3)     # True, because 2 is less than 3\n",
    "print(2 <= 3)    # True, because 2 is less than 3\n",
    "print(3 == 2)    # False, because 3 is not equal to 2\n",
    "print(3 != 2)    # True, because 3 is not equal to 2\n",
    "\n",
    "\n",
    "print(len('mango') == len('avocado'))  # False\n",
    "print(len('mango') != len('avocado'))  # True\n",
    "print(len('mango') < len('avocado'))   # True\n",
    "print(len('milk') != len('meat'))      # False\n",
    "print(len('milk') == len('meat'))      # True\n",
    "print(len('tomato') == len('potato'))  # True\n",
    "print(len('python') > len('dragon'))   # False\n",
    "\n",
    "\n",
    "# Comparing something gives either a True or False\n",
    "\n",
    "print('True == True: ', True == True)\n",
    "print('True == False: ', True == False)\n",
    "print('False == False:', False == False)"
   ]
  },
  {
   "cell_type": "code",
   "execution_count": null,
   "id": "b5070b64",
   "metadata": {
    "scrolled": true
   },
   "outputs": [],
   "source": [
    "1. = is used for assignment \n",
    "ex: varName = value \n",
    "\n",
    "2. == is used for comparision \n",
    "ex: 10 ==12"
   ]
  },
  {
   "cell_type": "code",
   "execution_count": null,
   "id": "9f06ef23",
   "metadata": {
    "scrolled": true
   },
   "outputs": [],
   "source": [
    "print(10.2>6.5)"
   ]
  },
  {
   "cell_type": "code",
   "execution_count": null,
   "id": "bcc767f4",
   "metadata": {
    "scrolled": true
   },
   "outputs": [],
   "source": [
    "print('a'>'A')"
   ]
  },
  {
   "cell_type": "code",
   "execution_count": null,
   "id": "39aebd66",
   "metadata": {
    "scrolled": true
   },
   "outputs": [],
   "source": [
    "\n",
    "print(ord('a') , ord('A'))"
   ]
  },
  {
   "cell_type": "markdown",
   "id": "d5df3814",
   "metadata": {},
   "source": [
    "### Identity Operator \n",
    "        is: Returns true if both variables are the same object(x is y)\n",
    "        is not: Returns true if both variables are not the same object(x is not y)\n",
    "    \n",
    "### MemberShip Opeator\n",
    "        in: Returns True if the queried list contains a certain item(x in y)\n",
    "        not in: Returns True if the queried list doesn't have a certain item(x not in y)"
   ]
  },
  {
   "cell_type": "code",
   "execution_count": null,
   "id": "10b87118",
   "metadata": {
    "scrolled": true
   },
   "outputs": [],
   "source": [
    "print('1 is 1', 1 is 1)                   # True - because the data values are the same\n",
    "print('1 is not 2', 1 is not 2)           # True - because 1 is not 2\n",
    "print('A in Asabeneh', 'A' in 'Asabeneh') # True - A found in the string\n",
    "print('B in Asabeneh', 'B' in 'Asabeneh') # False - there is no uppercase B\n",
    "print('coding' in 'coding for all') # True - because coding for all has the word coding\n",
    "print('a in an:', 'a' in 'an')      # True\n",
    "print('4 is 2 ** 2:', 4 is 2 ** 2)   # True"
   ]
  },
  {
   "cell_type": "code",
   "execution_count": null,
   "id": "80dc0c6d",
   "metadata": {
    "scrolled": true
   },
   "outputs": [],
   "source": [
    "a = 10\n",
    "b = 10 \n",
    "print(a is b)\n",
    "print(a is not b)\n",
    "\n",
    "print(id(a) , id(b))\n",
    "b +=2\n",
    "print(id(a) , id(b))\n",
    "\n",
    "\n",
    "c = 30\n",
    "d = 56\n",
    "\n",
    "print(c is d)\n",
    "print(c is not d)\n",
    "\n",
    "print(id(c) , id(d))"
   ]
  },
  {
   "cell_type": "code",
   "execution_count": null,
   "id": "921ec390",
   "metadata": {
    "scrolled": true
   },
   "outputs": [],
   "source": [
    "a = 10 \n",
    "b = 10\n",
    "\n",
    "del a\n",
    "print(b)"
   ]
  },
  {
   "cell_type": "code",
   "execution_count": null,
   "id": "4f4ec527",
   "metadata": {},
   "outputs": [],
   "source": [
    "a = [10,20,30]\n",
    "b = [10,20,30]\n",
    "\n",
    "print(a is b)\n",
    "print(id(a), id(b))\n",
    "\n"
   ]
  },
  {
   "cell_type": "code",
   "execution_count": null,
   "id": "6968ea6a",
   "metadata": {
    "scrolled": true
   },
   "outputs": [],
   "source": [
    "print(\"Kumar\" in \"KUmar rajamoni\")"
   ]
  },
  {
   "cell_type": "code",
   "execution_count": null,
   "id": "c8bd6904",
   "metadata": {
    "scrolled": true
   },
   "outputs": [],
   "source": [
    "print(10 in [10,20,304,20])\n",
    "print(100 not in [10,20,304,20,100])"
   ]
  },
  {
   "cell_type": "code",
   "execution_count": null,
   "id": "dac1e905",
   "metadata": {
    "scrolled": true
   },
   "outputs": [],
   "source": [
    "print(\"age\" in {\"name\":\"John\",\"age\":30})\n",
    "# in operator on dictionary will search only keys"
   ]
  },
  {
   "cell_type": "code",
   "execution_count": null,
   "id": "1c028b35",
   "metadata": {
    "scrolled": true
   },
   "outputs": [],
   "source": []
  },
  {
   "cell_type": "markdown",
   "id": "d4dd5cc1",
   "metadata": {},
   "source": [
    "### Logical Operators\n",
    "    Logical operators are used to combine conditional statements:\n",
    "<img src = \"https://1.bp.blogspot.com/-k27I3cNB6zE/XYTAZv3C07I/AAAAAAAAAy0/KobVTHHhCJUVpg7D19HhI4ddrh0IU5GKgCLcBGAsYHQ/s1600/LogicalOperators.png\" height=\"600\" width=\"600\" > "
   ]
  },
  {
   "cell_type": "code",
   "execution_count": null,
   "id": "f8fae4a3",
   "metadata": {
    "scrolled": true
   },
   "outputs": [],
   "source": [
    "print(type(\"Kumar\"))\n",
    "\n",
    "\n",
    "print(type([\"Kumar\",\"Rajamoni\"]))"
   ]
  },
  {
   "cell_type": "code",
   "execution_count": null,
   "id": "4bbad6d4",
   "metadata": {
    "scrolled": true
   },
   "outputs": [],
   "source": [
    "name = \"fury\"\n",
    "passwd = 1234\n",
    "print(type(name),type(['fury'] ))\n",
    "\n",
    "\n",
    "print(name == ['fury'] and passwd == 1234) #both\n",
    "\n",
    "print(name ==\"fur\" or passwd == 1234) #atleast \n",
    "\n",
    "print(not (name ==\"fury\" and passwd==1234))"
   ]
  },
  {
   "cell_type": "code",
   "execution_count": null,
   "id": "67f348e5",
   "metadata": {
    "scrolled": true
   },
   "outputs": [],
   "source": []
  },
  {
   "cell_type": "code",
   "execution_count": null,
   "id": "75a49177",
   "metadata": {
    "scrolled": true
   },
   "outputs": [],
   "source": [
    "#login application \n",
    "\n",
    "database = {\"username\":\"kumar\",\"passwd\":\"kumar123\"}\n",
    "\n",
    "username = input(\"Enter the username: \")\n",
    "\n",
    "passwd = input(\"Enter the passsword: \")\n",
    "\n",
    "if username != database[\"username\"]:\n",
    "    print(\"Invalid username\")\n",
    "if passwd != database[\"passwd\"]:\n",
    "    print(\"Invalid passwd\")\n",
    "    \n",
    "if username == database[\"username\"] and passwd == database[\"passwd\"]:\n",
    "    print(\"Login Success\")\n",
    "\n",
    "else:\n",
    "    print(\"Invalid Creds\")\n",
    "    \n",
    "    "
   ]
  },
  {
   "cell_type": "code",
   "execution_count": null,
   "id": "451c5a33",
   "metadata": {
    "scrolled": true
   },
   "outputs": [],
   "source": []
  },
  {
   "cell_type": "code",
   "execution_count": null,
   "id": "7f10aba6",
   "metadata": {
    "scrolled": true
   },
   "outputs": [],
   "source": []
  },
  {
   "cell_type": "markdown",
   "id": "f0495cd8",
   "metadata": {},
   "source": [
    "###  Bitwise \n",
    "\n",
    "    Bitwise operator is used to compare the Binary bits \n",
    "\n",
    "    Operator \tName \tDescription\n",
    "\n",
    "    (& ) \tAND \tSets each bit to 1 if both bits are 1\n",
    "\n",
    "    (|) \tOR \tSets each bit to 1 if one of two bits is 1\n",
    "\n",
    "     (^)\tXOR \tSets each bit to 1 if both bits are different , otherwise 0\n",
    "\n",
    "    (~ ) \tNOT \tInverts all the bits (only for not operand)\n",
    "\n",
    "    A  B     AND  OR  NOT XOR\n",
    "    0 0     0    0     1    0\n",
    "    0 1     0    1     1    1\n",
    "    1 0     0    1     0    1\n",
    "    1 1     1    1     0    0"
   ]
  },
  {
   "cell_type": "code",
   "execution_count": null,
   "id": "623b6ddd",
   "metadata": {
    "scrolled": true
   },
   "outputs": [],
   "source": [
    "    \n",
    "print(bin(25))"
   ]
  },
  {
   "cell_type": "code",
   "execution_count": null,
   "id": "4b854800",
   "metadata": {
    "scrolled": true
   },
   "outputs": [],
   "source": [
    "#representing\n",
    "# 8 bit (0-255)\n",
    "\n",
    "#table \n",
    "\n",
    "loations : 7   |6  | 5 |4 | 3 | 2 | 1 |0 #2 powers locations 00000110\n",
    "\n",
    "values :   128 |64 |32 |16| 8 | 4 | 2  |1    min =0 max = 255\n",
    "\n",
    "    "
   ]
  },
  {
   "cell_type": "code",
   "execution_count": null,
   "id": "eda05c79",
   "metadata": {
    "scrolled": true
   },
   "outputs": [],
   "source": [
    "# bin() -- gives binary notation value of decimal no.\n",
    "print(bin(69))\n",
    "print(bin(20))\n",
    "print(bin(37))\n",
    "print(bin(57))\n",
    "print(bin(222))\n",
    "\n"
   ]
  },
  {
   "cell_type": "code",
   "execution_count": null,
   "id": "c5271a72",
   "metadata": {
    "scrolled": true
   },
   "outputs": [],
   "source": []
  },
  {
   "cell_type": "code",
   "execution_count": null,
   "id": "8f9d1faa",
   "metadata": {
    "scrolled": true
   },
   "outputs": [],
   "source": [
    "a = 3\n",
    "b = 4\n",
    "\n",
    "# 3 - 0 1  1\n",
    "# 4 - 1 0  0\n",
    "# -----------------\n",
    "#     0  0   0\n",
    "# \n",
    "## AND 000\n",
    "\n",
    "## OR 111\n",
    "\n",
    "##EXOR 111\n",
    "\n",
    "## NOT 100\n",
    "\n",
    "print(a & b)\n",
    "\n",
    "print(a | b)\n",
    "\n",
    "print(a ^ b)\n",
    "\n",
    "#sign bit \n",
    "\n",
    "#0 -ve\n",
    "#1 +ve"
   ]
  },
  {
   "cell_type": "code",
   "execution_count": null,
   "id": "32d335b7",
   "metadata": {
    "scrolled": true
   },
   "outputs": [],
   "source": []
  },
  {
   "cell_type": "code",
   "execution_count": null,
   "id": "a7612b85",
   "metadata": {
    "scrolled": true
   },
   "outputs": [],
   "source": [
    "a = 3 #011\n",
    "print(bin(a))\n",
    "    \n",
    "print(~a) #a=3 #100\n",
    "\n",
    "# 3 011\n",
    "#\n",
    "# invert\n",
    "# - (011+1) #doing the 1's compliment\n",
    "#- 100 = -4\n"
   ]
  },
  {
   "cell_type": "code",
   "execution_count": null,
   "id": "529c74ea",
   "metadata": {
    "scrolled": true
   },
   "outputs": [],
   "source": []
  },
  {
   "cell_type": "code",
   "execution_count": null,
   "id": "33cf729d",
   "metadata": {
    "scrolled": true
   },
   "outputs": [],
   "source": [
    "# Right Shift \n",
    "\n",
    "# Bitwise right shift: Shifts the bits of the number to the right and fills 0 on voids left as a result. \n",
    "# Similar effect as of dividing the number with some power of two.\n",
    "# n//2^bits\n",
    "\n",
    "a = 10\n",
    "print(a>>2)\n",
    "\n",
    "#00001010 =>10\n",
    "# after shifting 2bits to the Right\n",
    "\n",
    "#00000010 =>2\n",
    "\n",
    "# 00000010\n",
    "\n"
   ]
  },
  {
   "cell_type": "code",
   "execution_count": null,
   "id": "b38155c9",
   "metadata": {
    "scrolled": true
   },
   "outputs": [],
   "source": [
    "print(10//(2**2))"
   ]
  },
  {
   "cell_type": "code",
   "execution_count": null,
   "id": "8f98b4bb",
   "metadata": {
    "scrolled": true
   },
   "outputs": [],
   "source": [
    "#left shift\n",
    "\n",
    "# Bitwise left shift: Shifts the bits of the number to the left and fills 0 on voids right as a result. \n",
    "# Similar effect as of multiplying the number with some power of two.\n",
    "\n",
    "# n*2^bits\n",
    "# 10*2**2\n",
    "\n",
    "a = 10\n",
    "print(a<<2)\n",
    "\n",
    "# 8bit\n",
    "#00001010 =>10\n",
    "#00010100 = 20\n",
    "\n",
    "# after shifting 1 bit to the left\n",
    "\n",
    "#00010100 =>20\n"
   ]
  },
  {
   "cell_type": "code",
   "execution_count": null,
   "id": "85ac50c8",
   "metadata": {
    "scrolled": true
   },
   "outputs": [],
   "source": [
    "print(10*(2**2))"
   ]
  },
  {
   "cell_type": "code",
   "execution_count": null,
   "id": "4bd70c48",
   "metadata": {
    "scrolled": true
   },
   "outputs": [],
   "source": [
    "exp = 10 -20*2\n",
    "print(exp)"
   ]
  },
  {
   "cell_type": "markdown",
   "id": "1afba7aa",
   "metadata": {},
   "source": [
    "### Operator Precedence\n",
    "\n",
    "- When dealing with operators in Python we have to know about the concept of Python operator precedence and associativity \n",
    "- as these determine the priorities of the operator otherwise, we’ll see unexpected outputs.\n",
    "\n",
    "#### Operator Precedence:\n",
    "        This is used in an expression with more than one operator with different precedence to determine which operation to perform first\n",
    "\n",
    "\n",
    "<img src = \"https://learningmonkey.in/wp-content/uploads/2021/05/Operator-Precedence-and-Associativity-in-Python.jpg\">\n"
   ]
  },
  {
   "cell_type": "code",
   "execution_count": null,
   "id": "ce83224a",
   "metadata": {
    "scrolled": true
   },
   "outputs": [],
   "source": []
  },
  {
   "cell_type": "code",
   "execution_count": null,
   "id": "516d187d",
   "metadata": {
    "scrolled": true
   },
   "outputs": [],
   "source": [
    "print(10+20*30/10)"
   ]
  },
  {
   "cell_type": "code",
   "execution_count": null,
   "id": "5f933ba3",
   "metadata": {
    "scrolled": true
   },
   "outputs": [],
   "source": [
    "a = (10+20) * 30/10\n",
    "\n",
    "print(a)\n"
   ]
  },
  {
   "cell_type": "code",
   "execution_count": null,
   "id": "06c996ba",
   "metadata": {
    "scrolled": true
   },
   "outputs": [],
   "source": [
    "a =  2+3*8/2-10**4%2//10\n",
    "\n",
    "print(a)"
   ]
  },
  {
   "cell_type": "code",
   "execution_count": null,
   "id": "4c9f813a",
   "metadata": {
    "scrolled": true
   },
   "outputs": [],
   "source": []
  },
  {
   "cell_type": "code",
   "execution_count": null,
   "id": "c4796e57",
   "metadata": {
    "scrolled": true
   },
   "outputs": [],
   "source": [
    "name = \"Ak\"\n",
    "age = 0\n",
    "  \n",
    "if name == \"Ak\" or name == \"John\" and age >= 2 : \n",
    "  print(\"Hello! Welcome.\")\n",
    "else :\n",
    "  print(\"Good Bye!!\")\n"
   ]
  },
  {
   "cell_type": "code",
   "execution_count": null,
   "id": "6e45886d",
   "metadata": {
    "scrolled": true
   },
   "outputs": [],
   "source": []
  },
  {
   "cell_type": "code",
   "execution_count": null,
   "id": "0ee0cde9",
   "metadata": {
    "scrolled": true
   },
   "outputs": [],
   "source": [
    "name = \"Ak\"\n",
    "age = 0\n",
    "  \n",
    "if ( name == \"Ak\" or name == \"John\" ) and age >= 2 :\n",
    "  print(\"Hello! Welcome.\")\n",
    "else :\n",
    "  print(\"Good Bye!!\")"
   ]
  },
  {
   "cell_type": "code",
   "execution_count": null,
   "id": "304fb840",
   "metadata": {
    "scrolled": true
   },
   "outputs": [],
   "source": []
  },
  {
   "cell_type": "markdown",
   "id": "d211b0f9",
   "metadata": {},
   "source": [
    "##### Operator Associativity: \n",
    "    If an expression contains two or more operators with the same precedence then Operator Associativity is used to determine. \n",
    "        It can either be Left to Right or from Right to Left."
   ]
  },
  {
   "cell_type": "code",
   "execution_count": null,
   "id": "1c84e229",
   "metadata": {
    "scrolled": true
   },
   "outputs": [],
   "source": [
    "print(200 / 10 * 10)"
   ]
  },
  {
   "cell_type": "code",
   "execution_count": null,
   "id": "e23928ad",
   "metadata": {
    "scrolled": true
   },
   "outputs": [],
   "source": [
    "print(5 - 2 + 3)"
   ]
  },
  {
   "cell_type": "code",
   "execution_count": null,
   "id": "95ea6ea7",
   "metadata": {
    "scrolled": true
   },
   "outputs": [],
   "source": [
    "#right to left\n",
    "print(2 ** 3 ** 2)"
   ]
  },
  {
   "cell_type": "markdown",
   "id": "fb91b63e",
   "metadata": {},
   "source": [
    "### doubts"
   ]
  },
  {
   "cell_type": "code",
   "execution_count": null,
   "id": "181012ef",
   "metadata": {
    "scrolled": true
   },
   "outputs": [],
   "source": [
    "a = 10\n",
    "b = 10\n",
    "print(a is b)\n",
    "del a \n",
    "print(b)\n"
   ]
  },
  {
   "cell_type": "code",
   "execution_count": null,
   "id": "2ae126c6",
   "metadata": {},
   "outputs": [],
   "source": [
    "a=10\n",
    "c = a\n",
    "\n",
    "# print(a is c)\n",
    "del a\n",
    "\n",
    "print(c)\n",
    "print(a)"
   ]
  },
  {
   "cell_type": "code",
   "execution_count": null,
   "id": "f4d0e2aa",
   "metadata": {},
   "outputs": [],
   "source": [
    "lst = [10,20]\n",
    "\n",
    "lst2 = lst\n",
    "print(lst)\n",
    "\n",
    "del lst\n",
    "print(lst2)\n",
    "print(lst)"
   ]
  },
  {
   "cell_type": "code",
   "execution_count": null,
   "id": "b4196c71",
   "metadata": {},
   "outputs": [],
   "source": [
    "a = 10+2j\n",
    "\n",
    "b = str(a)\n",
    "\n",
    "print(b,type(b))\n",
    "print(b[0])"
   ]
  },
  {
   "cell_type": "code",
   "execution_count": null,
   "id": "bbd407cc",
   "metadata": {},
   "outputs": [],
   "source": [
    "name = \"Kumar\"\n",
    "\n",
    "print(name)"
   ]
  },
  {
   "cell_type": "code",
   "execution_count": null,
   "id": "fc2af191",
   "metadata": {},
   "outputs": [],
   "source": [
    "print(str(a),type(a))"
   ]
  },
  {
   "cell_type": "code",
   "execution_count": null,
   "id": "1dba8dad",
   "metadata": {},
   "outputs": [],
   "source": [
    "a = str(a)\n",
    "\n",
    "print(a,type(a))"
   ]
  },
  {
   "cell_type": "code",
   "execution_count": null,
   "id": "f1fd1fed",
   "metadata": {},
   "outputs": [],
   "source": []
  },
  {
   "cell_type": "code",
   "execution_count": null,
   "id": "c1c869a9",
   "metadata": {},
   "outputs": [],
   "source": [
    "name = \"Ravi\"\n",
    "\n",
    "print(name[0:])\n",
    "print(name[-1:])"
   ]
  },
  {
   "cell_type": "code",
   "execution_count": null,
   "id": "c9bf48e7",
   "metadata": {},
   "outputs": [],
   "source": [
    "language = \"Python OOP's\"\n",
    "\n",
    "print(len(language))\n",
    "last_three = language[-3::-1]\n",
    "print(last_three)\n",
    "print(language[12])"
   ]
  },
  {
   "cell_type": "code",
   "execution_count": null,
   "id": "0adb7ca2",
   "metadata": {},
   "outputs": [],
   "source": [
    "list(range(0,20,2))"
   ]
  },
  {
   "cell_type": "code",
   "execution_count": null,
   "id": "be34e96c",
   "metadata": {},
   "outputs": [],
   "source": [
    "print(last_three)"
   ]
  },
  {
   "cell_type": "code",
   "execution_count": null,
   "id": "02439ba6",
   "metadata": {},
   "outputs": [],
   "source": [
    "for i in range(0,len(language),1):\n",
    "    print(i,language[i])"
   ]
  },
  {
   "cell_type": "code",
   "execution_count": null,
   "id": "4b6eaab9",
   "metadata": {},
   "outputs": [],
   "source": [
    "name = \"Ravi Teja\"\n",
    "\n",
    "print(name.find(\"z\"))\n",
    "print(name.rfind(\"z\"))"
   ]
  },
  {
   "cell_type": "code",
   "execution_count": null,
   "id": "68fb2fcd",
   "metadata": {},
   "outputs": [],
   "source": [
    "name = \"Ravi Teja\"\n",
    "\n",
    "print(name.index(\"vi\",2))\n",
    "print(name.rindex(\"a\"))"
   ]
  },
  {
   "cell_type": "code",
   "execution_count": null,
   "id": "40af8b0c",
   "metadata": {},
   "outputs": [],
   "source": [
    "a = 4\n",
    "b = 3\n",
    "print('{1} + {0} = {2}'.format(a, b, a + b,a-b,a*b,a/b))\n"
   ]
  },
  {
   "cell_type": "code",
   "execution_count": null,
   "id": "a05cf638",
   "metadata": {},
   "outputs": [],
   "source": [
    "sub_string = \"vi\"\n",
    "print(name.index(sub_string,3)) #error\n"
   ]
  },
  {
   "cell_type": "code",
   "execution_count": null,
   "id": "50a8e886",
   "metadata": {},
   "outputs": [],
   "source": [
    "challenge = '\\u00A3'\n",
    "print(challenge)\n",
    "print(challenge.isdigit())   # True\n"
   ]
  },
  {
   "cell_type": "code",
   "execution_count": null,
   "id": "4412111a",
   "metadata": {},
   "outputs": [],
   "source": [
    "name = \"Rav      Teja\"\n",
    "print(name.strip(\"v\"))\n",
    "print(len(name))\n",
    "print(len(name.strip()))"
   ]
  },
  {
   "cell_type": "code",
   "execution_count": null,
   "id": "2615290c",
   "metadata": {},
   "outputs": [],
   "source": [
    "name = \"Kumar Rajamoni\"\n",
    "print(name.strip(\"K\"))"
   ]
  },
  {
   "cell_type": "code",
   "execution_count": null,
   "id": "a98f9933",
   "metadata": {},
   "outputs": [],
   "source": [
    "1. expandstab()\n",
    "\n",
    "\n"
   ]
  },
  {
   "cell_type": "code",
   "execution_count": null,
   "id": "af4a12ff",
   "metadata": {},
   "outputs": [],
   "source": [
    "name = \"Ravi\".split()"
   ]
  },
  {
   "cell_type": "code",
   "execution_count": null,
   "id": "90e57bd7",
   "metadata": {},
   "outputs": [],
   "source": [
    "print(name)\n",
    "name.reverse()\n",
    "print(name)"
   ]
  },
  {
   "cell_type": "code",
   "execution_count": null,
   "id": "6096a33f",
   "metadata": {},
   "outputs": [],
   "source": [
    "print(\"\".join(name))"
   ]
  },
  {
   "cell_type": "code",
   "execution_count": null,
   "id": "8a65268c",
   "metadata": {},
   "outputs": [],
   "source": [
    "name = \"Radha\"\n",
    "\n",
    "print(reversed(name))\n",
    "print(\"\".join(reversed(name)))"
   ]
  },
  {
   "cell_type": "code",
   "execution_count": null,
   "id": "7520ecc8",
   "metadata": {},
   "outputs": [],
   "source": [
    "dup = \"\"\n",
    "\n",
    "for i in range(0,len(name)):\n",
    "    dup=name[i]+dup\n",
    "print(dup)"
   ]
  },
  {
   "cell_type": "code",
   "execution_count": null,
   "id": "7a14a205",
   "metadata": {},
   "outputs": [],
   "source": [
    "\"\"+\"R\" --> \"R\"\n",
    "\"a\"+\"R\" -->\"aR\"\n",
    "\"d\"+\"aR\" -->\"daR\"\n",
    "\"h\"+\"daR\"--> \"hdaR\""
   ]
  }
 ],
 "metadata": {
  "kernelspec": {
   "display_name": "Python 3",
   "language": "python",
   "name": "python3"
  },
  "language_info": {
   "codemirror_mode": {
    "name": "ipython",
    "version": 3
   },
   "file_extension": ".py",
   "mimetype": "text/x-python",
   "name": "python",
   "nbconvert_exporter": "python",
   "pygments_lexer": "ipython3",
   "version": "3.8.8"
  }
 },
 "nbformat": 4,
 "nbformat_minor": 5
}
