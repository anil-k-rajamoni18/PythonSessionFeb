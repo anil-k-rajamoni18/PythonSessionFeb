{
 "cells": [
  {
   "cell_type": "code",
   "execution_count": 1,
   "id": "b3bdb962",
   "metadata": {},
   "outputs": [
    {
     "name": "stdout",
     "output_type": "stream",
     "text": [
      "Addition is :  20\n"
     ]
    }
   ],
   "source": [
    "num1 = 10\n",
    "\n",
    "num2 = 10\n",
    "\n",
    "result = num1+num2 \n",
    "\n",
    "print(\"Addition is : \", result)"
   ]
  },
  {
   "cell_type": "code",
   "execution_count": 2,
   "id": "43703783",
   "metadata": {},
   "outputs": [
    {
     "name": "stdout",
     "output_type": "stream",
     "text": [
      "Hello \n",
      "World \n"
     ]
    }
   ],
   "source": [
    "print(\"Hello \")\n",
    "print(\"World \")"
   ]
  },
  {
   "cell_type": "code",
   "execution_count": 3,
   "id": "354268bb",
   "metadata": {},
   "outputs": [
    {
     "name": "stdout",
     "output_type": "stream",
     "text": [
      "40\n"
     ]
    }
   ],
   "source": [
    "a = 10\n",
    "b = 30\n",
    "print(a + b)"
   ]
  },
  {
   "cell_type": "markdown",
   "id": "1cd96406",
   "metadata": {},
   "source": [
    "# Python Shortcuts discussion\n",
    "\n",
    "    - Python installation\n",
    "    \n",
    "#### Workspace setup completed\n",
    "\n",
    "*python demo*"
   ]
  },
  {
   "cell_type": "code",
   "execution_count": 4,
   "id": "4bd35260",
   "metadata": {},
   "outputs": [
    {
     "name": "stdout",
     "output_type": "stream",
     "text": [
      "hello\n"
     ]
    }
   ],
   "source": [
    "print(\"hello\")"
   ]
  },
  {
   "cell_type": "code",
   "execution_count": null,
   "id": "496115ec",
   "metadata": {},
   "outputs": [],
   "source": []
  },
  {
   "cell_type": "code",
   "execution_count": null,
   "id": "b234255d",
   "metadata": {},
   "outputs": [],
   "source": []
  },
  {
   "cell_type": "markdown",
   "id": "20165689",
   "metadata": {},
   "source": [
    "- This is the jupter notebook session\n",
    "- discussing reg shortcuts\n",
    "\n",
    "# Heading1\n",
    "## Heading2\n",
    "\n",
    "### Heading3\n",
    "#### Heading4"
   ]
  },
  {
   "cell_type": "markdown",
   "id": "a24418cb",
   "metadata": {},
   "source": [
    " - jupyter shortcuts \n",
    " - discussing edit mode and esc mode\n",
    " # Python Learn\n",
    " ### Python learn\n",
    " ##### Python learn\n",
    " __python__"
   ]
  },
  {
   "cell_type": "code",
   "execution_count": null,
   "id": "94f52257",
   "metadata": {},
   "outputs": [],
   "source": []
  },
  {
   "cell_type": "code",
   "execution_count": null,
   "id": "7b3ede09",
   "metadata": {},
   "outputs": [],
   "source": []
  },
  {
   "cell_type": "markdown",
   "id": "cbe2b55f",
   "metadata": {},
   "source": []
  },
  {
   "cell_type": "code",
   "execution_count": null,
   "id": "12539705",
   "metadata": {},
   "outputs": [],
   "source": []
  },
  {
   "cell_type": "code",
   "execution_count": null,
   "id": "ac548976",
   "metadata": {},
   "outputs": [],
   "source": []
  },
  {
   "cell_type": "markdown",
   "id": "79169d31",
   "metadata": {},
   "source": []
  },
  {
   "cell_type": "code",
   "execution_count": null,
   "id": "fe926395",
   "metadata": {},
   "outputs": [],
   "source": []
  },
  {
   "cell_type": "code",
   "execution_count": null,
   "id": "ba685a1a",
   "metadata": {},
   "outputs": [],
   "source": []
  },
  {
   "cell_type": "code",
   "execution_count": null,
   "id": "d7012cc6",
   "metadata": {},
   "outputs": [],
   "source": []
  },
  {
   "cell_type": "code",
   "execution_count": null,
   "id": "c60a8ef2",
   "metadata": {},
   "outputs": [],
   "source": [
    "a=10\n",
    "b=30\n",
    "print(a/b)"
   ]
  },
  {
   "cell_type": "markdown",
   "id": "cba47106",
   "metadata": {},
   "source": [
    "### Jupyter shortcuts\n",
    "- Shift + Enter =  Running\n",
    "- Two Modes\n",
    "    - ESC/ Command Mode (Blue)\n",
    "    - Edit (Green)\n",
    " - Copy = c\n",
    " - Paste = v\n",
    " - Deletion = X\n",
    " - Addition of cells below = b\n",
    " - Addition of cells above = a\n",
    " - undo the cell deletion = z\n",
    " \n",
    " \n",
    "#### Writing the notes\n",
    "- enter into the command mode(ESC)\n",
    "- press M (markdown)\n",
    "- You can write the notes only in markdown (mode)"
   ]
  },
  {
   "cell_type": "markdown",
   "id": "db10e774",
   "metadata": {},
   "source": []
  },
  {
   "cell_type": "markdown",
   "id": "4354d2cb",
   "metadata": {},
   "source": [
    "<img src=\"https://images.unsplash.com/photo-1665513325776-c6bbe99b1a79?ixlib=rb-1.2.1&ixid=MnwxMjA3fDB8MHxwaG90by1wYWdlfHx8fGVufDB8fHx8&auto=format&fit=crop&w=1171&q=80\" width =\"500\" height=500 >"
   ]
  },
  {
   "cell_type": "markdown",
   "id": "3685347a",
   "metadata": {},
   "source": [
    "<img src = \"https://contentstatic.techgig.com/thumb/msid-78330904,width-460,resizemode-4/5-Reasons-why-you-should-learn-Python-programming-language-in-2020.jpg?132269\" >"
   ]
  },
  {
   "cell_type": "code",
   "execution_count": null,
   "id": "896008f3",
   "metadata": {},
   "outputs": [],
   "source": []
  },
  {
   "cell_type": "markdown",
   "id": "04c27097",
   "metadata": {},
   "source": [
    "<img src = \"https://cdn-wordpress-info.futurelearn.com/info/wp-content/uploads/1.5-What-Is-Programming.gif\" width = \"800\" height = \"400\">"
   ]
  },
  {
   "cell_type": "code",
   "execution_count": null,
   "id": "d4ea84a1",
   "metadata": {},
   "outputs": [],
   "source": []
  },
  {
   "cell_type": "markdown",
   "id": "e01bcb72",
   "metadata": {},
   "source": [
    "### Print() method"
   ]
  },
  {
   "cell_type": "code",
   "execution_count": null,
   "id": "0d316ace",
   "metadata": {},
   "outputs": [],
   "source": []
  },
  {
   "cell_type": "code",
   "execution_count": null,
   "id": "89493109",
   "metadata": {},
   "outputs": [],
   "source": []
  },
  {
   "cell_type": "code",
   "execution_count": null,
   "id": "ea5c0de2",
   "metadata": {},
   "outputs": [],
   "source": []
  }
 ],
 "metadata": {
  "kernelspec": {
   "display_name": "Python 3",
   "language": "python",
   "name": "python3"
  },
  "language_info": {
   "codemirror_mode": {
    "name": "ipython",
    "version": 3
   },
   "file_extension": ".py",
   "mimetype": "text/x-python",
   "name": "python",
   "nbconvert_exporter": "python",
   "pygments_lexer": "ipython3",
   "version": "3.8.8"
  }
 },
 "nbformat": 4,
 "nbformat_minor": 5
}
