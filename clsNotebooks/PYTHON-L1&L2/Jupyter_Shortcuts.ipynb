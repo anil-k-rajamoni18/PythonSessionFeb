{
 "cells": [
  {
   "cell_type": "code",
   "execution_count": 1,
   "id": "b3bdb962",
   "metadata": {},
   "outputs": [
    {
     "name": "stdout",
     "output_type": "stream",
     "text": [
      "Addition is :  20\n"
     ]
    }
   ],
   "source": [
    "num1 = 10\n",
    "\n",
    "num2 = 10\n",
    "\n",
    "result = num1+num2 \n",
    "\n",
    "print(\"Addition is : \", result)"
   ]
  },
  {
   "cell_type": "code",
   "execution_count": 2,
   "id": "43703783",
   "metadata": {},
   "outputs": [
    {
     "name": "stdout",
     "output_type": "stream",
     "text": [
      "Hello \n",
      "World \n"
     ]
    }
   ],
   "source": [
    "print(\"Hello \")\n",
    "print(\"World \")"
   ]
  },
  {
   "cell_type": "code",
   "execution_count": 2,
   "id": "3c62dabd",
   "metadata": {},
   "outputs": [
    {
     "name": "stdout",
     "output_type": "stream",
     "text": [
      "Hello \n",
      "World \n"
     ]
    }
   ],
   "source": [
    "print(\"Hello \")\n",
    "print(\"World \")"
   ]
  },
  {
   "cell_type": "code",
   "execution_count": 2,
   "id": "5339589e",
   "metadata": {},
   "outputs": [
    {
     "name": "stdout",
     "output_type": "stream",
     "text": [
      "Hello \n",
      "World \n"
     ]
    }
   ],
   "source": [
    "print(\"Hello \")\n",
    "print(\"World \")"
   ]
  },
  {
   "cell_type": "code",
   "execution_count": 2,
   "id": "75870a9c",
   "metadata": {},
   "outputs": [
    {
     "name": "stdout",
     "output_type": "stream",
     "text": [
      "Hello \n",
      "World \n"
     ]
    }
   ],
   "source": [
    "print(\"Hello \")\n",
    "print(\"World \")"
   ]
  },
  {
   "cell_type": "code",
   "execution_count": 2,
   "id": "867bc539",
   "metadata": {},
   "outputs": [
    {
     "name": "stdout",
     "output_type": "stream",
     "text": [
      "Hello \n",
      "World \n"
     ]
    }
   ],
   "source": [
    "print(\"Hello \")\n",
    "print(\"World \")"
   ]
  },
  {
   "cell_type": "markdown",
   "id": "1cd96406",
   "metadata": {},
   "source": [
    "# Python Shortcuts discussion\n",
    "\n",
    "    - Python installation\n",
    "    \n",
    "#### Workspace setup completed\n",
    "\n",
    "*python demo*"
   ]
  },
  {
   "cell_type": "code",
   "execution_count": 3,
   "id": "4bd35260",
   "metadata": {},
   "outputs": [
    {
     "name": "stdout",
     "output_type": "stream",
     "text": [
      "hello\n"
     ]
    }
   ],
   "source": [
    "print(\"hello\")"
   ]
  },
  {
   "cell_type": "code",
   "execution_count": null,
   "id": "496115ec",
   "metadata": {},
   "outputs": [],
   "source": []
  },
  {
   "cell_type": "markdown",
   "id": "a33edc1c",
   "metadata": {},
   "source": [
    "print(\"hello\")\n",
    "skhd\n",
    "djkhkjd\n",
    "dnkjkd\n",
    "## dhjd\n",
    "\n",
    "### dkhkd\n",
    "\n",
    "**hello**"
   ]
  },
  {
   "cell_type": "markdown",
   "id": "20165689",
   "metadata": {},
   "source": [
    "- This is the jupter notebook session\n",
    "- discussing reg shortcuts\n",
    "\n",
    "# Heading1\n",
    "## Heading2\n",
    "\n",
    "### Heading3\n",
    "#### Heading4"
   ]
  },
  {
   "cell_type": "markdown",
   "id": "a24418cb",
   "metadata": {},
   "source": [
    " - jupyter shortcuts \n",
    " - discussing edit mode and esc mode\n",
    " # Python Learn\n",
    " ### Python learn\n",
    " ##### Python learn\n",
    " __python__"
   ]
  },
  {
   "cell_type": "code",
   "execution_count": null,
   "id": "94f52257",
   "metadata": {},
   "outputs": [],
   "source": []
  },
  {
   "cell_type": "code",
   "execution_count": null,
   "id": "7b3ede09",
   "metadata": {},
   "outputs": [],
   "source": []
  },
  {
   "cell_type": "markdown",
   "id": "cbe2b55f",
   "metadata": {},
   "source": []
  },
  {
   "cell_type": "code",
   "execution_count": null,
   "id": "12539705",
   "metadata": {},
   "outputs": [],
   "source": []
  },
  {
   "cell_type": "code",
   "execution_count": null,
   "id": "ac548976",
   "metadata": {},
   "outputs": [],
   "source": []
  },
  {
   "cell_type": "markdown",
   "id": "79169d31",
   "metadata": {},
   "source": []
  },
  {
   "cell_type": "code",
   "execution_count": null,
   "id": "fe926395",
   "metadata": {},
   "outputs": [],
   "source": []
  },
  {
   "cell_type": "code",
   "execution_count": null,
   "id": "ba685a1a",
   "metadata": {},
   "outputs": [],
   "source": []
  },
  {
   "cell_type": "code",
   "execution_count": null,
   "id": "d7012cc6",
   "metadata": {},
   "outputs": [],
   "source": []
  },
  {
   "cell_type": "code",
   "execution_count": null,
   "id": "c60a8ef2",
   "metadata": {},
   "outputs": [],
   "source": [
    "a=10\n",
    "b=30\n",
    "print(a/b)"
   ]
  },
  {
   "cell_type": "markdown",
   "id": "cba47106",
   "metadata": {},
   "source": [
    "### Jupyter shortcuts\n",
    "- Shift + Enter =  Running\n",
    "- Two Modes\n",
    "    - ESC/ Command Mode (Blue)\n",
    "    - Edit (Green)\n",
    " - Copy = c\n",
    " - Paste = v\n",
    " - Deletion = X\n",
    " - Addition of cells below = b\n",
    " - Addition of cells above = a\n",
    " - undo the cell deletion = z\n",
    " \n",
    " \n",
    "#### Writing the notes\n",
    "- enter into the command mode(ESC)\n",
    "- press M (markdown)\n",
    "- You can write the notes only in markdown (mode)"
   ]
  },
  {
   "cell_type": "markdown",
   "id": "db10e774",
   "metadata": {},
   "source": []
  },
  {
   "cell_type": "markdown",
   "id": "4354d2cb",
   "metadata": {},
   "source": [
    "<img src=\"https://images.unsplash.com/photo-1665513325776-c6bbe99b1a79?ixlib=rb-1.2.1&ixid=MnwxMjA3fDB8MHxwaG90by1wYWdlfHx8fGVufDB8fHx8&auto=format&fit=crop&w=1171&q=80\" width =\"500\" height=500 >"
   ]
  },
  {
   "cell_type": "markdown",
   "id": "3685347a",
   "metadata": {},
   "source": [
    "<img src = \"https://contentstatic.techgig.com/thumb/msid-78330904,width-460,resizemode-4/5-Reasons-why-you-should-learn-Python-programming-language-in-2020.jpg?132269\" >"
   ]
  },
  {
   "cell_type": "code",
   "execution_count": null,
   "id": "896008f3",
   "metadata": {},
   "outputs": [],
   "source": [
    "print()"
   ]
  },
  {
   "cell_type": "markdown",
   "id": "04c27097",
   "metadata": {},
   "source": [
    "<img src = \"https://cdn-wordpress-info.futurelearn.com/info/wp-content/uploads/1.5-What-Is-Programming.gif\" width = \"800\" height = \"400\">"
   ]
  },
  {
   "cell_type": "code",
   "execution_count": null,
   "id": "d4ea84a1",
   "metadata": {},
   "outputs": [],
   "source": []
  },
  {
   "cell_type": "markdown",
   "id": "e01bcb72",
   "metadata": {},
   "source": [
    "### print() method\n",
    "    - used for printing output on console/screen/mointor\n",
    "    \n",
    "    **syntax:**\n",
    "    \n",
    "     print(value, ..., sep=' ', end='\\n', file=sys.stdout, flush=False)\n",
    "     \n",
    "     attributes\n",
    "         value\n",
    "         sep = ' '\n",
    "         end= '\\n' (newline)\n",
    "         file=sys.stdout (screen)\n",
    "         flush=False\n",
    "     "
   ]
  },
  {
   "cell_type": "code",
   "execution_count": 9,
   "id": "032fe575",
   "metadata": {},
   "outputs": [
    {
     "name": "stdout",
     "output_type": "stream",
     "text": [
      "am learning print method today\n"
     ]
    }
   ],
   "source": [
    "print(\"am learning print method today\")"
   ]
  },
  {
   "cell_type": "code",
   "execution_count": 14,
   "id": "c613f259",
   "metadata": {},
   "outputs": [
    {
     "name": "stdout",
     "output_type": "stream",
     "text": [
      "10\n",
      "10.555\n",
      "(10+2j)\n",
      "my name is kumar\n",
      "True\n"
     ]
    }
   ],
   "source": [
    "print(10) \n",
    "print(10.555)\n",
    "print(10+2j)\n",
    "print(\"my name is kumar\")\n",
    "print(True)"
   ]
  },
  {
   "cell_type": "code",
   "execution_count": 17,
   "id": "f2e0867e",
   "metadata": {},
   "outputs": [
    {
     "name": "stdout",
     "output_type": "stream",
     "text": [
      "5.0\n"
     ]
    }
   ],
   "source": [
    "print(1+2/5*10)"
   ]
  },
  {
   "cell_type": "code",
   "execution_count": 18,
   "id": "e51850f3",
   "metadata": {},
   "outputs": [
    {
     "name": "stdout",
     "output_type": "stream",
     "text": [
      "kumar\n",
      "56\n",
      "python\n"
     ]
    }
   ],
   "source": [
    "name = \"kumar\"\n",
    "age = 56\n",
    "course = \"python\"\n",
    "\n",
    "print(name)\n",
    "print(age)\n",
    "print(course)"
   ]
  },
  {
   "cell_type": "code",
   "execution_count": 21,
   "id": "d2752109",
   "metadata": {},
   "outputs": [
    {
     "name": "stdout",
     "output_type": "stream",
     "text": [
      "kumar 56 python\n"
     ]
    }
   ],
   "source": [
    "print(name,age,course)"
   ]
  },
  {
   "cell_type": "code",
   "execution_count": 31,
   "id": "c6ba760d",
   "metadata": {},
   "outputs": [
    {
     "name": "stdout",
     "output_type": "stream",
     "text": [
      "kumar\n",
      "56\n",
      "python\n"
     ]
    }
   ],
   "source": [
    "print(name,age,course,sep=\"\\n\")"
   ]
  },
  {
   "cell_type": "code",
   "execution_count": 33,
   "id": "daec4890",
   "metadata": {},
   "outputs": [
    {
     "name": "stdout",
     "output_type": "stream",
     "text": [
      "Python\n",
      "Python\n",
      "Python\n",
      "Python\n"
     ]
    }
   ],
   "source": [
    "#FOR LOOP\n",
    "\n",
    "for i in range(4):\n",
    "    print(\"Python\") #end=\"\\n\""
   ]
  },
  {
   "cell_type": "code",
   "execution_count": 37,
   "id": "02c8cf9a",
   "metadata": {},
   "outputs": [
    {
     "name": "stdout",
     "output_type": "stream",
     "text": [
      "Python\t \t Python\t \t Python\t \t Python\t \t "
     ]
    }
   ],
   "source": [
    "for i in range(4):\n",
    "    print(\"Python\",end=\"\\t \\t \")"
   ]
  },
  {
   "cell_type": "code",
   "execution_count": 42,
   "id": "40397f43",
   "metadata": {},
   "outputs": [],
   "source": [
    "simple = open(\"demo,.txt\",mode=\"a\")\n",
    "\n",
    "print(\"Hello Python\",file=simple)\n"
   ]
  },
  {
   "cell_type": "code",
   "execution_count": null,
   "id": "047df2c5",
   "metadata": {},
   "outputs": [],
   "source": []
  },
  {
   "cell_type": "code",
   "execution_count": 43,
   "id": "3ffc38ff",
   "metadata": {},
   "outputs": [
    {
     "name": "stdout",
     "output_type": "stream",
     "text": [
      "hello python\n",
      "None\n"
     ]
    }
   ],
   "source": [
    "a = print(\"hello python\")\n",
    "print(a)"
   ]
  },
  {
   "cell_type": "code",
   "execution_count": 44,
   "id": "b6732c3a",
   "metadata": {},
   "outputs": [
    {
     "name": "stdout",
     "output_type": "stream",
     "text": [
      "hey hi\n",
      "None\n"
     ]
    }
   ],
   "source": [
    "print(print(\"hey hi\"))"
   ]
  },
  {
   "cell_type": "code",
   "execution_count": 45,
   "id": "5642a32d",
   "metadata": {},
   "outputs": [
    {
     "name": "stdout",
     "output_type": "stream",
     "text": [
      "hello\n",
      "\n",
      "\n",
      "\n",
      "feb session\n"
     ]
    }
   ],
   "source": [
    "print(\"hello\")\n",
    "print()\n",
    "print()\n",
    "print()\n",
    "print(\"feb session\")"
   ]
  },
  {
   "cell_type": "code",
   "execution_count": 2,
   "id": "25040d0f",
   "metadata": {},
   "outputs": [
    {
     "name": "stdout",
     "output_type": "stream",
     "text": [
      "హలో వరల్డ్\n"
     ]
    }
   ],
   "source": [
    "greet = \"హలో వరల్డ్\"\n",
    "print(greet)"
   ]
  },
  {
   "cell_type": "code",
   "execution_count": 3,
   "id": "277debe4",
   "metadata": {},
   "outputs": [],
   "source": [
    "name = \"Kumar Rajamoni\"\n",
    "fname = \"రామ్\"\n",
    "lname = \"కృష్ణుడు\"\n",
    "greet = \"नमस्ते\""
   ]
  },
  {
   "cell_type": "code",
   "execution_count": 4,
   "id": "5b8886a5",
   "metadata": {},
   "outputs": [
    {
     "name": "stdout",
     "output_type": "stream",
     "text": [
      "Kumar Rajamoniరామ్\n"
     ]
    }
   ],
   "source": [
    "print(name+fname)"
   ]
  },
  {
   "cell_type": "code",
   "execution_count": null,
   "id": "439346eb",
   "metadata": {},
   "outputs": [],
   "source": []
  }
 ],
 "metadata": {
  "kernelspec": {
   "display_name": "Python 3",
   "language": "python",
   "name": "python3"
  },
  "language_info": {
   "codemirror_mode": {
    "name": "ipython",
    "version": 3
   },
   "file_extension": ".py",
   "mimetype": "text/x-python",
   "name": "python",
   "nbconvert_exporter": "python",
   "pygments_lexer": "ipython3",
   "version": "3.8.8"
  }
 },
 "nbformat": 4,
 "nbformat_minor": 5
}
