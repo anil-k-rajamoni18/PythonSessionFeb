{
 "cells": [
  {
   "cell_type": "markdown",
   "id": "2c787a00",
   "metadata": {},
   "source": [
    "### LOOPING QUESTIONS\n",
    "\n",
    "- Sorting Algorithms \n",
    "    - bubble sort\n",
    "    - insertion sort\n",
    "    - heap sort\n",
    "    \n",
    "- Searching Algorithms\n",
    "    - linear search\n",
    "    - binary search\n",
    "    \n",
    "- GENERAL \n",
    "    - sum of N natural numbers\n",
    "    - finding a factorial of N \n",
    "    - Fib Series \n",
    "    - checking a prime number\n",
    "    - filtering the data from nested Datatypes"
   ]
  },
  {
   "cell_type": "markdown",
   "id": "9d78680e",
   "metadata": {},
   "source": [
    "### Searching Algorithms\n",
    "\n",
    "##### Linear Search \n",
    " -  Linear search is the simplest method for searching.\n",
    " -  In Linear search technique of searching; the element to be found is searched sequentially in the list.\n",
    " \n",
    " <img src = \"https://media.geeksforgeeks.org/wp-content/cdn-uploads/Linear-Search.png\">\n",
    " \n",
    " \n"
   ]
  },
  {
   "cell_type": "code",
   "execution_count": null,
   "id": "a5505dcc",
   "metadata": {},
   "outputs": [],
   "source": []
  }
 ],
 "metadata": {
  "kernelspec": {
   "display_name": "Python 3",
   "language": "python",
   "name": "python3"
  },
  "language_info": {
   "codemirror_mode": {
    "name": "ipython",
    "version": 3
   },
   "file_extension": ".py",
   "mimetype": "text/x-python",
   "name": "python",
   "nbconvert_exporter": "python",
   "pygments_lexer": "ipython3",
   "version": "3.8.8"
  }
 },
 "nbformat": 4,
 "nbformat_minor": 5
}
