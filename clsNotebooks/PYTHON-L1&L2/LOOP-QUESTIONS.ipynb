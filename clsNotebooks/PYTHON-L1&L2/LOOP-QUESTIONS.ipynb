{
 "cells": [
  {
   "cell_type": "markdown",
   "id": "2c787a00",
   "metadata": {},
   "source": [
    "### LOOPING QUESTIONS\n",
    "\n",
    "- Sorting Algorithms \n",
    "    - bubble sort\n",
    "    - insertion sort\n",
    "    - heap sort\n",
    "    \n",
    "- Searching Algorithms\n",
    "    - linear search\n",
    "    - binary search\n",
    "    \n",
    "- GENERAL \n",
    "    - sum of N natural numbers\n",
    "    - finding a factorial of N \n",
    "    - Fib Series \n",
    "    - checking a prime number\n",
    "    - filtering the data from nested Datatypes"
   ]
  },
  {
   "cell_type": "markdown",
   "id": "bdb002c1",
   "metadata": {},
   "source": [
    "### Searching Algorithms\n",
    "\n"
   ]
  }
 ],
 "metadata": {
  "kernelspec": {
   "display_name": "Python 3",
   "language": "python",
   "name": "python3"
  },
  "language_info": {
   "codemirror_mode": {
    "name": "ipython",
    "version": 3
   },
   "file_extension": ".py",
   "mimetype": "text/x-python",
   "name": "python",
   "nbconvert_exporter": "python",
   "pygments_lexer": "ipython3",
   "version": "3.8.8"
  }
 },
 "nbformat": 4,
 "nbformat_minor": 5
}
